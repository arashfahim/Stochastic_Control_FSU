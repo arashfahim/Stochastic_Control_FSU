{
 "cells": [
  {
   "cell_type": "markdown",
   "id": "3ebd46f4",
   "metadata": {},
   "source": [
    "# Solving linear equation with Feynmann-Kac"
   ]
  },
  {
   "cell_type": "code",
   "execution_count": null,
   "id": "283b6585",
   "metadata": {},
   "outputs": [],
   "source": []
  },
  {
   "cell_type": "code",
   "execution_count": 73,
   "id": "1a2b3c",
   "metadata": {},
   "outputs": [],
   "source": [
    "import numpy as np\n",
    "import time\n",
    "import matplotlib\n",
    "import matplotlib.pyplot as plt\n",
    "plt.style.use('seaborn-v0_8-darkgrid')\n",
    "\n",
    "import matplotlib.font_manager as font_manager\n",
    "import matplotlib.patches as patches\n",
    "font = font_manager.FontProperties(style='normal', size=20)\n",
    "plt.rc('text', usetex=True)\n",
    "plt.rc('text.latex', preamble=r'\\usepackage{amsmath}')\n",
    "import torch\n",
    "import torch.nn as nn\n",
    "import torch.nn.functional as F\n",
    "import torch.optim as optim\n",
    "torch.set_default_dtype(torch.float32) # improved the speed when the parameters are float32\n",
    "import random\n",
    "\n",
    "import json\n",
    "\n",
    "from IPython.display import display, Math, Markdown\n",
    "\n",
    "import datetime\n",
    "import os\n",
    "timestamp = datetime.datetime.now().strftime(\"%Y-%m-%d_%H-%M\")\n",
    "timestamp\n",
    "version = '_0.1.0'\n",
    "import math\n",
    "PI = math.pi"
   ]
  },
  {
   "cell_type": "markdown",
   "id": "a8dcb7e6",
   "metadata": {},
   "source": [
    "# Wiener process\n",
    "\n",
    "$$\\begin{cases}\n",
    "V_t+\\frac{1}{2}\\Delta V + f(x) = 0\\\\\n",
    "V(T,x)=g(x)\\end{cases}$$\n",
    "\n",
    "Approximate $V(0,0)$ when $C(x)= \\begin{cases}1-|x|&x\\in[-1,1]\\\\ 0& \\text{otherwise}\\end{cases}$ and $g(x)=1\\!\\!1_{[-1,1]}$\n",
    "\n",
    "\n",
    "\n",
    "$$V(0,x)=\\mathbb{E}\\left[\\int_0^T C(r,X_r){{dr}}+g(X_T)\\Big|X_0=x\\right]$$"
   ]
  },
  {
   "cell_type": "code",
   "execution_count": null,
   "id": "3b5f324b",
   "metadata": {},
   "outputs": [],
   "source": []
  }
 ],
 "metadata": {
  "kernelspec": {
   "display_name": "base",
   "language": "python",
   "name": "python3"
  },
  "language_info": {
   "codemirror_mode": {
    "name": "ipython",
    "version": 3
   },
   "file_extension": ".py",
   "mimetype": "text/x-python",
   "name": "python",
   "nbconvert_exporter": "python",
   "pygments_lexer": "ipython3",
   "version": "3.12.2"
  }
 },
 "nbformat": 4,
 "nbformat_minor": 5
}
