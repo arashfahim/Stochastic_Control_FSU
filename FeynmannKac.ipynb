{
 "cells": [
  {
   "cell_type": "markdown",
   "id": "3ebd46f4",
   "metadata": {},
   "source": [
    "# Solving linear equation with Feynmann-Kac"
   ]
  },
  {
   "cell_type": "code",
   "execution_count": 2,
   "id": "1a2b3c",
   "metadata": {},
   "outputs": [],
   "source": [
    "import numpy as np\n",
    "import time\n",
    "import matplotlib\n",
    "import matplotlib.pyplot as plt\n",
    "plt.style.use('seaborn-v0_8-darkgrid')\n",
    "\n",
    "import matplotlib.font_manager as font_manager\n",
    "import matplotlib.patches as patches\n",
    "font = font_manager.FontProperties(style='normal', size=20)\n",
    "plt.rc('text', usetex=True)\n",
    "plt.rc('text.latex', preamble=r'\\usepackage{amsmath}')\n",
    "import torch\n",
    "import torch.nn as nn\n",
    "import torch.nn.functional as F\n",
    "import torch.optim as optim\n",
    "torch.set_default_dtype(torch.float32) # improved the speed when the parameters are float32\n",
    "import random\n",
    "\n",
    "import json\n",
    "\n",
    "from IPython.display import display, Math, Markdown\n",
    "\n",
    "import datetime\n",
    "import os\n",
    "timestamp = datetime.datetime.now().strftime(\"%Y-%m-%d_%H-%M\")\n",
    "timestamp\n",
    "version = '_0.1.0'\n",
    "import math\n",
    "PI = math.pi"
   ]
  },
  {
   "cell_type": "markdown",
   "id": "a8dcb7e6",
   "metadata": {},
   "source": [
    "# Wiener process\n",
    "\n",
    "$$\\begin{cases}\n",
    "V_t+\\frac{1}{2}\\Delta V + C(x) = 0\\\\\n",
    "V(T,x)=g(x)\\end{cases}$$\n",
    "\n",
    "Approximate $V(0,0)$ when $C(x)= \\begin{cases}1-|x|&x\\in[-1,1]\\\\ 0& \\text{otherwise}\\end{cases}$ and $g(x)=1\\!\\!1_{[-1,1]}$\n",
    "\n",
    "\n",
    "\n",
    "$$V(0,x)=\\mathbb{E}\\left[\\int_0^T C(X_r){{dr}}+g(X_T)\\Big|X_0=x\\right]\\approx\\frac{1}{J}\\Big(\\sum_{n=0}^{N-1} C(\\hat{X}_{t_n}^j)\\Delta t+g(\\hat{X}_T^j)\\Big)$$\n",
    "\n",
    "\n",
    "Take $T=1$\n",
    "\n"
   ]
  },
  {
   "cell_type": "markdown",
   "id": "3b5f324b",
   "metadata": {},
   "source": [
    "## First do the approximation for $x=0$"
   ]
  },
  {
   "cell_type": "code",
   "execution_count": 44,
   "id": "b8075606",
   "metadata": {},
   "outputs": [],
   "source": [
    "N = 10 # number of time steps\n",
    "T = 1.0 # terminal time\n",
    "dt = T/N # time step\n",
    "num_samples = 1_000 # Modify the number of samples\n",
    "x0 = 2*torch.rand([num_samples,1]) -1 # initial condition uniformly random in [-1,1]\n",
    "dW = torch.sqrt(torch.tensor(dt))*torch.randn([num_samples,N+1,1]) # Brownian increments\n",
    "dW[:,0,:]=1.0 # first increment is zero\n",
    "W = torch.cumsum(dW, dim=1) # Brownian paths\n",
    "\n",
    "def running_cost(x):\n",
    "    return torch.max(torch.zeros_like(x), 1 - torch.abs(x))*dt\n",
    "\n",
    "def terminal_cost(x):\n",
    "    y = torch.zeros_like(x)\n",
    "    for i in range(x.shape[0]):\n",
    "        if x[i]<1 and x[i]>-1:\n",
    "            y[i]=1\n",
    "    return y"
   ]
  },
  {
   "cell_type": "code",
   "execution_count": 45,
   "id": "73d2db0e",
   "metadata": {},
   "outputs": [
    {
     "data": {
      "text/plain": [
       "tensor(0.6546)"
      ]
     },
     "execution_count": 45,
     "metadata": {},
     "output_type": "execute_result"
    }
   ],
   "source": [
    "torch.mean(torch.sum(running_cost(W[:,:-1,:]), dim=1) + terminal_cost(W[:,-1,:]))"
   ]
  },
  {
   "cell_type": "markdown",
   "id": "534fb202",
   "metadata": {},
   "source": [
    "## Next do the approximation for $[-10,10]$"
   ]
  },
  {
   "cell_type": "markdown",
   "id": "6af9f04c",
   "metadata": {},
   "source": []
  }
 ],
 "metadata": {
  "kernelspec": {
   "display_name": "base",
   "language": "python",
   "name": "python3"
  },
  "language_info": {
   "codemirror_mode": {
    "name": "ipython",
    "version": 3
   },
   "file_extension": ".py",
   "mimetype": "text/x-python",
   "name": "python",
   "nbconvert_exporter": "python",
   "pygments_lexer": "ipython3",
   "version": "3.12.2"
  }
 },
 "nbformat": 4,
 "nbformat_minor": 5
}
