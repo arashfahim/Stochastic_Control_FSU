{
  "cells": [
    {
      "cell_type": "markdown",
      "id": "06c92111",
      "metadata": {
        "colab_type": "text",
        "id": "view-in-github"
      },
      "source": [
        "<a href=\"https://colab.research.google.com/github/arashfahim/Stochastic_Control_FSU/blob/main/control_loss.ipynb\" target=\"_parent\"><img src=\"https://colab.research.google.com/assets/colab-badge.svg\" alt=\"Open In Colab\"/></a>"
      ]
    },
    {
      "cell_type": "markdown",
      "id": "a8162df4",
      "metadata": {
        "id": "a8162df4"
      },
      "source": [
        "# Modules\n",
        "\n",
        "functions and file names such as ```my_file.py``` use lowercase letters and ```_```."
      ]
    },
    {
      "cell_type": "code",
      "execution_count": null,
      "id": "176899bd",
      "metadata": {
        "id": "176899bd"
      },
      "outputs": [],
      "source": [
        "def step_loss(t,x,model):\n",
        "    # fix concatinate t and x before plugging it into the model\n",
        "    T = torch.ones_like(x)*t*dt\n",
        "    tx = torch.concat((T,x),dim=1)\n",
        "    u = model(tx)\n",
        "    return torch.mean(x**2+x+u**2)*dt\n",
        "\n",
        "def total_loss(model):\n",
        "    x = x0\n",
        "    running_cost = 0.0\n",
        "    for t in range(N):\n",
        "        # fix concatinate t and x before plugging it into the model\n",
        "        T = torch.ones_like(x)*t*dt\n",
        "        tx = torch.concat((T,x),dim=1)\n",
        "        u = model(tx)\n",
        "        running_cost = running_cost + step_loss(t,x,model)\n",
        "        x = update(t,x,u)\n",
        "    terminal_cost = torch.mean(x**2 - x)\n",
        "    total_loss = running_cost + terminal_cost\n",
        "    return total_loss"
      ]
    },
    {
      "cell_type": "markdown",
      "id": "27e7b1bb",
      "metadata": {
        "id": "27e7b1bb"
      },
      "source": [
        "# GLOBAL VARIABLES\n",
        "\n",
        "Global variables use all caps.\n",
        "\n",
        "```GOLDEN_RATIO = (1+np.sqrt(5))/2 ```"
      ]
    },
    {
      "cell_type": "code",
      "execution_count": null,
      "id": "d9430a5f",
      "metadata": {
        "id": "d9430a5f"
      },
      "outputs": [],
      "source": [
        "import numpy as np\n",
        "GOLDEN_RATION = (1+np.sqrt(5))/2"
      ]
    },
    {
      "cell_type": "markdown",
      "id": "8f91ed80",
      "metadata": {
        "id": "8f91ed80"
      },
      "source": [
        "# Classes\n",
        "\n",
        "CapWords"
      ]
    },
    {
      "cell_type": "code",
      "execution_count": null,
      "id": "fcc03335",
      "metadata": {
        "id": "fcc03335"
      },
      "outputs": [],
      "source": [
        "class MyClass:\n",
        "    def __init__(self, value):\n",
        "        self.value = value\n",
        "\n",
        "m = MyClass(10)"
      ]
    },
    {
      "cell_type": "markdown",
      "id": "687318ba",
      "metadata": {
        "id": "687318ba"
      },
      "source": [
        "# Exceptions"
      ]
    },
    {
      "cell_type": "code",
      "execution_count": null,
      "id": "f39c7b50",
      "metadata": {
        "id": "f39c7b50"
      },
      "outputs": [],
      "source": [
        "class CustomError(Exception):\n",
        "    def __init__(self, message):\n",
        "        super().__init__(message)\n",
        "\n",
        "# Creating an instance of CustomError\n",
        "custom_exception = CustomError(\"This is a custom error message\")\n",
        "\n",
        "# Catching and handling the exception\n",
        "try:\n",
        "    x = int(input(\"\"))\n",
        "    # break\n",
        "    raise custom_exception\n",
        "except CustomError as ce:\n",
        "    print(f\"Caught a custom exception: {ce}\")"
      ]
    },
    {
      "cell_type": "markdown",
      "id": "d1e6dd68",
      "metadata": {
        "id": "d1e6dd68"
      },
      "source": [
        "# Other considerations\n",
        "\n",
        "- Don't write loose codes. Always wrap your code in a function.\n",
        "\n",
        "- Write codes top down.Write the most important pieces first by assuming smaller parts are established."
      ]
    },
    {
      "cell_type": "markdown",
      "id": "9bc010a2",
      "metadata": {
        "id": "9bc010a2"
      },
      "source": []
    }
  ],
  "metadata": {
    "colab": {
      "include_colab_link": true,
      "provenance": []
    },
    "kernelspec": {
      "display_name": "base",
      "language": "python",
      "name": "python3"
    },
    "language_info": {
      "codemirror_mode": {
        "name": "ipython",
        "version": 3
      },
      "file_extension": ".py",
      "mimetype": "text/x-python",
      "name": "python",
      "nbconvert_exporter": "python",
      "pygments_lexer": "ipython3",
      "version": "3.12.2"
    }
  },
  "nbformat": 4,
  "nbformat_minor": 5
}
