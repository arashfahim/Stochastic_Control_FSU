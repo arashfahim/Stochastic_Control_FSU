{
  "cells": [
    {
      "cell_type": "markdown",
      "metadata": {
        "colab_type": "text",
        "id": "view-in-github"
      },
      "source": [
        "<a href=\"https://colab.research.google.com/github/arashfahim/Stochastic_Control_FSU/blob/main/Deep_BSDE.ipynb\" target=\"_parent\"><img src=\"https://colab.research.google.com/assets/colab-badge.svg\" alt=\"Open In Colab\"/></a>"
      ]
    },
    {
      "cell_type": "code",
      "execution_count": 13,
      "metadata": {
        "colab": {
          "base_uri": "https://localhost:8080/"
        },
        "id": "uYpsD_vHtIpa",
        "outputId": "5dcbdf02-7a9e-4f3a-e95d-9c7278cb88ab"
      },
      "outputs": [],
      "source": [
        "# !git clone https://github.com/arashfahim/Stochastic_Control_FSU"
      ]
    },
    {
      "cell_type": "code",
      "execution_count": 14,
      "metadata": {
        "colab": {
          "base_uri": "https://localhost:8080/"
        },
        "id": "VcK8F3qLthk9",
        "outputId": "c8a7e6f5-1bb9-4d54-90ab-4cee184755a6"
      },
      "outputs": [],
      "source": [
        "# ! ls -l"
      ]
    },
    {
      "cell_type": "code",
      "execution_count": 15,
      "metadata": {
        "id": "gDKJJU8n5db3"
      },
      "outputs": [],
      "source": [
        "# path = r'/content/Stochastic_Control_FSU/arashfahim/Stochastic_Control_FSU/'"
      ]
    },
    {
      "cell_type": "code",
      "execution_count": 16,
      "metadata": {
        "colab": {
          "base_uri": "https://localhost:8080/"
        },
        "id": "ix4wczxVvVD8",
        "outputId": "0204497b-d094-4889-84f7-e38910dcf118"
      },
      "outputs": [],
      "source": [
        "# # mount google drive\n",
        "# from google.colab import drive\n",
        "# drive.mount('/content/drive')"
      ]
    },
    {
      "cell_type": "markdown",
      "metadata": {
        "id": "Hq2eZ_d-UDNp"
      },
      "source": [
        "# Sotchastic control and BSDEs\n",
        "\n",
        "The goal of this notebook is to implement a BSDE dynamic programming principle, DPP, for a stochastic control problem.\n",
        "\n",
        "The stochastic control problem is given by\n",
        "\n",
        "$\\inf_{u}\\mathbb{E}\\bigg[\\int_{0}^{T}e^{-rt}C(t,X^u_t,u_t)dt+e^{-rT}g(X^u_T)\\bigg]$\n",
        "\n",
        "with\n",
        "\n",
        "$dX^u_t=\\mu(t,X^u_t,u_t)dt+\\sigma(t,X^u_t,u_t)dB_t$\n",
        "\n"
      ]
    },
    {
      "cell_type": "markdown",
      "metadata": {
        "id": "JP7f4T78Uqvg"
      },
      "source": [
        "We assume that $\\sigma$ does not depend on $u$. When $\\sigma$ depends on $u$, the BSDE is second order and more involve.\n",
        "\n",
        "$dX^u_t=\\mu(t,X^u_t,u_t)dt+\\sigma(t,X^u_t)dB_t$\n",
        "\n",
        "The HJB is given by\n",
        "\n",
        "$\\begin{cases}\n",
        "\\partial_t V(t,x) + \\frac{\\sigma^2(t,x)}{2}\\partial^2_x V(t,x) -rV(t,x) + F(t,x,\\partial_x V(t,x))=0\\\\\n",
        "V(T,x)=g(x)\n",
        "\\end{cases}$\n",
        "\n",
        "where\n",
        "\n",
        "$F(t,x,p)=\\inf_u\\Big\\{C(t,x,u)+p\\mu(t,x,u)\\Big\\}$\n",
        "\n",
        "\n",
        "The BSDE is given by\n",
        "\n",
        "\n",
        "$Y_t=Y_T+\\int_t^T e^{-r(s-t)}\\Big(F(s,X_s,Z_s)dt-Z_s\\sigma(s,X_s)dB_s\\Big)$\n",
        "\n",
        "Or\n",
        "\n",
        "$\\begin{cases}\n",
        "dY_t=-F(t,X_t,Z_t)dt+Z_t\\sigma(t,X_t)dB_t\\\\\n",
        "Y_T=g(X_T)\n",
        "\\end{cases}$\n",
        "\n",
        "where $dX_t=\\sigma(t,X_t)dB_t$ is free of control.\n",
        "\n",
        "\n",
        "$Y_t$ and $Z_t$ are related to the solution to the HJB by $Y_t=V(t,X_t)$ and $Z_t=\\partial_x V(t,X_t)$.\n",
        "\n",
        "\n",
        "Note that here both $Y$ and $Z$ are unknowns. Particularly, $Y_0=V(0,X_0)$ is not known."
      ]
    },
    {
      "cell_type": "markdown",
      "metadata": {
        "id": "gWlxVOtcrwrM"
      },
      "source": [
        "# Numerical approximation of PDEs with BSDEs\n",
        "\n",
        "We discretize the BSDE:\n",
        "\n",
        "\n",
        "$\\begin{cases}\n",
        "Y_{t_{i+1}}= Y_{t_i}-F({t_i},X_{t_i},Z_{t_i})dt+Z_{t_i}\\sigma({t_i},X_{t_i})\\Delta B_{t_{t+1}}\\\\\n",
        "Y_T=g(X_T)\n",
        "\\end{cases}$\n",
        "\n",
        "where $X_{t_{i+1}}=X_{t_i}+\\sigma(t_i,X_{t_i})\\Delta B_{t_{t+1}}$\n",
        "\n",
        "If $\\hat{Y}$ is an approximate solution to the BSDE through the above method, $\\hat{Y}_{t_i}$ is an approximation of $V(t_i,X_{t_i})$. Specifically, if we start from  $\\hat{Y}_{0}$ and run the discretize BSDE forward, instead of backward, we must obtain $g(X_T)$ at time $T$.\n",
        "\n",
        "\n",
        "$\\begin{cases}\n",
        "Y_{t_{i+1}}= Y_{t_i}-F({t_i},X_{t_i},Z_{t_i})dt+Z_{t_i}\\sigma({t_i},X_{t_i})\\Delta B_{t_{t+1}}\\\\\n",
        "Y_0=\\Phi(t,x;\\alpha)\n",
        "\\end{cases}$\n",
        "\n",
        "\n",
        "This is a basis for the deep numerical solution for the BSDE. Let's introduce two neural networks ${\\hat Y}_{0}=\\Phi(x;\\alpha)$ and ${\\hat Z}_{t}=\\Psi(t,x;\\beta)$.\n",
        "\n",
        "\n",
        "Then, simulate $X_0$ by some distribution and increment of Brownina motion to find sample paths through ${\\hat X}_{t_{i+1}}={\\hat X}_{t_i}+\\sigma(t_i,{\\hat X}_{t_i})\\Delta B_{t_{t+1}}$.\n",
        "\n",
        "Then, run the BSDE discretization forward in time:\n",
        "\n",
        "\n",
        "$\\begin{cases}\n",
        "Y_{t_{i+1}}= Y_{t_i}-F({t_i},X_{t_i},\\Psi(t_{i},{\\hat X}_{t_i};\\beta))dt+\\Psi(t_{i},{\\hat X}_{t_i};\\beta)\\sigma({t_i},X_{t_i})\\Delta B_{t_{t+1}}\\\\\n",
        "Y_0=\\Phi(x;\\alpha)\n",
        "\\end{cases}$\n",
        "\n",
        "\n",
        "Finally, find optimal $\\alpha$ and $\\beta$ by\n",
        "\n",
        "$\\inf_{\\alpha,\\beta}\\mathbb{E}\\Big[\\Big(g({\\hat X}_T)-Y_T(\\alpha,\\beta)\\Big)^2\\Big]$"
      ]
    },
    {
      "cell_type": "code",
      "execution_count": 17,
      "metadata": {
        "id": "-Obh3NNKOTMI"
      },
      "outputs": [],
      "source": [
        "import torch\n",
        "import torch.nn as nn\n",
        "import pandas as pd\n",
        "import numpy as np\n",
        "import time\n",
        "from time import strftime, localtime\n",
        "import torch.optim as optim #import optimizer\n",
        "# import torch.optim.lr_scheduler as lr_scheduler\n",
        "import matplotlib\n",
        "import matplotlib.pyplot as plt\n",
        "from matplotlib.ticker import MaxNLocator\n",
        "from matplotlib import cm\n",
        "from mpl_toolkits.mplot3d import Axes3D\n",
        "\n",
        "M =10000# number of samples\n",
        "X = torch.normal(0., 1., size=(M,1))# samples for X~N(0,1)\n",
        "Y = torch.exp(-X)+torch.exp(X)*torch.normal(0., 1., size=(M,1))# samples for Y=e^{-x}+e^{x}N(0,1)\n",
        "# X.shape\n",
        "T=1# terminal horizon\n",
        "N = 10 # of time steps\n",
        "Dt= torch.Tensor([T/N])# time step size"
      ]
    },
    {
      "cell_type": "code",
      "execution_count": 18,
      "metadata": {
        "colab": {
          "base_uri": "https://localhost:8080/"
        },
        "id": "5hwEP5QcSA4n",
        "outputId": "c08cf5fa-715e-4d60-9f1e-5166fd8b180e"
      },
      "outputs": [
        {
          "name": "stdout",
          "output_type": "stream",
          "text": [
            "2024-06-24 10:50:43\n"
          ]
        }
      ],
      "source": [
        "# create time stamp to save the result\n",
        "stamp = strftime('%Y-%m-%d %H:%M:%S', localtime())\n",
        "print(str(stamp))"
      ]
    },
    {
      "cell_type": "markdown",
      "metadata": {
        "id": "HQI-rsqSiGQ-"
      },
      "source": [
        "## All at once"
      ]
    },
    {
      "cell_type": "code",
      "execution_count": 19,
      "metadata": {
        "id": "bDi5DZgc5DT9"
      },
      "outputs": [],
      "source": [
        "class terminal(nn.Module):\n",
        "    def __init__(self,flag,*args):\n",
        "        super(terminal, self).__init__()\n",
        "        self.layer = torch.nn.Sequential()\n",
        "        self.layer.add_module(\"L1\",torch.nn.Linear(1, 16))\n",
        "        self.layer.add_module(\"Tanh\", torch.nn.Tanh())\n",
        "        self.layer.add_module(\"L2\",torch.nn.Linear(16,1))\n",
        "        self.flag = flag\n",
        "    def forward(self, x):\n",
        "        if self.flag == 'T':\n",
        "            return torch.Tensor([0.5])*torch.pow(x,2)-x\n",
        "        else:\n",
        "            val = self.layer(x)\n",
        "            return val\n",
        "        return x"
      ]
    },
    {
      "cell_type": "code",
      "execution_count": 20,
      "metadata": {
        "id": "SIpEW8y9ztpK"
      },
      "outputs": [],
      "source": [
        "class Z_NN(nn.Module):#multi_step, optimal_control\n",
        "    def __init__(self):\n",
        "        super(Z_NN, self).__init__()\n",
        "        self.layer = torch.nn.Sequential()\n",
        "        self.layer.add_module(\"L1\",torch.nn.Linear(2, 16))\n",
        "        self.layer.add_module(\"Tanh\", torch.nn.Tanh())\n",
        "        self.layer.add_module(\"L2\",torch.nn.Linear(16,1))\n",
        "    def forward(self, tx):\n",
        "        val = self.layer(tx)\n",
        "        return val"
      ]
    },
    {
      "cell_type": "code",
      "execution_count": 21,
      "metadata": {
        "id": "LVLBBho925O3"
      },
      "outputs": [],
      "source": [
        "class Y_NN(nn.Module):#multi_step, optimal_control\n",
        "    def __init__(self):\n",
        "        super(Y_NN, self).__init__()\n",
        "        self.layer = torch.nn.Sequential()\n",
        "        self.layer.add_module(\"L1\",torch.nn.Linear(1, 16))\n",
        "        self.layer.add_module(\"Tanh\", torch.nn.Tanh())\n",
        "        self.layer.add_module(\"L2\",torch.nn.Linear(16,1))\n",
        "    def forward(self, tx):\n",
        "        val = self.layer(tx)\n",
        "        return val"
      ]
    },
    {
      "cell_type": "code",
      "execution_count": 22,
      "metadata": {
        "id": "bnapNc3rf26o"
      },
      "outputs": [],
      "source": [
        "class BSDE(classmethod):#multi_step, optimal_control\n",
        "    def __init__(self,terminal):\n",
        "        self.Y_NN = Y_NN()\n",
        "        self.Z_NN = Z_NN()\n",
        "        self.M = 10000# number of samples\n",
        "        self.Te=1.0 # terminal time\n",
        "        self.K = 20 # total number of steps\n",
        "        self.Dt= torch.Tensor([self.Te/self.K]) #time step\n",
        "        self.num_steps = 5 #number of steps to evaluate <= self.K\n",
        "        self.terminal = terminal # terminal value function\n",
        "        self.X0 = torch.normal(0., 1., size=(self.M,1))\n",
        "        for i in range(self.K):# create time data points\n",
        "            if i == 0:\n",
        "                T = torch.Tensor([0.0]).repeat([self.M,1])\n",
        "            else:\n",
        "                D = i*self.Dt# time step i\n",
        "                T = torch.cat((T,D.repeat([self.M,1])),axis=1)\n",
        "        self.T = T.unsqueeze(2)\n",
        "        self.B = torch.normal(0., 1., size=(self.M,self.K,1))\n",
        "        for i in range(self.K-self.num_steps,self.K):\n",
        "                if i == self.K-self.num_steps:\n",
        "                    update = torch.cat((self.T[:,i],self.X0),axis=1)# cat time and space\n",
        "                    self.TX = update.unsqueeze(-1) # add dimension for bmm\n",
        "                else:\n",
        "                    X = update[:,1].unsqueeze(-1)# slice space for update\n",
        "                    X = X +  torch.sqrt(self.Dt)*self.B[:,i-1] #update, += is prohibited here because it fundamentally change\n",
        "                    update = torch.cat((self.T[:,i],X),axis=1) # cat  time and space\n",
        "                    self.TX = torch.cat((self.TX,update.unsqueeze(-1)),axis=-1) # cat to previous data\n",
        "        X = update[:,1].unsqueeze(-1) #slice last space\n",
        "        X = X +  torch.sqrt(self.Dt)*self.B[:,-1]# last update, += is prohibited here\n",
        "        update = torch.cat((torch.Tensor([self.Te]).repeat([self.M,1]),X),axis=1) # last cat\n",
        "        self.TX = torch.cat((self.TX,update.unsqueeze(-1)),axis=-1) #last cat to previous data\n",
        "\n",
        "    def F(self,tx):#take a [N,1] tensor\n",
        "        # tx = torch.cat((t,x),axis=1)\n",
        "        return torch.Tensor([0.5])*torch.pow(self.Z_NN.forward(tx),2)-self.Z_NN.forward(tx)*(tx[:,1].unsqueeze(-1))\n",
        "\n",
        "    def loss(self):\n",
        "        for i in range(self.K-self.num_steps,self.K):\n",
        "                if i == self.K-self.num_steps:\n",
        "                    # print(self.TX[:,1,0].shape)\n",
        "                    Y = self.Y_NN(self.TX[:,1,0].unsqueeze(-1))\n",
        "                else:\n",
        "                    # print(self.TX[:,:,i-self.K+self.num_steps].shape,self.Z_NN(self.TX[:,:,i-self.K+self.num_steps]).shape,self.B[:,i-1].shape)\n",
        "                    Y = Y - self.F(self.TX[:,:,i-self.K+self.num_steps])*self.Dt + self.Z_NN(self.TX[:,:,i-self.K+self.num_steps])*self.B[:,i-1]\n",
        "        Y = Y - self.F(self.TX[:,:,-1])*self.Dt + self.Z_NN(self.TX[:,:,-1])*self.B[:,-1]\n",
        "        return torch.mean(torch.pow(self.terminal(self.TX[:,1,-1]).unsqueeze(-1)-Y,2)) #mean value of running and terminal"
      ]
    },
    {
      "cell_type": "code",
      "execution_count": 23,
      "metadata": {
        "id": "arVD0owsiSYM"
      },
      "outputs": [],
      "source": [
        "g = terminal('T')\n",
        "v2 = BSDE(g)\n",
        "# v2.value()"
      ]
    },
    {
      "cell_type": "code",
      "execution_count": 24,
      "metadata": {
        "id": "i_O95kDKki9s"
      },
      "outputs": [],
      "source": [
        "torch.autograd.set_detect_anomaly(True);"
      ]
    },
    {
      "cell_type": "code",
      "execution_count": 25,
      "metadata": {
        "colab": {
          "base_uri": "https://localhost:8080/"
        },
        "id": "r_6Swd47iUjw",
        "outputId": "abbbe11d-1d64-498e-adc8-89457d29f0bd"
      },
      "outputs": [
        {
          "name": "stdout",
          "output_type": "stream",
          "text": [
            "At epoch 0 the mean error is 1.7370564937591553.\n",
            "At epoch 10 the mean error is 0.6202980279922485.\n",
            "At epoch 20 the mean error is 0.4390861690044403.\n",
            "At epoch 30 the mean error is 0.3518190085887909.\n",
            "At epoch 40 the mean error is 0.2685922384262085.\n",
            "At epoch 50 the mean error is 0.21885952353477478.\n",
            "At epoch 60 the mean error is 0.17509832978248596.\n",
            "At epoch 70 the mean error is 0.14207538962364197.\n",
            "At epoch 80 the mean error is 0.11567112058401108.\n",
            "At epoch 90 the mean error is 0.09531809389591217.\n",
            "At epoch 100 the mean error is 0.08018633723258972.\n",
            "At epoch 110 the mean error is 0.06908099353313446.\n",
            "At epoch 120 the mean error is 0.0609128400683403.\n",
            "At epoch 130 the mean error is 0.05479263886809349.\n",
            "At epoch 140 the mean error is 0.05008094012737274.\n",
            "At epoch 150 the mean error is 0.046355243772268295.\n",
            "At epoch 160 the mean error is 0.04332895576953888.\n",
            "At epoch 170 the mean error is 0.04080020263791084.\n",
            "At epoch 180 the mean error is 0.038631416857242584.\n",
            "At epoch 190 the mean error is 0.03673037886619568.\n",
            "At epoch 200 the mean error is 0.03503492474555969.\n",
            "At epoch 210 the mean error is 0.033501945436000824.\n",
            "At epoch 220 the mean error is 0.03210051357746124.\n",
            "At epoch 230 the mean error is 0.030807610601186752.\n",
            "At epoch 240 the mean error is 0.029605474323034286.\n",
            "At epoch 250 the mean error is 0.028480080887675285.\n",
            "At epoch 260 the mean error is 0.027420178055763245.\n",
            "At epoch 270 the mean error is 0.026416625827550888.\n",
            "At epoch 280 the mean error is 0.025461997836828232.\n",
            "At epoch 290 the mean error is 0.024550197646021843.\n",
            "At epoch 300 the mean error is 0.02367626316845417.\n",
            "At epoch 310 the mean error is 0.022836120799183846.\n",
            "At epoch 320 the mean error is 0.02202649600803852.\n",
            "At epoch 330 the mean error is 0.021244805306196213.\n",
            "At epoch 340 the mean error is 0.020489051938056946.\n",
            "At epoch 350 the mean error is 0.019757796078920364.\n",
            "At epoch 360 the mean error is 0.01905006542801857.\n",
            "At epoch 370 the mean error is 0.018365301191806793.\n",
            "At epoch 380 the mean error is 0.017703285440802574.\n",
            "At epoch 390 the mean error is 0.017064077779650688.\n",
            "At epoch 400 the mean error is 0.016447948291897774.\n",
            "At epoch 410 the mean error is 0.015855301171541214.\n",
            "At epoch 420 the mean error is 0.015286656096577644.\n",
            "At epoch 430 the mean error is 0.014742535538971424.\n",
            "At epoch 440 the mean error is 0.014223430305719376.\n",
            "At epoch 450 the mean error is 0.013729752972722054.\n",
            "At epoch 460 the mean error is 0.01326177828013897.\n",
            "At epoch 470 the mean error is 0.01281962264329195.\n",
            "At epoch 480 the mean error is 0.012403199449181557.\n",
            "At epoch 490 the mean error is 0.012012230232357979.\n",
            "At epoch 500 the mean error is 0.011646216735243797.\n",
            "At epoch 510 the mean error is 0.011304467916488647.\n",
            "At epoch 520 the mean error is 0.01098612044006586.\n",
            "At epoch 530 the mean error is 0.010690146125853062.\n",
            "At epoch 540 the mean error is 0.010415397584438324.\n",
            "At epoch 550 the mean error is 0.01016064640134573.\n",
            "At epoch 560 the mean error is 0.009924587793648243.\n",
            "At epoch 570 the mean error is 0.009705912321805954.\n",
            "At epoch 580 the mean error is 0.009503290057182312.\n",
            "At epoch 590 the mean error is 0.009315433911979198.\n",
            "At epoch 600 the mean error is 0.009141094982624054.\n",
            "At epoch 610 the mean error is 0.008979087695479393.\n",
            "At epoch 620 the mean error is 0.008828294463455677.\n",
            "At epoch 630 the mean error is 0.008687685243785381.\n",
            "At epoch 640 the mean error is 0.0085563063621521.\n",
            "At epoch 650 the mean error is 0.008433286100625992.\n",
            "At epoch 660 the mean error is 0.008317841216921806.\n",
            "At epoch 670 the mean error is 0.008209262043237686.\n",
            "At epoch 680 the mean error is 0.008106906898319721.\n",
            "At epoch 690 the mean error is 0.008010218851268291.\n",
            "At epoch 700 the mean error is 0.007918681018054485.\n",
            "At epoch 710 the mean error is 0.00783185288310051.\n",
            "At epoch 720 the mean error is 0.007749328389763832.\n",
            "At epoch 730 the mean error is 0.007670758757740259.\n",
            "At epoch 740 the mean error is 0.007595829199999571.\n",
            "At epoch 750 the mean error is 0.007524261251091957.\n",
            "At epoch 760 the mean error is 0.007455803453922272.\n",
            "At epoch 770 the mean error is 0.007390235085040331.\n",
            "At epoch 780 the mean error is 0.007327360566705465.\n",
            "At epoch 790 the mean error is 0.007266999687999487.\n"
          ]
        }
      ],
      "source": [
        "loss_epoch = []\n",
        "num_epochs = 1000\n",
        "lr = 1e-2\n",
        "parameters = list(v2.Y_NN.parameters()) + list(v2.Z_NN.parameters())\n",
        "optimizer2 = optim.Adam(parameters, lr)\n",
        "L_ = torch.Tensor([-2.0])\n",
        "loss = torch.Tensor([2.0])\n",
        "epoch=0\n",
        "while (torch.abs(L_-loss)>1e-8) & (epoch <= num_epochs):# epoch in range(num_epochs):\n",
        "  optimizer2.zero_grad()\n",
        "  loss= v2.loss()#self.cost(self.X,self.modelu(X))+ torch.mean(self.terminal(update(self.X,self.modelu(X))))#\n",
        "  loss.backward()\n",
        "  optimizer2.step()\n",
        "  loss_epoch.append(loss)\n",
        "  if epoch>0:\n",
        "    L_ = loss_epoch[epoch-1]\n",
        "  if (epoch % 10==0):\n",
        "    print(\"At epoch {} the mean error is {}.\".format(epoch,loss.detach()))\n",
        "  epoch += 1"
      ]
    },
    {
      "cell_type": "markdown",
      "metadata": {
        "id": "15SDOV4gHNjJ"
      },
      "source": [
        "## Value function"
      ]
    },
    {
      "cell_type": "code",
      "execution_count": null,
      "metadata": {
        "id": "8lyUL3ExAzX4"
      },
      "outputs": [],
      "source": [
        "x_ = v2.TX[:,1,-5].detach()\n",
        "x_T = v2.TX[:,1,-1].detach()\n",
        "y_ = v2.Y_NN(x_.unsqueeze(-1)).squeeze(-1).detach()"
      ]
    },
    {
      "cell_type": "code",
      "execution_count": null,
      "metadata": {
        "colab": {
          "base_uri": "https://localhost:8080/",
          "height": 431
        },
        "id": "2dnGfAOoAvOR",
        "outputId": "bc7b59af-a1fa-4da0-facb-34a8dc348c88"
      },
      "outputs": [
        {
          "data": {
            "image/png": "[encoded data removed]",
            "text/plain": [
              "<Figure size 640x480 with 1 Axes>"
            ]
          },
          "metadata": {},
          "output_type": "display_data"
        }
      ],
      "source": [
        "fig = plt.figure()\n",
        "plt.scatter(x_.numpy(),y_.numpy(),s=5,label=r'$V(0,t)$ at $t=T-5\\Delta t$',marker='o');\n",
        "plt.scatter(x_T.numpy(),v2.terminal(x_T).detach().numpy(),s=5,label='Terminal',marker='o');\n",
        "\n",
        "plt.legend();\n",
        "plt.show();"
      ]
    },
    {
      "cell_type": "code",
      "execution_count": null,
      "metadata": {
        "id": "qsFleGlbUY-b"
      },
      "outputs": [],
      "source": []
    }
  ],
  "metadata": {
    "colab": {
      "include_colab_link": true,
      "machine_shape": "hm",
      "provenance": []
    },
    "kernelspec": {
      "display_name": "Python 3",
      "name": "python3"
    },
    "language_info": {
      "codemirror_mode": {
        "name": "ipython",
        "version": 3
      },
      "file_extension": ".py",
      "mimetype": "text/x-python",
      "name": "python",
      "nbconvert_exporter": "python",
      "pygments_lexer": "ipython3",
      "version": "3.11.7"
    }
  },
  "nbformat": 4,
  "nbformat_minor": 0
}
