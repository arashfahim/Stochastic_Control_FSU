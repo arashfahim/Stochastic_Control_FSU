{
 "cells": [
  {
   "cell_type": "markdown",
   "id": "a8162df4",
   "metadata": {},
   "source": [
    "# Modules\n",
    "\n",
    "functions and file names such as ```my_file.py``` use lowercase letters and ```_```."
   ]
  },
  {
   "cell_type": "code",
   "execution_count": null,
   "id": "176899bd",
   "metadata": {},
   "outputs": [],
   "source": [
    "def my_function(a,b):\n",
    "    return a + b"
   ]
  },
  {
   "cell_type": "markdown",
   "id": "27e7b1bb",
   "metadata": {},
   "source": [
    "# GLOBAL VARIABLES\n",
    "\n",
    "Global variables use all caps.\n",
    "\n",
    "```GOLDEN_RATIO = (1+np.sqrt(5))/2 ```"
   ]
  },
  {
   "cell_type": "code",
   "execution_count": 1,
   "id": "d9430a5f",
   "metadata": {},
   "outputs": [],
   "source": [
    "import numpy as np\n",
    "GOLDEN_RATION = (1+np.sqrt(5))/2"
   ]
  },
  {
   "cell_type": "markdown",
   "id": "8f91ed80",
   "metadata": {},
   "source": [
    "# Classes \n",
    "\n",
    "CapWords"
   ]
  },
  {
   "cell_type": "code",
   "execution_count": 2,
   "id": "fcc03335",
   "metadata": {},
   "outputs": [],
   "source": [
    "class MyClass:\n",
    "    def __init__(self, value):\n",
    "        self.value = value\n",
    "\n",
    "m = MyClass(10)"
   ]
  },
  {
   "cell_type": "markdown",
   "id": "687318ba",
   "metadata": {},
   "source": [
    "# Exceptions"
   ]
  },
  {
   "cell_type": "code",
   "execution_count": null,
   "id": "f39c7b50",
   "metadata": {},
   "outputs": [
    {
     "name": "stdout",
     "output_type": "stream",
     "text": [
      "Caught a custom exception: This is a custom error message\n"
     ]
    }
   ],
   "source": [
    "class CustomError(Exception):\n",
    "    def __init__(self, message):\n",
    "        super().__init__(message)\n",
    "\n",
    "# Creating an instance of CustomError\n",
    "custom_exception = CustomError(\"This is a custom error message\")\n",
    "\n",
    "# Catching and handling the exception\n",
    "try:\n",
    "    raise custom_exception\n",
    "except CustomError as ce:\n",
    "    print(f\"Caught a custom exception: {ce}\")"
   ]
  },
  {
   "cell_type": "code",
   "execution_count": null,
   "id": "d1e6dd68",
   "metadata": {},
   "outputs": [],
   "source": []
  }
 ],
 "metadata": {
  "kernelspec": {
   "display_name": "base",
   "language": "python",
   "name": "python3"
  },
  "language_info": {
   "codemirror_mode": {
    "name": "ipython",
    "version": 3
   },
   "file_extension": ".py",
   "mimetype": "text/x-python",
   "name": "python",
   "nbconvert_exporter": "python",
   "pygments_lexer": "ipython3",
   "version": "3.12.2"
  }
 },
 "nbformat": 4,
 "nbformat_minor": 5
}
