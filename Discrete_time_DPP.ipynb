{
  "nbformat": 4,
  "nbformat_minor": 0,
  "metadata": {
    "colab": {
      "provenance": [],
      "authorship_tag": "ABX9TyPdDfzClI2HyceE2MRxAEiv",
      "include_colab_link": true
    },
    "kernelspec": {
      "name": "python3",
      "display_name": "Python 3"
    },
    "language_info": {
      "name": "python"
    }
  },
  "cells": [
    {
      "cell_type": "markdown",
      "metadata": {
        "id": "view-in-github",
        "colab_type": "text"
      },
      "source": [
        "<a href=\"https://colab.research.google.com/github/arashfahim/Stochastic_Control_FSU/blob/main/Discrete_time_DPP.ipynb\" target=\"_parent\"><img src=\"https://colab.research.google.com/assets/colab-badge.svg\" alt=\"Open In Colab\"/></a>"
      ]
    },
    {
      "cell_type": "code",
      "source": [
        "!git clone https://github.com/arashfahim/Stochastic_Control_FSU"
      ],
      "metadata": {
        "colab": {
          "base_uri": "https://localhost:8080/"
        },
        "id": "uYpsD_vHtIpa",
        "outputId": "84556f5c-a757-400d-b290-96fa1dff5aa5"
      },
      "execution_count": 1,
      "outputs": [
        {
          "output_type": "stream",
          "name": "stdout",
          "text": [
            "Cloning into 'Stochastic_Control_FSU'...\n",
            "remote: Enumerating objects: 75, done.\u001b[K\n",
            "remote: Counting objects: 100% (75/75), done.\u001b[K\n",
            "remote: Compressing objects: 100% (74/74), done.\u001b[K\n",
            "remote: Total 75 (delta 37), reused 0 (delta 0), pack-reused 0\u001b[K\n",
            "Receiving objects: 100% (75/75), 507.45 KiB | 3.90 MiB/s, done.\n",
            "Resolving deltas: 100% (37/37), done.\n"
          ]
        }
      ]
    },
    {
      "cell_type": "code",
      "source": [
        "! ls -l"
      ],
      "metadata": {
        "colab": {
          "base_uri": "https://localhost:8080/"
        },
        "id": "VcK8F3qLthk9",
        "outputId": "622927d7-726c-4b68-dd11-48c690cc2d99"
      },
      "execution_count": 2,
      "outputs": [
        {
          "output_type": "stream",
          "name": "stdout",
          "text": [
            "total 8\n",
            "drwxr-xr-x 1 root root 4096 Oct 13 13:22 sample_data\n",
            "drwxr-xr-x 4 root root 4096 Oct 17 12:24 Stochastic_Control_FSU\n"
          ]
        }
      ]
    },
    {
      "cell_type": "code",
      "source": [
        "path = r'/content/Stochastic_Control_FSU/arashfahim/Stochastic_Control_FSU/'"
      ],
      "metadata": {
        "id": "gDKJJU8n5db3"
      },
      "execution_count": 3,
      "outputs": []
    },
    {
      "cell_type": "code",
      "source": [
        "# mount google drive\n",
        "from google.colab import drive\n",
        "drive.mount('/content/drive')"
      ],
      "metadata": {
        "colab": {
          "base_uri": "https://localhost:8080/"
        },
        "id": "ix4wczxVvVD8",
        "outputId": "d958dcf7-e884-4ca2-d3d4-582e6190e2a9"
      },
      "execution_count": 4,
      "outputs": [
        {
          "output_type": "stream",
          "name": "stdout",
          "text": [
            "Mounted at /content/drive\n"
          ]
        }
      ]
    },
    {
      "cell_type": "markdown",
      "source": [
        "The goal of this notebook is to implement a one-step dynamic programming principle, DPP, for a stochastic control problem.\n",
        "\n",
        "The stochastic control problem is given by\n",
        "\n",
        "$\\inf_{u_0,...u_{T-1}}\\mathbb{E}\\bigg[\\sum_{t=0}^{T-1}C(t,X^u_t,u_t)+g(X^u_T)\\bigg]$\n",
        "\n",
        "\n"
      ],
      "metadata": {
        "id": "Hq2eZ_d-UDNp"
      }
    },
    {
      "cell_type": "markdown",
      "source": [
        "The DPP is given by\n",
        "\n",
        "$\\begin{cases}\n",
        "V(t,x)=\\inf_{u\\in\\mathbb{R}^d}\\mathbb{E}[C(t,x,u)+V(t+1,X^u_{t+1})]\\\\\n",
        "V(T,x)=g(x)\n",
        "\\end{cases}$\n",
        "\n",
        "with $X^u_{t+1}=x+\\mu(t,x,u)+\\sigma(t,x,u)\\xi_{t+1}$"
      ],
      "metadata": {
        "id": "JP7f4T78Uqvg"
      }
    },
    {
      "cell_type": "code",
      "source": [
        "import torch\n",
        "import torch.nn as nn\n",
        "import pandas as pd\n",
        "import numpy as np\n",
        "import matplotlib.pyplot as plt\n",
        "import time\n",
        "from time import strftime, localtime\n",
        "import torch.optim as optim #import optimizer\n",
        "# import torch.optim.lr_scheduler as lr_scheduler\n",
        "\n",
        "M =10000# number of samples\n",
        "X = torch.normal(0., 1., size=(M,1))# samples for X~N(0,1)\n",
        "Y = torch.exp(-X)+torch.exp(X)*torch.normal(0., 1., size=(M,1))# samples for Y=e^{-x}+e^{x}N(0,1)\n",
        "# X.shape\n",
        "T=1# terminal horizon\n",
        "N = 10 # of time steps\n",
        "Dt= torch.Tensor([T/N])# time step size"
      ],
      "metadata": {
        "id": "-Obh3NNKOTMI"
      },
      "execution_count": 5,
      "outputs": []
    },
    {
      "cell_type": "code",
      "source": [
        "# create time stamp to save the result\n",
        "stamp = strftime('%Y-%m-%d %H:%M:%S', localtime())\n",
        "print(str(stamp))"
      ],
      "metadata": {
        "id": "5hwEP5QcSA4n",
        "colab": {
          "base_uri": "https://localhost:8080/"
        },
        "outputId": "0804531a-4cc7-46e8-c7f3-cb0e6dbfcfb3"
      },
      "execution_count": 6,
      "outputs": [
        {
          "output_type": "stream",
          "name": "stdout",
          "text": [
            "2023-10-17 12:24:31\n"
          ]
        }
      ]
    },
    {
      "cell_type": "code",
      "source": [
        "# for p in model3.parameters():\n",
        "#   print(p)"
      ],
      "metadata": {
        "id": "CFJabAfVgYaB"
      },
      "execution_count": 7,
      "outputs": []
    },
    {
      "cell_type": "markdown",
      "source": [
        "## Write one-step DPP as\n",
        "\n",
        "$V(t,x)=\\inf_{u(x)}C(t,x,u(x))+\\mathbb{E}^{B}[V(t+1,X^u_{t+1})]$\n",
        "\n",
        "Formulate the loss function as\n",
        "\n",
        "$\\inf_{\\theta}\\mathbb{E}^{X_t,B}\\bigg[C(t,X_t,u(X_t;\\theta))+V\\Big(t+1,X_{t}+\\mu\\big(t,X_{t},u(X_t;\\theta)\\big)\\Delta t+\\sigma\\big(t,X_{t},u(X_t;\\theta)\\big)\\Delta B_{t+1})\\Big)\\bigg]$\n",
        "\n",
        "The empirical loss is given base on a sample of $X_t$, $\\{x^j\\}$ and $N(0,1)$, $\\{\\xi^j\\}$, independently.\n",
        "\n",
        "$\\inf_{\\theta}\\sum_{j}\\bigg[C(t,x^j,u(x^j;\\theta))+V\\Big(t+1,x^j+\\mu\\big(t,x^j,u(x^j;\\theta)\\big)\\Delta t+\\sigma\\big(t,x^j,u(x^j;\\theta)\\big)\\sqrt{\\Delta t} \\xi^j)\\Big)\\bigg]$\n"
      ],
      "metadata": {
        "id": "-1DH7J8nXyM0"
      }
    },
    {
      "cell_type": "markdown",
      "source": [],
      "metadata": {
        "id": "eOKSe69Nlot4"
      }
    },
    {
      "cell_type": "markdown",
      "source": [
        "## Creation of optimization module\n",
        "\n",
        "We need to solve the above one-step optimization problem.\n",
        "\n",
        "Input: $\\phi(x,u,\\xi)$ and $c(x,u)$\n",
        "\n",
        "Optimize: $\\inf_u\\mathbb{E}[c(x,u)+\\phi(x,u,\\xi)]$\n",
        "\n",
        "Output: $u^*(x)\\in\\textrm{argmin}\\mathbb{E}[c(x,u)+\\phi(x,u,\\xi)]$\n",
        "\n",
        "\n",
        "\n",
        "---\n",
        "\n",
        "It is important to make sure the input and output are functions and not just data points."
      ],
      "metadata": {
        "id": "nH3hSPxVVKX-"
      }
    },
    {
      "cell_type": "markdown",
      "source": [
        "# Multistep DPP"
      ],
      "metadata": {
        "id": "VHQ24nbeAHCT"
      }
    },
    {
      "cell_type": "markdown",
      "source": [
        "## At $t=T-\\Delta t$"
      ],
      "metadata": {
        "id": "JOE-raThcMBx"
      }
    },
    {
      "cell_type": "code",
      "source": [
        "# increase neurons\n",
        "modelu= torch.nn.Sequential(\n",
        "    torch.nn.Linear(1, 16),\n",
        "    torch.nn.Tanh(),\n",
        "    # torch.nn.Linear(8, 8),\n",
        "    # torch.nn.ReLU(),\n",
        "    torch.nn.Linear(16,1)\n",
        ")"
      ],
      "metadata": {
        "id": "YP5VUo5dCTj4"
      },
      "execution_count": 8,
      "outputs": []
    },
    {
      "cell_type": "code",
      "source": [
        "class cost:\n",
        "  def __init__(self,flag):\n",
        "    self.flag = flag\n",
        "  def cost(self,x,*args):\n",
        "    if self.flag == 'T':\n",
        "      return torch.Tensor([0.5])*torch.pow(x,2)-x\n",
        "    else:\n",
        "      u=args[0]\n",
        "      return torch.Tensor([0.5])*torch.pow(x,2) + torch.Tensor([0.5])*torch.pow(u,2)\n",
        "# goal: to add the term E[V(t+1, X^u_{t+1})|X_t=x] inside the cost function for t<T."
      ],
      "metadata": {
        "id": "0hYvYODPFJVX"
      },
      "execution_count": 72,
      "outputs": []
    },
    {
      "cell_type": "code",
      "source": [
        "g_term = cost('T')\n",
        "c = cost('')"
      ],
      "metadata": {
        "id": "sfHup0mjGR00"
      },
      "execution_count": 73,
      "outputs": []
    },
    {
      "cell_type": "code",
      "source": [
        "x = torch.Tensor([1.0])\n",
        "c.cost(x,modelu(x)),g_term.cost(x)"
      ],
      "metadata": {
        "colab": {
          "base_uri": "https://localhost:8080/"
        },
        "id": "Yvr9uc0-GU5p",
        "outputId": "dd645c13-a218-4da4-95d1-3955f50d7b24"
      },
      "execution_count": 74,
      "outputs": [
        {
          "output_type": "execute_result",
          "data": {
            "text/plain": [
              "(tensor([0.5057], grad_fn=<AddBackward0>), tensor([-0.5000]))"
            ]
          },
          "metadata": {},
          "execution_count": 74
        }
      ]
    },
    {
      "cell_type": "markdown",
      "source": [
        "### Last step with $g(X^u_{T})$"
      ],
      "metadata": {
        "id": "TX5YRzbmTsL5"
      }
    },
    {
      "cell_type": "code",
      "source": [
        "X = torch.normal(0., 1., size=(M,1))# samples for X~N(0,1)"
      ],
      "metadata": {
        "id": "FMR6HO4YTrq1"
      },
      "execution_count": 76,
      "outputs": []
    },
    {
      "cell_type": "code",
      "source": [
        "# # increase neurons\n",
        "# modelexcost= torch.nn.Sequential(\n",
        "#     torch.nn.Linear(1, 16),\n",
        "#     torch.nn.Tanh(),\n",
        "#     # torch.nn.Linear(8, 8),\n",
        "#     # torch.nn.ReLU(),\n",
        "#     torch.nn.Linear(16,1)\n",
        "# )"
      ],
      "metadata": {
        "id": "gE3MJNw3WQNM"
      },
      "execution_count": 77,
      "outputs": []
    },
    {
      "cell_type": "code",
      "source": [
        "# for p in modelu.parameters():\n",
        "#   p.requires_grad = False\n",
        "# Y = g.cost(update(X,modelu(X)))\n",
        "# data = torch.cat((X,Y),dim=1)\n",
        "# cond_expect(data,modelexcost)\n"
      ],
      "metadata": {
        "id": "VR3UUsvQVsAR"
      },
      "execution_count": 78,
      "outputs": []
    },
    {
      "cell_type": "code",
      "source": [
        "c.cost(X,modelu(X))+ g_term.cost(update(X,modelu(X)))"
      ],
      "metadata": {
        "colab": {
          "base_uri": "https://localhost:8080/"
        },
        "id": "1b3-8T-ZiQCX",
        "outputId": "118194c7-99ee-4008-b453-e582acd4ebc3"
      },
      "execution_count": 79,
      "outputs": [
        {
          "output_type": "execute_result",
          "data": {
            "text/plain": [
              "tensor([[ 0.8237],\n",
              "        [ 0.6183],\n",
              "        [ 0.5099],\n",
              "        ...,\n",
              "        [-0.1041],\n",
              "        [-0.0366],\n",
              "        [-0.3047]], grad_fn=<AddBackward0>)"
            ]
          },
          "metadata": {},
          "execution_count": 79
        }
      ]
    },
    {
      "cell_type": "code",
      "source": [
        "xi = torch.normal(0., 1., size=(M,1))#must be defined outside update because it is going to be used in the learning and we want to avoid generating samples at each epoch\n",
        "def update(x,u):\n",
        "  return x + (-x+u)*Dt + torch.sqrt(Dt)*xi"
      ],
      "metadata": {
        "id": "rPVaRQBdUVOc"
      },
      "execution_count": 99,
      "outputs": []
    },
    {
      "cell_type": "code",
      "source": [
        "lr = 1e-3\n",
        "num_epochs = 100\n",
        "optimizer1 = optim.Adam(modelu.parameters(), lr)\n",
        "L_ = torch.Tensor([-2.0])\n",
        "loss = torch.Tensor([2.0])\n",
        "loss_epoch = []\n",
        "epoch=0\n",
        "while (torch.abs(L_-loss)>1e-6) & (epoch <= num_epochs):# epoch in range(num_epochs):\n",
        "  optimizer1.zero_grad()\n",
        "  loss=torch.mean(c.cost(X,modelu(X))+ g_term.cost(update(X,modelu(X))))#\n",
        "  loss.backward()\n",
        "  optimizer1.step()\n",
        "  loss_epoch.append(loss)\n",
        "  if epoch>0:\n",
        "    L_ = loss_epoch[epoch-1]\n",
        "  if (epoch % 10==0):\n",
        "    print(\"At epoch {} the mean error is {}.\".format(epoch,loss.detach()))\n",
        "  epoch += 1"
      ],
      "metadata": {
        "colab": {
          "base_uri": "https://localhost:8080/"
        },
        "id": "mW-VGLvHXPH-",
        "outputId": "c07422cf-901e-40ca-a673-b4e099a9a24d"
      },
      "execution_count": 100,
      "outputs": [
        {
          "output_type": "stream",
          "name": "stdout",
          "text": [
            "At epoch 0 the mean error is 0.9583579301834106.\n",
            "At epoch 10 the mean error is 0.9580779075622559.\n",
            "At epoch 20 the mean error is 0.9579282402992249.\n",
            "At epoch 30 the mean error is 0.9578823447227478.\n"
          ]
        }
      ]
    },
    {
      "cell_type": "code",
      "source": [
        "# Z = torch.normal(0., 1., size=(M,1))\n",
        "# torch.set_printoptions(precision=10)\n",
        "# print(\"Test on new data: MSE = {}\".format(torch.mean(c.cost(Z,modelu(Z))+ g.cost(update(Z,modelu(Z))))))"
      ],
      "metadata": {
        "id": "4CdZEZCVrWSm"
      },
      "execution_count": 101,
      "outputs": []
    },
    {
      "cell_type": "code",
      "source": [
        "def test_update(x,u):\n",
        "  #Antithetic variables\n",
        "  N = torch.normal(0., 1., size=[x.shape[0],100000])\n",
        "  # M = torch.Tensor([0.1])*torch.normal(0., 1., size=[x.shape[0],100000]) - torch.Tensor([0.9])*N\n",
        "  return x + (-x+modelu(x))*Dt + torch.sqrt(Dt)*N#*torch.Tensor([0.5])*(M+N)\n",
        "def V(x, u):\n",
        "  return c.cost(x,u)*Dt+torch.mean(g_term.cost(test_update(x,u)),axis=1).unsqueeze(1)#c.cost(x,u)+torch.mean(g.cost(test_update(x,u))),"
      ],
      "metadata": {
        "id": "TdWBPRM6XxP8"
      },
      "execution_count": 102,
      "outputs": []
    },
    {
      "cell_type": "code",
      "source": [
        "x = torch.Tensor([0.0]).unsqueeze(1)\n",
        "u=torch.Tensor([[0.0]])\n",
        "test_update(x,u),c.cost(x,u)*Dt,torch.mean(g_term.cost(test_update(x,u)),axis=1).unsqueeze(1),torch.std(g_term.cost(test_update(x,u)),axis=1).unsqueeze(1),V(x,u)"
      ],
      "metadata": {
        "id": "gQVu00sgsq0i",
        "outputId": "ce64c288-8b63-48eb-d22d-f4039de3e29e",
        "colab": {
          "base_uri": "https://localhost:8080/"
        }
      },
      "execution_count": 103,
      "outputs": [
        {
          "output_type": "execute_result",
          "data": {
            "text/plain": [
              "(tensor([[ 0.0460,  0.2654, -0.0414,  ..., -0.2529,  0.1010,  0.2243]],\n",
              "        grad_fn=<AddBackward0>),\n",
              " tensor([[0.]]),\n",
              " tensor([[0.0398]], grad_fn=<UnsqueezeBackward0>),\n",
              " tensor([[0.3205]], grad_fn=<UnsqueezeBackward0>),\n",
              " tensor([[0.0398]], grad_fn=<AddBackward0>))"
            ]
          },
          "metadata": {},
          "execution_count": 103
        }
      ]
    },
    {
      "cell_type": "code",
      "source": [
        "# xx = torch.linspace(-3.0,3.0,50).unsqueeze(1)\n",
        "# V(xx,modelu(xx)).shape"
      ],
      "metadata": {
        "id": "n-y--way_B01"
      },
      "execution_count": 104,
      "outputs": []
    },
    {
      "cell_type": "code",
      "source": [
        "xx = torch.linspace(-3.0,3.0,50).unsqueeze(1)\n",
        "yy = V(xx,modelu(xx))\n",
        "zz = g_term.cost(xx)\n",
        "plt.plot(xx.squeeze(1).detach().numpy(),yy.squeeze(1).detach().numpy(),label='V(T-1,x)');\n",
        "plt.plot(xx.squeeze(1).detach().numpy(),zz.squeeze(1).detach().numpy(),label='g(x)');\n",
        "plt.title(\"'Value function at T-Delta t'\");\n",
        "plt.legend();\n",
        "plt.savefig(path+'test for value'+stamp+'.png');"
      ],
      "metadata": {
        "id": "HxEnAPb3lg9r",
        "outputId": "4536c634-9280-4fe4-efc3-e8d7f9247774",
        "colab": {
          "base_uri": "https://localhost:8080/",
          "height": 452
        }
      },
      "execution_count": 105,
      "outputs": [
        {
          "output_type": "display_data",
          "data": {
            "text/plain": [
              "<Figure size 640x480 with 1 Axes>"
            ],
            "image/png": "[encoded data removed]"
          },
          "metadata": {}
        }
      ]
    },
    {
      "cell_type": "markdown",
      "source": [
        "## Object-oriented approach\n",
        "\n",
        "A neural net in torch is an object of type _*torch.nn.Module*_. We create a child of this object which includes the needed functions used in the training."
      ],
      "metadata": {
        "id": "r-m9HGAwlgSg"
      }
    },
    {
      "cell_type": "code",
      "source": [
        "class one_step(nn.Module):\n",
        "    def __init__(self,terminal,flag):\n",
        "        super(one_step, self).__init__()\n",
        "        self.layer = torch.nn.Sequential()\n",
        "        self.layer.add_module(\"L1\",torch.nn.Linear(1, 16))\n",
        "        self.layer.add_module(\"Tanh\", torch.nn.Tanh())\n",
        "        self.layer.add_module(\"L2\",torch.nn.Linear(16,1))\n",
        "        self.flag = flag\n",
        "        self.M = 1000\n",
        "        self.terminal = terminal\n",
        "        self.X = torch.normal(0., 1., size=(self.M,1))#traning set\n",
        "        self.Y = None\n",
        "    def forward(self, x):\n",
        "        val = self.layer(x)\n",
        "        return val\n",
        "    def loss(self):\n",
        "        #Antithetic variables\n",
        "        N = torch.normal(0., 1., size=[self.M,1])\n",
        "        # M = torch.Tensor([0.1])*torch.normal(0., 1., size=[self.M,1]) - torch.Tensor([0.9])*N\n",
        "        update = self.X + (-self.X+self.forward(self.X))*Dt + torch.sqrt(Dt)*N#*torch.Tensor([0.5])*(M+N)\n",
        "        # print(\"update shape in loss\",update.shape)\n",
        "        return torch.mean(self.cost(self.X)+self.terminal(update))\n",
        "    def cost(self,x):#take a [N,1] tensor\n",
        "        return torch.Tensor([0.5])*torch.pow(x,2) + torch.Tensor([0.5])*torch.pow(self.forward(x),2)\n",
        "    def value(self):\n",
        "        update = (self.X + Dt*(-self.X+self.forward(self.X))).repeat([1,self.M]).unsqueeze(2) + torch.sqrt(Dt)*torch.normal(0., 1., size=[self.X.shape[0],self.M,1])\n",
        "        # print(\"update shape in loss\",update.shape)\n",
        "        self.Y = self.cost(self.X)*Dt+torch.mean(self.terminal(update),axis=1)"
      ],
      "metadata": {
        "id": "k0II3m4dCqyD"
      },
      "execution_count": 106,
      "outputs": []
    },
    {
      "cell_type": "code",
      "source": [
        "class terminal(nn.Module):\n",
        "    def __init__(self,flag,*args):\n",
        "        super(terminal, self).__init__()\n",
        "        self.layer = torch.nn.Sequential()\n",
        "        self.layer.add_module(\"L1\",torch.nn.Linear(1, 16))\n",
        "        self.layer.add_module(\"Tanh\", torch.nn.Tanh())\n",
        "        self.layer.add_module(\"L2\",torch.nn.Linear(16,1))\n",
        "        self.flag = flag\n",
        "    def forward(self, x):\n",
        "        if self.flag == 'T':\n",
        "            return torch.Tensor([0.5])*torch.pow(x,2)-x\n",
        "        else:\n",
        "            val = self.layer(x)\n",
        "            return val\n",
        "        return x"
      ],
      "metadata": {
        "id": "FYLj1w8DcJ_J"
      },
      "execution_count": 107,
      "outputs": []
    },
    {
      "cell_type": "code",
      "source": [
        "g = terminal('T')\n",
        "v = one_step(g,'')"
      ],
      "metadata": {
        "id": "OUI2R-NteZx7"
      },
      "execution_count": 108,
      "outputs": []
    },
    {
      "cell_type": "code",
      "source": [
        "v.value()"
      ],
      "metadata": {
        "id": "VZmy-1aZNUZe"
      },
      "execution_count": 109,
      "outputs": []
    },
    {
      "cell_type": "code",
      "source": [
        "update1 = (v.X + Dt*(-v.X+v.forward(v.X))).repeat([1,v.M]).unsqueeze(2) + torch.sqrt(Dt)*torch.normal(0., 1., size=[v.X.shape[0],v.M,1])\n",
        "# print(\"update shape in loss\",update.shape)\n",
        "Y1 = v.cost(v.X)*Dt+torch.mean(v.terminal(update1),axis=1)"
      ],
      "metadata": {
        "id": "xLesEKY8dWBI"
      },
      "execution_count": 110,
      "outputs": []
    },
    {
      "cell_type": "code",
      "source": [
        "update2 = (v.X + Dt*(-v.X+v.forward(v.X))).repeat([1,v.M]).unsqueeze(2) + torch.sqrt(Dt)*torch.normal(0., 1., size=[v.X.shape[0],v.M,1])\n",
        "Y2 = v.cost(v.X)*Dt+torch.mean(v.terminal(update2),axis=1)\n",
        "# update.shape, Y.shape"
      ],
      "metadata": {
        "id": "x29TtvYGam6Z"
      },
      "execution_count": 111,
      "outputs": []
    },
    {
      "cell_type": "code",
      "source": [
        "dY = Y1-Y2\n",
        "dU =torch.mean(v.terminal(update1),axis=1)- torch.mean(v.terminal(update2),axis=1)"
      ],
      "metadata": {
        "id": "ADPN2tXtQ1PA"
      },
      "execution_count": 112,
      "outputs": []
    },
    {
      "cell_type": "code",
      "source": [
        "plt.scatter(v.X.detach().numpy(),v.Y.detach().numpy(),label='Value');\n",
        "# plt.scatter(v.X.detach().numpy(),v(v.X).detach().numpy(),label='control');\n",
        "# plt.scatter(v.X.detach().numpy(),v.terminal(v.X).detach().numpy(),label='value2');\n",
        "plt.scatter(v.X.detach().numpy(),g(v.X).detach().numpy(),label='terminal',marker='.');\n",
        "plt.scatter(v.X.detach().numpy(),Y1.detach().numpy(),label='Value1',marker='.');\n",
        "plt.scatter(v.X.detach().numpy(),Y2.detach().numpy(),label='Value2',marker='.',s=0.2, color='k');\n",
        "# plt.scatter(v.X.detach().numpy(),dY.detach().numpy(),label='DY');\n",
        "# plt.scatter(v.X.detach().numpy(),dU.detach().numpy(),label='DU',marker='.');\n",
        "# plt.scatter(v.X.detach().numpy(),torch.mean(v.terminal(update1),axis=1).detach().numpy(),label='U1');\n",
        "# plt.scatter(v.X.detach().numpy(),torch.mean(v.terminal(update2),axis=1).detach().numpy(),label='U2');\n",
        "plt.legend();"
      ],
      "metadata": {
        "id": "5e4QEmzb1ZlI",
        "outputId": "4bbb0e06-aeb3-4f02-f663-97a6ec8edbfb",
        "colab": {
          "base_uri": "https://localhost:8080/",
          "height": 430
        }
      },
      "execution_count": 113,
      "outputs": [
        {
          "output_type": "display_data",
          "data": {
            "text/plain": [
              "<Figure size 640x480 with 1 Axes>"
            ],
            "image/png": "[encoded data removed]"
          },
          "metadata": {}
        }
      ]
    },
    {
      "cell_type": "code",
      "source": [
        "loss_epoch = []\n",
        "num_epochs = 500\n",
        "lr = 1e-2\n",
        "optimizer1 = optim.Adam(v.parameters(), lr)\n",
        "L_ = torch.Tensor([-2.0])\n",
        "loss = torch.Tensor([2.0])\n",
        "epoch=0\n",
        "while (torch.abs(L_-loss)>1e-6) & (epoch <= num_epochs):# epoch in range(num_epochs):\n",
        "  optimizer1.zero_grad()\n",
        "  loss= v.loss()#self.cost(self.X,self.modelu(X))+ torch.mean(self.terminal(update(self.X,self.modelu(X))))#\n",
        "  loss.backward()\n",
        "  optimizer1.step()\n",
        "  loss_epoch.append(loss)\n",
        "  if epoch>0:\n",
        "    L_ = loss_epoch[epoch-1]\n",
        "  if (epoch % 10==0):\n",
        "    print(\"At epoch {} the mean error is {}.\".format(epoch,loss.detach()))\n",
        "  epoch += 1"
      ],
      "metadata": {
        "colab": {
          "base_uri": "https://localhost:8080/"
        },
        "id": "KdFN4B96PGAy",
        "outputId": "5628f2e9-744e-4e56-b0b5-fec49f1acfae"
      },
      "execution_count": 115,
      "outputs": [
        {
          "output_type": "stream",
          "name": "stdout",
          "text": [
            "At epoch 0 the mean error is 1.2159950733184814.\n",
            "At epoch 10 the mean error is 1.006151556968689.\n",
            "At epoch 20 the mean error is 1.0272412300109863.\n",
            "At epoch 30 the mean error is 1.014466643333435.\n",
            "At epoch 40 the mean error is 0.9810792803764343.\n",
            "At epoch 50 the mean error is 0.9957191944122314.\n",
            "At epoch 60 the mean error is 1.006906509399414.\n",
            "At epoch 70 the mean error is 1.0339014530181885.\n",
            "At epoch 80 the mean error is 1.0127657651901245.\n",
            "At epoch 90 the mean error is 0.9947726726531982.\n",
            "At epoch 100 the mean error is 1.0174740552902222.\n",
            "At epoch 110 the mean error is 1.0151076316833496.\n",
            "At epoch 120 the mean error is 1.0042113065719604.\n",
            "At epoch 130 the mean error is 1.0179860591888428.\n",
            "At epoch 140 the mean error is 1.005947232246399.\n",
            "At epoch 150 the mean error is 0.989658534526825.\n",
            "At epoch 160 the mean error is 0.9864227175712585.\n",
            "At epoch 170 the mean error is 1.0144102573394775.\n",
            "At epoch 180 the mean error is 1.0021798610687256.\n",
            "At epoch 190 the mean error is 1.0054290294647217.\n",
            "At epoch 200 the mean error is 1.0124887228012085.\n",
            "At epoch 210 the mean error is 1.0066282749176025.\n",
            "At epoch 220 the mean error is 0.9861860275268555.\n",
            "At epoch 230 the mean error is 1.0006976127624512.\n",
            "At epoch 240 the mean error is 1.0139573812484741.\n",
            "At epoch 250 the mean error is 1.025980830192566.\n",
            "At epoch 260 the mean error is 1.022874116897583.\n",
            "At epoch 270 the mean error is 1.014501690864563.\n",
            "At epoch 280 the mean error is 0.9976890683174133.\n",
            "At epoch 290 the mean error is 1.0057376623153687.\n",
            "At epoch 300 the mean error is 0.9822533130645752.\n",
            "At epoch 310 the mean error is 1.0022088289260864.\n",
            "At epoch 320 the mean error is 1.0276105403900146.\n",
            "At epoch 330 the mean error is 0.9979547262191772.\n",
            "At epoch 340 the mean error is 1.025541067123413.\n",
            "At epoch 350 the mean error is 1.0087963342666626.\n",
            "At epoch 360 the mean error is 1.0004476308822632.\n",
            "At epoch 370 the mean error is 1.023863673210144.\n",
            "At epoch 380 the mean error is 1.0047037601470947.\n",
            "At epoch 390 the mean error is 0.9793554544448853.\n",
            "At epoch 400 the mean error is 1.0019608736038208.\n",
            "At epoch 410 the mean error is 1.021957278251648.\n",
            "At epoch 420 the mean error is 1.0218859910964966.\n",
            "At epoch 430 the mean error is 0.9998801350593567.\n",
            "At epoch 440 the mean error is 1.0217053890228271.\n",
            "At epoch 450 the mean error is 1.009610891342163.\n",
            "At epoch 460 the mean error is 0.9846644401550293.\n",
            "At epoch 470 the mean error is 1.0135923624038696.\n",
            "At epoch 480 the mean error is 0.9967057108879089.\n",
            "At epoch 490 the mean error is 0.9906357526779175.\n",
            "At epoch 500 the mean error is 1.0059994459152222.\n"
          ]
        }
      ]
    },
    {
      "cell_type": "code",
      "source": [
        "vval = terminal('')"
      ],
      "metadata": {
        "id": "Jzjisnmlg6R8"
      },
      "execution_count": 116,
      "outputs": []
    },
    {
      "cell_type": "code",
      "source": [
        "x = torch.linspace(-1,1,4).unsqueeze(1)\n",
        "vval(x)"
      ],
      "metadata": {
        "id": "dkDaWLRAWSij",
        "outputId": "324e4fc7-2eef-4b4c-f035-3a64fc8c4746",
        "colab": {
          "base_uri": "https://localhost:8080/"
        }
      },
      "execution_count": 117,
      "outputs": [
        {
          "output_type": "execute_result",
          "data": {
            "text/plain": [
              "tensor([[-0.3406],\n",
              "        [-0.1592],\n",
              "        [ 0.0382],\n",
              "        [ 0.1555]], grad_fn=<AddmmBackward0>)"
            ]
          },
          "metadata": {},
          "execution_count": 117
        }
      ]
    },
    {
      "cell_type": "code",
      "source": [
        "for p in v.parameters():\n",
        "    p.requires_grad = False"
      ],
      "metadata": {
        "id": "OjkgFN6bh41h"
      },
      "execution_count": 118,
      "outputs": []
    },
    {
      "cell_type": "code",
      "source": [
        "loss_epochv = []\n",
        "num_epochs = 1000\n",
        "lrv = 1e-2\n",
        "optimizerv = optim.Adam(vval.parameters(), lrv)\n",
        "L_ = torch.Tensor([-2.0])\n",
        "loss = torch.Tensor([2.0])\n",
        "epoch=0\n",
        "while (torch.abs(L_-loss)>1e-6) & (epoch <= num_epochs):# epoch in range(num_epochs):\n",
        "  optimizerv.zero_grad()\n",
        "  loss= torch.mean(torch.pow(vval(v.X.clone().detach())-v.Y.clone().detach(),2))#\n",
        "  loss.backward()\n",
        "  optimizerv.step()\n",
        "  loss_epochv.append(loss)\n",
        "  if epoch>0:\n",
        "    L_ = loss_epochv[epoch-1]\n",
        "  if (epoch % 10==0):\n",
        "    print(\"At epoch {} the mean error is {}.\".format(epoch,loss.detach()))\n",
        "  epoch += 1"
      ],
      "metadata": {
        "id": "mNCFd_5ThCD8",
        "outputId": "24a8f8bf-e24f-4814-c44b-e5794afabdfc",
        "colab": {
          "base_uri": "https://localhost:8080/"
        }
      },
      "execution_count": 119,
      "outputs": [
        {
          "output_type": "stream",
          "name": "stdout",
          "text": [
            "At epoch 0 the mean error is 2.567387580871582.\n",
            "At epoch 10 the mean error is 1.1342676877975464.\n",
            "At epoch 20 the mean error is 0.7281265258789062.\n",
            "At epoch 30 the mean error is 0.652495265007019.\n",
            "At epoch 40 the mean error is 0.5633202195167542.\n",
            "At epoch 50 the mean error is 0.4793306589126587.\n",
            "At epoch 60 the mean error is 0.41530176997184753.\n",
            "At epoch 70 the mean error is 0.3562304377555847.\n",
            "At epoch 80 the mean error is 0.30569326877593994.\n",
            "At epoch 90 the mean error is 0.2606844902038574.\n",
            "At epoch 100 the mean error is 0.2210855782032013.\n",
            "At epoch 110 the mean error is 0.18626105785369873.\n",
            "At epoch 120 the mean error is 0.15639561414718628.\n",
            "At epoch 130 the mean error is 0.13151422142982483.\n",
            "At epoch 140 the mean error is 0.11137540638446808.\n",
            "At epoch 150 the mean error is 0.09540892392396927.\n",
            "At epoch 160 the mean error is 0.0827997624874115.\n",
            "At epoch 170 the mean error is 0.07271480560302734.\n",
            "At epoch 180 the mean error is 0.06449448317289352.\n",
            "At epoch 190 the mean error is 0.057684995234012604.\n",
            "At epoch 200 the mean error is 0.05196575075387955.\n",
            "At epoch 210 the mean error is 0.04709503427147865.\n",
            "At epoch 220 the mean error is 0.04289514198899269.\n",
            "At epoch 230 the mean error is 0.039237529039382935.\n",
            "At epoch 240 the mean error is 0.036025721579790115.\n",
            "At epoch 250 the mean error is 0.03318566083908081.\n",
            "At epoch 260 the mean error is 0.030659692361950874.\n",
            "At epoch 270 the mean error is 0.028402002528309822.\n",
            "At epoch 280 the mean error is 0.026375524699687958.\n",
            "At epoch 290 the mean error is 0.02454986423254013.\n",
            "At epoch 300 the mean error is 0.022899659350514412.\n",
            "At epoch 310 the mean error is 0.021403610706329346.\n",
            "At epoch 320 the mean error is 0.02004365250468254.\n",
            "At epoch 330 the mean error is 0.018804362043738365.\n",
            "At epoch 340 the mean error is 0.01767250895500183.\n",
            "At epoch 350 the mean error is 0.016636639833450317.\n",
            "At epoch 360 the mean error is 0.01568678580224514.\n",
            "At epoch 370 the mean error is 0.014814212918281555.\n",
            "At epoch 380 the mean error is 0.014011253602802753.\n",
            "At epoch 390 the mean error is 0.013271113857626915.\n",
            "At epoch 400 the mean error is 0.012587771750986576.\n",
            "At epoch 410 the mean error is 0.011955847963690758.\n",
            "At epoch 420 the mean error is 0.01137054618448019.\n",
            "At epoch 430 the mean error is 0.01082755345851183.\n",
            "At epoch 440 the mean error is 0.010323002934455872.\n",
            "At epoch 450 the mean error is 0.009853407740592957.\n",
            "At epoch 460 the mean error is 0.00941561907529831.\n",
            "At epoch 470 the mean error is 0.00900678988546133.\n",
            "At epoch 480 the mean error is 0.008624340407550335.\n",
            "At epoch 490 the mean error is 0.008265948854386806.\n",
            "At epoch 500 the mean error is 0.00792950950562954.\n",
            "At epoch 510 the mean error is 0.007613108493387699.\n",
            "At epoch 520 the mean error is 0.0073150149546563625.\n",
            "At epoch 530 the mean error is 0.007033668924123049.\n",
            "At epoch 540 the mean error is 0.006767668761312962.\n",
            "At epoch 550 the mean error is 0.006515738554298878.\n",
            "At epoch 560 the mean error is 0.0062767332419753075.\n",
            "At epoch 570 the mean error is 0.006049633491784334.\n",
            "At epoch 580 the mean error is 0.005833514500409365.\n",
            "At epoch 590 the mean error is 0.005627563688904047.\n",
            "At epoch 600 the mean error is 0.005431046709418297.\n",
            "At epoch 610 the mean error is 0.005243321880698204.\n",
            "At epoch 620 the mean error is 0.005063815973699093.\n",
            "At epoch 630 the mean error is 0.004892025142908096.\n",
            "At epoch 640 the mean error is 0.004727513529360294.\n",
            "At epoch 650 the mean error is 0.004569880198687315.\n",
            "At epoch 660 the mean error is 0.004418793134391308.\n",
            "At epoch 670 the mean error is 0.004273951519280672.\n",
            "At epoch 680 the mean error is 0.00413508852943778.\n",
            "At epoch 690 the mean error is 0.004001957830041647.\n",
            "At epoch 700 the mean error is 0.003874360118061304.\n",
            "At epoch 710 the mean error is 0.0037520979531109333.\n",
            "At epoch 720 the mean error is 0.0036349815782159567.\n",
            "At epoch 730 the mean error is 0.0035228494089096785.\n",
            "At epoch 740 the mean error is 0.0034155352041125298.\n",
            "At epoch 750 the mean error is 0.003312883898615837.\n",
            "At epoch 760 the mean error is 0.003214737866073847.\n",
            "At epoch 770 the mean error is 0.0031209446024149656.\n",
            "At epoch 780 the mean error is 0.0030313485767692327.\n",
            "At epoch 790 the mean error is 0.0029457963537424803.\n",
            "At epoch 800 the mean error is 0.002864136127755046.\n",
            "At epoch 810 the mean error is 0.0027862112037837505.\n",
            "At epoch 820 the mean error is 0.0027118693105876446.\n",
            "At epoch 830 the mean error is 0.002640953054651618.\n",
            "At epoch 840 the mean error is 0.0025733087677508593.\n",
            "At epoch 850 the mean error is 0.002508787205442786.\n",
            "At epoch 860 the mean error is 0.0024472391232848167.\n",
            "At epoch 870 the mean error is 0.002388519700616598.\n",
            "At epoch 880 the mean error is 0.002332484582439065.\n",
            "At epoch 890 the mean error is 0.002278998028486967.\n",
            "At epoch 900 the mean error is 0.0022279261611402035.\n",
            "At epoch 910 the mean error is 0.002179139293730259.\n",
            "At epoch 920 the mean error is 0.002132511232048273.\n",
            "At epoch 930 the mean error is 0.0020879285875707865.\n",
            "At epoch 940 the mean error is 0.0020452728495001793.\n",
            "At epoch 950 the mean error is 0.0020044383127242327.\n",
            "At epoch 960 the mean error is 0.0019653248600661755.\n",
            "At epoch 970 the mean error is 0.0019278342369943857.\n",
            "At epoch 980 the mean error is 0.0018918735440820456.\n",
            "At epoch 990 the mean error is 0.0018573582638055086.\n",
            "At epoch 1000 the mean error is 0.0018242060905322433.\n"
          ]
        }
      ]
    },
    {
      "cell_type": "code",
      "source": [
        "xx = torch.linspace(-1.0,3.0,100).unsqueeze(1)\n",
        "update = (xx + Dt*(-xx+v.forward(xx))).repeat([1,1000]).unsqueeze(2) + torch.sqrt(Dt)*torch.normal(0., 1., size=[xx.shape[0],v.M,1])\n",
        "yy = v.cost(xx)*Dt+torch.mean(v.terminal(update),axis=1)\n",
        "zz = vval(xx)\n",
        "plt.plot(xx.squeeze(1).detach().numpy(),yy.squeeze(1).detach().numpy(),label='V(T-1,x) not object',marker='.');\n",
        "plt.plot(xx.squeeze(1).detach().numpy(),zz.squeeze(1).detach().numpy(),label='V(T-1,x) object');\n",
        "plt.title(\"Value function at T-\\Delta t\");\n",
        "plt.legend();\n",
        "plt.savefig(path+'test for value'+stamp+'.png');"
      ],
      "metadata": {
        "id": "T43rK1JieUWp",
        "outputId": "ada12418-ead7-426d-acd0-0de576b64613",
        "colab": {
          "base_uri": "https://localhost:8080/",
          "height": 452
        }
      },
      "execution_count": 121,
      "outputs": [
        {
          "output_type": "display_data",
          "data": {
            "text/plain": [
              "<Figure size 640x480 with 1 Axes>"
            ],
            "image/png": "[encoded data removed]"
          },
          "metadata": {}
        }
      ]
    },
    {
      "cell_type": "markdown",
      "source": [
        "# Conditional expectation"
      ],
      "metadata": {
        "id": "lpZBXu0JjVsM"
      }
    },
    {
      "cell_type": "markdown",
      "source": [
        "To evaluate $\\mathbb{E}[c(t,x,u)+\\phi(x,\\xi)]$ in Step 1, we need to create a module that evaluate expected value using a set of samples of $\\xi$.\n",
        "Such module must evaluate the expected value a a function of $x$. To do this, we use the following two wellknown theorems about conditional expectation\n",
        "\n",
        "\n",
        "  1) If $X$ and $\\xi$ are independent, then $\\mathbb{E}[\\phi(X,\\xi)|X]= \\Phi(X)$, where $\\Phi(x)=\\mathbb{E}[\\phi(x,\\xi)]$.\n",
        "\n",
        "  2) $\\mathbb{E}[Y|X]=f(X)$, where $f(x)$ is the minimizer of $\\mathbb{E}[(Y-f(X))^2]$.\n",
        "\n"
      ],
      "metadata": {
        "id": "SFst5aYlrH6e"
      }
    },
    {
      "cell_type": "markdown",
      "source": [
        "## Neural network approximation of conditional expectation\n",
        "\n",
        "$\\inf_{\\theta}\\mathbb{E}[(Y-\\phi(X;\\theta))^2]$\n",
        "\n",
        "and $\\phi(x;\\theta)$ is a neural network with parameter $\\theta$."
      ],
      "metadata": {
        "id": "Qws0AvGLMa9s"
      }
    },
    {
      "cell_type": "markdown",
      "source": [
        "## Test examples using neural networks\n",
        "\n",
        "Let's write a module that takes samples of $(X,Y)$ and returns $\\mathbb{E}[Y|X=x]$\n",
        "\n",
        "Example: $X$ standard normal and $Y=e^{-X}+e^X\\xi$ where $\\xi$ is standard normal independent of $X$. We know $\\mathbb{E}[Y|X]=e^{-X}$."
      ],
      "metadata": {
        "id": "QYB5z0mjOTxj"
      }
    },
    {
      "cell_type": "code",
      "source": [
        "#hyperparameters for learning\n",
        "lr = 1e-3\n",
        "num_epochs = 10000\n",
        "torch.set_printoptions(precision=10)\n",
        "loss_epoch = torch.zeros(num_epochs)"
      ],
      "metadata": {
        "id": "wzxOkxtppJyK"
      },
      "execution_count": null,
      "outputs": []
    },
    {
      "cell_type": "code",
      "source": [
        "def loss_fun(y,x,model):# y :samples for $Y$, x: samples for x, model: nn\n",
        "  return torch.mean(torch.pow(model(x)-y,2))\n"
      ],
      "metadata": {
        "id": "GT4QGv1xRECt"
      },
      "execution_count": null,
      "outputs": []
    },
    {
      "cell_type": "code",
      "source": [
        "'''conditional expectation of X[1,:] given X[0,:] in for of trained model'''\n",
        "def cond_expect(data, model):\n",
        "  optimizer = optim.Adam(model.parameters(), lr)\n",
        "  L_ = torch.Tensor([-2.0])\n",
        "  loss = torch.Tensor([2.0])\n",
        "  epoch=0\n",
        "  while (torch.abs(L_-loss)>1e-4) & (epoch <= num_epochs):# epoch in range(num_epochs):\n",
        "    optimizer.zero_grad()\n",
        "    loss=loss_fun(data[:,1].unsqueeze(1),data[:,0].unsqueeze(1),model)# Y=data[:,1], X=data[:,0]\n",
        "    loss.backward()\n",
        "    optimizer.step()\n",
        "    loss_epoch[epoch] = loss\n",
        "    if epoch>0:\n",
        "      L_ = loss_epoch[epoch-1]\n",
        "    if (epoch % 100==0):\n",
        "      print(\"At epoch {} the mean error is {}.\".format(epoch,loss.detach()))\n",
        "    epoch += 1\n"
      ],
      "metadata": {
        "id": "dokXzWTCjXh1"
      },
      "execution_count": null,
      "outputs": []
    },
    {
      "cell_type": "code",
      "source": [
        "# increase neurons\n",
        "model3= torch.nn.Sequential(\n",
        "    torch.nn.Linear(1, 16),\n",
        "    torch.nn.Tanh(),\n",
        "    # torch.nn.Sigmoid(),\n",
        "    # torch.nn.ReLU(),\n",
        "    torch.nn.Linear(16,1)\n",
        ")"
      ],
      "metadata": {
        "id": "fX4l4l3_pD45"
      },
      "execution_count": null,
      "outputs": []
    },
    {
      "cell_type": "code",
      "source": [
        "data = torch.cat((X,Y),dim=1)\n",
        "cond_expect(data,model3)\n"
      ],
      "metadata": {
        "id": "XCrDFmdDrNFA",
        "colab": {
          "base_uri": "https://localhost:8080/"
        },
        "outputId": "34822947-2bdf-4946-82df-06a118ab5760"
      },
      "execution_count": null,
      "outputs": [
        {
          "output_type": "stream",
          "name": "stdout",
          "text": [
            "At epoch 0 the mean error is 17.00364112854004.\n",
            "At epoch 100 the mean error is 13.908129692077637.\n",
            "At epoch 200 the mean error is 12.061391830444336.\n",
            "At epoch 300 the mean error is 11.121793746948242.\n",
            "At epoch 400 the mean error is 10.648493766784668.\n",
            "At epoch 500 the mean error is 10.324162483215332.\n",
            "At epoch 600 the mean error is 10.058430671691895.\n",
            "At epoch 700 the mean error is 9.83151626586914.\n",
            "At epoch 800 the mean error is 9.638840675354004.\n",
            "At epoch 900 the mean error is 9.474692344665527.\n",
            "At epoch 1000 the mean error is 9.333240509033203.\n",
            "At epoch 1100 the mean error is 9.20964241027832.\n",
            "At epoch 1200 the mean error is 9.100193977355957.\n",
            "At epoch 1300 the mean error is 9.002256393432617.\n",
            "At epoch 1400 the mean error is 8.914016723632812.\n",
            "At epoch 1500 the mean error is 8.834172248840332.\n",
            "At epoch 1600 the mean error is 8.76170825958252.\n",
            "At epoch 1700 the mean error is 8.695770263671875.\n",
            "At epoch 1800 the mean error is 8.635608673095703.\n",
            "At epoch 1900 the mean error is 8.580554962158203.\n",
            "At epoch 2000 the mean error is 8.530014991760254.\n",
            "At epoch 2100 the mean error is 8.4834623336792.\n",
            "At epoch 2200 the mean error is 8.440437316894531.\n",
            "At epoch 2300 the mean error is 8.400530815124512.\n",
            "At epoch 2400 the mean error is 8.363386154174805.\n",
            "At epoch 2500 the mean error is 8.328686714172363.\n",
            "At epoch 2600 the mean error is 8.296154975891113.\n",
            "At epoch 2700 the mean error is 8.265542030334473.\n",
            "At epoch 2800 the mean error is 8.236629486083984.\n",
            "At epoch 2900 the mean error is 8.209216117858887.\n",
            "At epoch 3000 the mean error is 8.183120727539062.\n",
            "At epoch 3100 the mean error is 8.158174514770508.\n",
            "At epoch 3200 the mean error is 8.1342191696167.\n",
            "At epoch 3300 the mean error is 8.111095428466797.\n",
            "At epoch 3400 the mean error is 8.08864688873291.\n",
            "At epoch 3500 the mean error is 8.066682815551758.\n",
            "At epoch 3600 the mean error is 8.044915199279785.\n",
            "At epoch 3700 the mean error is 8.022684097290039.\n",
            "At epoch 3800 the mean error is 7.99840784072876.\n",
            "At epoch 3900 the mean error is 7.971434593200684.\n",
            "At epoch 4000 the mean error is 7.945079803466797.\n",
            "At epoch 4100 the mean error is 7.921146869659424.\n",
            "At epoch 4200 the mean error is 7.8992180824279785.\n",
            "At epoch 4300 the mean error is 7.878772735595703.\n",
            "At epoch 4400 the mean error is 7.859522819519043.\n",
            "At epoch 4500 the mean error is 7.84130859375.\n",
            "At epoch 4600 the mean error is 7.82401180267334.\n",
            "At epoch 4700 the mean error is 7.807536602020264.\n",
            "At epoch 4800 the mean error is 7.791796684265137.\n",
            "At epoch 4900 the mean error is 7.776723384857178.\n",
            "At epoch 5000 the mean error is 7.76225471496582.\n",
            "At epoch 5100 the mean error is 7.7483415603637695.\n",
            "At epoch 5200 the mean error is 7.7349419593811035.\n",
            "At epoch 5300 the mean error is 7.7220234870910645.\n",
            "At epoch 5400 the mean error is 7.7095561027526855.\n",
            "At epoch 5500 the mean error is 7.697521686553955.\n",
            "At epoch 5600 the mean error is 7.6858978271484375.\n",
            "At epoch 5700 the mean error is 7.674670219421387.\n",
            "At epoch 5800 the mean error is 7.663822650909424.\n",
            "At epoch 5900 the mean error is 7.653346061706543.\n"
          ]
        }
      ]
    },
    {
      "cell_type": "code",
      "source": [
        "Z = torch.normal(0., 1., size=(M,1))\n",
        "W = torch.exp(-Z)+torch.exp(Z)*torch.normal(0., 1., size=(M,1))\n",
        "torch.set_printoptions(precision=10)\n",
        "print(\"Test on new data: MSE = {}\".format(loss_fun(W,Z,model3)))"
      ],
      "metadata": {
        "colab": {
          "base_uri": "https://localhost:8080/"
        },
        "outputId": "da916fbe-0519-4a88-9e4a-f6bb1f1ce358",
        "id": "8ZJDvbgZsUyl"
      },
      "execution_count": null,
      "outputs": [
        {
          "output_type": "stream",
          "name": "stdout",
          "text": [
            "Test on new data: MSE = 6.938503265380859\n"
          ]
        }
      ]
    },
    {
      "cell_type": "code",
      "source": [
        "xx = torch.linspace(-2,2,600)\n",
        "yy = model3(xx.unsqueeze(1))\n",
        "plt.plot(xx.detach().numpy(),yy.detach().numpy(), label='approximation');\n",
        "plt.plot(xx.detach().numpy(),np.exp(-xx.detach().numpy()), label='analytical');\n",
        "plt.title(\"Comparison with analytical solution\");\n",
        "plt.legend();\n",
        "plt.savefig(path+'test for model3'+stamp+'.png');"
      ],
      "metadata": {
        "outputId": "d5946848-b6f5-4ca5-ac20-36c4a21e0c10",
        "colab": {
          "base_uri": "https://localhost:8080/",
          "height": 452
        },
        "id": "jckqYPR3sUyt"
      },
      "execution_count": null,
      "outputs": [
        {
          "output_type": "display_data",
          "data": {
            "text/plain": [
              "<Figure size 640x480 with 1 Axes>"
            ],
            "image/png": "[encoded data removed]"
          },
          "metadata": {}
        }
      ]
    },
    {
      "cell_type": "markdown",
      "source": [
        "### **Evaluation of conditional expectation using deep learning is cool and all, but it is slow and causes some issue while training the neural net for the control. Therefore, we have to change our approach.**"
      ],
      "metadata": {
        "id": "134ven_1W9DT"
      }
    },
    {
      "cell_type": "markdown",
      "source": [
        "# Scratch coding"
      ],
      "metadata": {
        "id": "Xy1Vh3uFWk_I"
      }
    },
    {
      "cell_type": "markdown",
      "source": [
        "##########################################"
      ],
      "metadata": {
        "id": "wjwFszuSWlOd"
      }
    },
    {
      "cell_type": "code",
      "source": [
        "#hyperparameters for learning\n",
        "lr = 1e-3\n",
        "num_epochs = 1000\n",
        "torch.set_printoptions(precision=10)\n",
        "loss_epoch = torch.zeros(num_epochs)\n",
        "optimizer = optim.Adam(modelu.parameters(), lr)\n",
        "# scheduler = lr_scheduler.LinearLR(optimizer, start_factor=1e-1, end_factor=1e-5, total_iters=100)"
      ],
      "metadata": {
        "id": "hWKPMOQX09v3"
      },
      "execution_count": null,
      "outputs": []
    },
    {
      "cell_type": "code",
      "source": [
        "'''conditional expectation of X[1,:] given X[0,:] in for of trained model'''\n",
        "def oneStep(data, model):\n",
        "  optimizer = optim.Adam(model.parameters(), lr)\n",
        "  L_ = torch.Tensor([-2.0])\n",
        "  loss = torch.Tensor([2.0])\n",
        "  epoch=0\n",
        "  while (torch.abs(L_-loss)>1e-4) & (epoch <= num_epochs):# epoch in range(num_epochs):\n",
        "    optimizer.zero_grad()\n",
        "    loss=loss_fun(data[:,1].unsqueeze(1),data[:,0].unsqueeze(1),model)# Y=data[:,1], X=data[:,0]\n",
        "    loss.backward()\n",
        "    optimizer.step()\n",
        "    loss_epoch[epoch] = loss\n",
        "    if epoch>0:\n",
        "      L_ = loss_epoch[epoch-1]\n",
        "    if (epoch % 100==0):\n",
        "      print(\"At epoch {} the mean error is {}.\".format(epoch,loss.detach()))\n",
        "    epoch += 1\n"
      ],
      "metadata": {
        "id": "82-zpr63R7D-"
      },
      "execution_count": null,
      "outputs": []
    },
    {
      "cell_type": "code",
      "source": [
        "#saving the model\n",
        "torch.save(model1, path+\"model1_\"+str(stamp)+\".pt\")"
      ],
      "metadata": {
        "id": "ZPyyBKSL4ucg"
      },
      "execution_count": null,
      "outputs": []
    },
    {
      "cell_type": "code",
      "source": [
        "# write loss into a daraframe\n",
        "df_loss = pd.DataFrame([range(num_epochs), loss_epoch.detach().numpy()]).T\n",
        "df_loss.columns = ['Epoch','Loss']\n",
        "df_loss['Epoch'] = df_loss['Epoch'].astype('int64')\n",
        "df_loss.to_csv(path+\"run_model1_\"+str(stamp)+\".csv\",sep=\",\")"
      ],
      "metadata": {
        "id": "mwGcoKU9xYFS"
      },
      "execution_count": null,
      "outputs": []
    },
    {
      "cell_type": "code",
      "source": [
        "# testing\n",
        "Z = torch.normal(0., 1., size=(M,1))\n",
        "W = torch.exp(-Z)+torch.exp(Z)*torch.normal(0., 1., size=(M,1))\n",
        "torch.set_printoptions(precision=10)\n",
        "print(\"Test on new data: MSE = {}\".format(loss_fun(W,Z,model1)))"
      ],
      "metadata": {
        "id": "5uaufRfESx4c"
      },
      "execution_count": null,
      "outputs": []
    },
    {
      "cell_type": "code",
      "source": [
        "n = np.linspace(0,num_epochs,num_epochs)\n",
        "m = loss_epoch.detach().numpy()\n",
        "plt.plot(n,m);\n",
        "plt.title(\"Loss vs number of pochs in model1\");\n",
        "plt.savefig(path+'loss_vs_epoch_model1'+stamp+'.png');"
      ],
      "metadata": {
        "id": "DwpbR1fLSrf_"
      },
      "execution_count": null,
      "outputs": []
    },
    {
      "cell_type": "code",
      "source": [
        "xx = torch.linspace(-3,3,600)\n",
        "yy = model1(xx.unsqueeze(1))\n",
        "plt.plot(xx.detach().numpy(),yy.detach().numpy(), label='approximation');\n",
        "plt.plot(xx.detach().numpy(),np.exp(-xx.detach().numpy()), label='analytical');\n",
        "plt.title(\"Comparison with analytical solution\");\n",
        "plt.legend();\n",
        "plt.savefig(path+'test for model1'+stamp+'.png');"
      ],
      "metadata": {
        "id": "-Ny17ZLuVeoX"
      },
      "execution_count": null,
      "outputs": []
    },
    {
      "cell_type": "code",
      "source": [
        "def deriv(model,x):\n",
        "  x_ = x.clone().detach()\n",
        "  x_.requires_grad_(True)\n",
        "  u=model(x_)\n",
        "  return torch.autograd.grad(outputs=u, inputs=x_,grad_outputs=torch.ones_like(u),\n",
        "                           allow_unused=True,retain_graph=True,create_graph=True)[0]"
      ],
      "metadata": {
        "id": "f-aR_atMc4Wh"
      },
      "execution_count": null,
      "outputs": []
    },
    {
      "cell_type": "code",
      "source": [
        "xx = torch.linspace(-3,3,600)\n",
        "yy = deriv(model1,xx.unsqueeze(1))\n",
        "plt.plot(xx.detach().numpy(),yy.detach().numpy(), label='approximation');\n",
        "plt.plot(xx.detach().numpy(),-np.exp(-xx.detach().numpy()), label='analytical');\n",
        "plt.title(\"Comparison with analytical solution\");\n",
        "plt.legend();\n",
        "plt.savefig(path+'test for derivative  of model1'+stamp+'.png');"
      ],
      "metadata": {
        "id": "6JDRyWL4Y8fj"
      },
      "execution_count": null,
      "outputs": []
    },
    {
      "cell_type": "code",
      "source": [
        "# increase neurons\n",
        "model2= torch.nn.Sequential(\n",
        "    torch.nn.Linear(1, 16),\n",
        "    torch.nn.ReLU(),\n",
        "    # torch.nn.Linear(8, 8),\n",
        "    # torch.nn.ReLU(),\n",
        "    torch.nn.Linear(16,1)\n",
        ")"
      ],
      "metadata": {
        "id": "ckp-RKO29VnQ"
      },
      "execution_count": null,
      "outputs": []
    },
    {
      "cell_type": "code",
      "source": [
        "# create time stamp to save the result\n",
        "stamp = strftime('%Y-%m-%d %H:%M:%S', localtime())\n",
        "print(str(stamp))"
      ],
      "metadata": {
        "id": "HwczH1P79VnS"
      },
      "execution_count": null,
      "outputs": []
    },
    {
      "cell_type": "code",
      "source": [
        "#hyperparameters for learning\n",
        "optimizer = optim.Adam(model2.parameters(), lr)\n",
        "# scheduler = lr_scheduler.LinearLR(optimizer, start_factor=1e-1, end_factor=1e-5, total_iters=100)"
      ],
      "metadata": {
        "id": "viscjvNz9VnS"
      },
      "execution_count": null,
      "outputs": []
    },
    {
      "cell_type": "code",
      "source": [
        "for epoch in range(num_epochs):\n",
        "  optimizer.zero_grad()\n",
        "  loss=loss_fun(Y,X,model2)\n",
        "  loss.backward()\n",
        "  optimizer.step()\n",
        "  loss_epoch[epoch] = loss\n",
        "  # scheduler.step()\n",
        "  if (epoch % 1000==-1):\n",
        "    print(\"At epoch {} the mean error is {}.\".format(epoch,loss.detach()))\n"
      ],
      "metadata": {
        "id": "QqNzuZ1L9VnS"
      },
      "execution_count": null,
      "outputs": []
    },
    {
      "cell_type": "code",
      "source": [
        "#saving the model\n",
        "torch.save(model2, path+\"model2_\"+str(stamp)+\".pt\")"
      ],
      "metadata": {
        "id": "mGW5EHoZ9VnS"
      },
      "execution_count": null,
      "outputs": []
    },
    {
      "cell_type": "code",
      "source": [
        "# write loss into a daraframe\n",
        "df_loss = pd.DataFrame([range(num_epochs), loss_epoch.detach().numpy()]).T\n",
        "df_loss.columns = ['Epoch','Loss']\n",
        "df_loss['Epoch'] = df_loss['Epoch'].astype('int64')\n",
        "df_loss.to_csv(path+\"run_model2_\"+str(stamp)+\".csv\",sep=\",\")"
      ],
      "metadata": {
        "id": "VQLZeJjR9VnS"
      },
      "execution_count": null,
      "outputs": []
    },
    {
      "cell_type": "code",
      "source": [
        "Z = torch.normal(0., 1., size=(M,1))\n",
        "W = torch.exp(-Z)+torch.exp(Z)*torch.normal(0., 1., size=(M,1))\n",
        "torch.set_printoptions(precision=10)\n",
        "print(\"Test on new data: MSE = {}\".format(loss_fun(W,Z,model1)))"
      ],
      "metadata": {
        "id": "EAEUUahn9VnT"
      },
      "execution_count": null,
      "outputs": []
    },
    {
      "cell_type": "code",
      "source": [
        "import numpy as np\n",
        "import matplotlib.pyplot as plt\n",
        "n = np.linspace(0,num_epochs,num_epochs)\n",
        "m = loss_epoch.detach().numpy()\n",
        "plt.plot(n,m);\n",
        "plt.title(\"Loss vs number of epochs in model2\");\n",
        "plt.savefig(path+'loss_vs_epoch_model2'+stamp+'.png');"
      ],
      "metadata": {
        "id": "LyCJVN2Y9VnT"
      },
      "execution_count": null,
      "outputs": []
    },
    {
      "cell_type": "code",
      "source": [
        "xx = torch.linspace(-2,2,600)\n",
        "yy = model2(xx.unsqueeze(1))\n",
        "plt.plot(xx.detach().numpy(),yy.detach().numpy(), label='approximation');\n",
        "plt.plot(xx.detach().numpy(),np.exp(-xx.detach().numpy()), label='analytical');\n",
        "plt.title(\"Comparison with analytical solution\");\n",
        "plt.legend();\n",
        "plt.savefig(path+'test for model2'+stamp+'.png');"
      ],
      "metadata": {
        "id": "PW6OLwmt9VnT"
      },
      "execution_count": null,
      "outputs": []
    },
    {
      "cell_type": "code",
      "source": [
        "xx = torch.linspace(-3,3,600)\n",
        "yy = deriv(model2,xx.unsqueeze(1))\n",
        "plt.plot(xx.detach().numpy(),yy.detach().numpy(), label='approximation');\n",
        "plt.plot(xx.detach().numpy(),-np.exp(-xx.detach().numpy()), label='analytical');\n",
        "plt.title(\"Comparison with analytical solution\");\n",
        "plt.legend();\n",
        "plt.savefig(path+'test for derivative  of model2'+stamp+'.png');"
      ],
      "metadata": {
        "id": "3mxJvleweFr-"
      },
      "execution_count": null,
      "outputs": []
    },
    {
      "cell_type": "markdown",
      "source": [
        "## 1.2 Projectin method\n",
        "\n",
        "\n",
        "One trick to approximate $\\mathbb{E}[Y|X]=f(X)$ is to take the minimum over a smaller class of fuctions, e.g., $f(x)=\\sum_{k=1}^Ka_k\\phi_k(x)$, for a suitable set of functions $\\phi_k$. To evluate approximate $f$, we use a joint (unconditional) sample of $(X,Y)$, $\\{(x_j,y_j):j=i,...,J\\}$ to write\n",
        "\n",
        "$\\inf_{a_1,...,a_K}\\sum_{j=1}^J \\big(y_j-\\sum_{k=1}^Ka_k\\phi_k(x_j)\\big)^2$\n",
        "\n",
        "This is a quadratic minimization problem which has a unique solution. To find the minimizer, we take take derivative wrt $a_{k'}$ and set it to zero to obtain a linear system.\n",
        "\n",
        "$\\sum_{j=1}^J \\phi_{k'}(x_j)\\big(y_j-\\sum_{k=1}^Ka_k\\phi_k(x_j)\\big)=0$\n",
        "\n",
        "$\\sum_{k=1}^Ka_k\\sum_{j=1}^J\\phi_k(x_j)\\phi_{k'}(x_j) = \\sum_{j=1}^J \\phi_{k'}(x_j)y_j$\n",
        "\n",
        "or $Ma=b$ with\n",
        "\n",
        "$a=(a_1,...,a_K)^\\top$, $M=[m_{k'k}]$ with $m_{k'k}=\\sum_{j=1}^J\\phi_{k'}(x_j)\\phi_{k}(x_j)$, and $b=(b_1,...,b_K)^\\top$ with $b_k=\\sum_{j=1}^J\\phi_k(x_j)y_j$."
      ],
      "metadata": {
        "id": "053tEF-z6dyD"
      }
    },
    {
      "cell_type": "markdown",
      "source": [
        "## 1.3. Choosing basis $\\phi_k$\n",
        "\n",
        "It is useful to choose the basis $\\phi_k$ such that $m_{k'k}=0$ when $k'\\neq k$. Then, the linear system above takes no time to solve: $a_k=b_k/m_{kk}$. Sometimes this is done by using orthogonal polynomials. However, we propose a simpler solution: choose the basis such that $\\phi_k(x)$ and $\\phi_{k'}(x)$ have disjoint support. For instance, they are indicator functions of hypercubes.\n",
        " More detains of this method can be found in the paper [Monte-Carlo valuation of American options: facts and new algorithms to improve existing methods](https://www.ceremade.dauphine.fr/~bouchard/pdf/BW10.pdf)."
      ],
      "metadata": {
        "id": "GvmlYke0-cG-"
      }
    },
    {
      "cell_type": "markdown",
      "source": [
        "## 1.3. Simulationg samples of $(X_t,\\xi)$\n",
        "Let $\\xi$ be Gaussian, e.g., increment of Brownian motion, we can choose any distribution for $X_t$ independent of $\\xi$."
      ],
      "metadata": {
        "id": "k2kPNML4_kY2"
      }
    },
    {
      "cell_type": "markdown",
      "source": [
        "# Step 2 DPP\n",
        "Start the backward scheme by feeding $C(t,x,u)$ and $g(x)$ into the optimization module and obtain $V(T-1,x)$ over the range of simulated values for $X_{T-1}$.\n",
        "\n",
        "Repeat the process by feeding $C(t,x,u)$ and $V(t+1,x)$ into the optimization module to obtain $V(t,x)$.\n",
        "\n",
        "It is important to make sure the simulated samples of $X^u_{t+1}$ are well inside the range in which estimation of $V(t+1,x)$ is rather accurate/"
      ],
      "metadata": {
        "id": "HlNWVIImAJGE"
      }
    }
  ]
}