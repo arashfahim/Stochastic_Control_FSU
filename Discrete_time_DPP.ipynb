{
  "nbformat": 4,
  "nbformat_minor": 0,
  "metadata": {
    "colab": {
      "provenance": [],
      "toc_visible": true,
      "include_colab_link": true
    },
    "kernelspec": {
      "name": "python3",
      "display_name": "Python 3"
    },
    "language_info": {
      "name": "python"
    }
  },
  "cells": [
    {
      "cell_type": "markdown",
      "metadata": {
        "id": "view-in-github",
        "colab_type": "text"
      },
      "source": [
        "<a href=\"https://colab.research.google.com/github/arashfahim/Stochastic_Control_FSU/blob/main/Discrete_time_DPP.ipynb\" target=\"_parent\"><img src=\"https://colab.research.google.com/assets/colab-badge.svg\" alt=\"Open In Colab\"/></a>"
      ]
    },
    {
      "cell_type": "code",
      "source": [
        "!git clone https://github.com/arashfahim/Stochastic_Control_FSU"
      ],
      "metadata": {
        "colab": {
          "base_uri": "https://localhost:8080/"
        },
        "id": "uYpsD_vHtIpa",
        "outputId": "a5cf91a0-4423-40a3-9619-3506c747ce8f"
      },
      "execution_count": 2,
      "outputs": [
        {
          "output_type": "stream",
          "name": "stdout",
          "text": [
            "Cloning into 'Stochastic_Control_FSU'...\n",
            "remote: Enumerating objects: 105, done.\u001b[K\n",
            "remote: Counting objects: 100% (9/9), done.\u001b[K\n",
            "remote: Compressing objects: 100% (7/7), done.\u001b[K\n",
            "remote: Total 105 (delta 3), reused 2 (delta 2), pack-reused 96\u001b[K\n",
            "Receiving objects: 100% (105/105), 2.09 MiB | 6.03 MiB/s, done.\n",
            "Resolving deltas: 100% (52/52), done.\n"
          ]
        }
      ]
    },
    {
      "cell_type": "code",
      "source": [
        "! ls -l"
      ],
      "metadata": {
        "colab": {
          "base_uri": "https://localhost:8080/"
        },
        "id": "VcK8F3qLthk9",
        "outputId": "88b535d3-f257-44d5-8960-a562ff65f76a"
      },
      "execution_count": 3,
      "outputs": [
        {
          "output_type": "stream",
          "name": "stdout",
          "text": [
            "total 8\n",
            "drwxr-xr-x 1 root root 4096 Nov 30 14:27 sample_data\n",
            "drwxr-xr-x 4 root root 4096 Dec  1 18:42 Stochastic_Control_FSU\n"
          ]
        }
      ]
    },
    {
      "cell_type": "code",
      "source": [
        "path = r'/content/Stochastic_Control_FSU/arashfahim/Stochastic_Control_FSU/'"
      ],
      "metadata": {
        "id": "gDKJJU8n5db3"
      },
      "execution_count": 4,
      "outputs": []
    },
    {
      "cell_type": "code",
      "source": [
        "# mount google drive\n",
        "from google.colab import drive\n",
        "drive.mount('/content/drive')"
      ],
      "metadata": {
        "colab": {
          "base_uri": "https://localhost:8080/"
        },
        "id": "ix4wczxVvVD8",
        "outputId": "7cb1e81c-0b55-4435-fa26-410bf7ac687b"
      },
      "execution_count": 5,
      "outputs": [
        {
          "output_type": "stream",
          "name": "stdout",
          "text": [
            "Mounted at /content/drive\n"
          ]
        }
      ]
    },
    {
      "cell_type": "markdown",
      "source": [
        "The goal of this notebook is to implement a one-step dynamic programming principle, DPP, for a stochastic control problem.\n",
        "\n",
        "The stochastic control problem is given by\n",
        "\n",
        "$\\inf_{u_0,...u_{T-1}}\\mathbb{E}\\bigg[\\sum_{t=0}^{T-1}C(t,X^u_t,u_t)+g(X^u_T)\\bigg]$\n",
        "\n",
        "\n"
      ],
      "metadata": {
        "id": "Hq2eZ_d-UDNp"
      }
    },
    {
      "cell_type": "markdown",
      "source": [
        "The DPP is given by\n",
        "\n",
        "$\\begin{cases}\n",
        "V(t,x)=\\inf_{u\\in\\mathbb{R}^d}\\mathbb{E}[C(t,x,u)+V(t+1,X^u_{t+1})]\\\\\n",
        "V(T,x)=g(x)\n",
        "\\end{cases}$\n",
        "\n",
        "with $X^u_{t+1}=x+\\mu(t,x,u)+\\sigma(t,x,u)\\xi_{t+1}$"
      ],
      "metadata": {
        "id": "JP7f4T78Uqvg"
      }
    },
    {
      "cell_type": "code",
      "source": [
        "import torch\n",
        "import torch.nn as nn\n",
        "import pandas as pd\n",
        "import numpy as np\n",
        "import time\n",
        "from time import strftime, localtime\n",
        "import torch.optim as optim #import optimizer\n",
        "# import torch.optim.lr_scheduler as lr_scheduler\n",
        "import matplotlib\n",
        "import matplotlib.pyplot as plt\n",
        "from matplotlib.ticker import MaxNLocator\n",
        "from matplotlib import cm\n",
        "from mpl_toolkits.mplot3d import Axes3D\n",
        "\n",
        "M =10000# number of samples\n",
        "X = torch.normal(0., 1., size=(M,1))# samples for X~N(0,1)\n",
        "Y = torch.exp(-X)+torch.exp(X)*torch.normal(0., 1., size=(M,1))# samples for Y=e^{-x}+e^{x}N(0,1)\n",
        "# X.shape\n",
        "T=1# terminal horizon\n",
        "N = 10 # of time steps\n",
        "Dt= torch.Tensor([T/N])# time step size"
      ],
      "metadata": {
        "id": "-Obh3NNKOTMI"
      },
      "execution_count": 6,
      "outputs": []
    },
    {
      "cell_type": "code",
      "source": [
        "# create time stamp to save the result\n",
        "stamp = strftime('%Y-%m-%d %H:%M:%S', localtime())\n",
        "print(str(stamp))"
      ],
      "metadata": {
        "id": "5hwEP5QcSA4n",
        "colab": {
          "base_uri": "https://localhost:8080/"
        },
        "outputId": "abc121ac-4efb-465e-84e1-ecf6eb385b12"
      },
      "execution_count": 7,
      "outputs": [
        {
          "output_type": "stream",
          "name": "stdout",
          "text": [
            "2023-12-01 18:43:43\n"
          ]
        }
      ]
    },
    {
      "cell_type": "code",
      "source": [
        "# for p in model3.parameters():\n",
        "#   print(p)"
      ],
      "metadata": {
        "id": "CFJabAfVgYaB"
      },
      "execution_count": 8,
      "outputs": []
    },
    {
      "cell_type": "markdown",
      "source": [
        "## Write one-step DPP as\n",
        "\n",
        "$V(t,x)=\\inf_{u(x)}C(t,x,u(x))+\\mathbb{E}^{B}[V(t+1,X^u_{t+1})]$\n",
        "\n",
        "Formulate the loss function as\n",
        "\n",
        "$\\inf_{\\theta}\\mathbb{E}^{X_t,B}\\bigg[C(t,X_t,u(X_t;\\theta))+V\\Big(t+1,X_{t}+\\mu\\big(t,X_{t},u(X_t;\\theta)\\big)\\Delta t+\\sigma\\big(t,X_{t},u(X_t;\\theta)\\big)\\Delta B_{t+1})\\Big)\\bigg]$\n",
        "\n",
        "The empirical loss is given base on a sample of $X_t$, $\\{x^j\\}$ and $N(0,1)$, $\\{\\xi^j\\}$, independently.\n",
        "\n",
        "$\\inf_{\\theta}\\sum_{j}\\bigg[C(t,x^j,u(x^j;\\theta))+V\\Big(t+1,x^j+\\mu\\big(t,x^j,u(x^j;\\theta)\\big)\\Delta t+\\sigma\\big(t,x^j,u(x^j;\\theta)\\big)\\sqrt{\\Delta t} \\xi^j)\\Big)\\bigg]$\n"
      ],
      "metadata": {
        "id": "-1DH7J8nXyM0"
      }
    },
    {
      "cell_type": "markdown",
      "source": [],
      "metadata": {
        "id": "eOKSe69Nlot4"
      }
    },
    {
      "cell_type": "markdown",
      "source": [
        "## Creation of optimization module\n",
        "\n",
        "We need to solve the above one-step optimization problem.\n",
        "\n",
        "Input: $\\phi(x,u,\\xi)$ and $c(x,u)$\n",
        "\n",
        "Optimize: $\\inf_u\\mathbb{E}[c(x,u)+\\phi(x,u,\\xi)]$\n",
        "\n",
        "Output: $u^*(x)\\in\\textrm{argmin}\\mathbb{E}[c(x,u)+\\phi(x,u,\\xi)]$\n",
        "\n",
        "\n",
        "\n",
        "---\n",
        "\n",
        "It is important to make sure the input and output are functions and not just data points."
      ],
      "metadata": {
        "id": "nH3hSPxVVKX-"
      }
    },
    {
      "cell_type": "markdown",
      "source": [
        "# Multistep DPP"
      ],
      "metadata": {
        "id": "VHQ24nbeAHCT"
      }
    },
    {
      "cell_type": "markdown",
      "source": [
        "## At $t=T-\\Delta t$"
      ],
      "metadata": {
        "id": "JOE-raThcMBx"
      }
    },
    {
      "cell_type": "code",
      "source": [
        "# increase neurons\n",
        "modelu= torch.nn.Sequential(\n",
        "    torch.nn.Linear(1, 16),\n",
        "    torch.nn.Tanh(),\n",
        "    # torch.nn.Linear(8, 8),\n",
        "    # torch.nn.ReLU(),\n",
        "    torch.nn.Linear(16,1)\n",
        ")"
      ],
      "metadata": {
        "id": "YP5VUo5dCTj4"
      },
      "execution_count": 9,
      "outputs": []
    },
    {
      "cell_type": "code",
      "source": [
        "class cost:\n",
        "  def __init__(self,flag):\n",
        "    self.flag = flag\n",
        "  def cost(self,x,*args):\n",
        "    if self.flag == 'T':\n",
        "      return torch.Tensor([0.5])*torch.pow(x,2)-x\n",
        "    else:\n",
        "      u=args[0]\n",
        "      return torch.Tensor([0.5])*torch.pow(x,2) + torch.Tensor([0.5])*torch.pow(u,2)\n",
        "# goal: to add the term E[V(t+1, X^u_{t+1})|X_t=x] inside the cost function for t<T."
      ],
      "metadata": {
        "id": "0hYvYODPFJVX"
      },
      "execution_count": 10,
      "outputs": []
    },
    {
      "cell_type": "code",
      "source": [
        "g_term = cost('T')\n",
        "c = cost('')"
      ],
      "metadata": {
        "id": "sfHup0mjGR00"
      },
      "execution_count": 11,
      "outputs": []
    },
    {
      "cell_type": "code",
      "source": [
        "x = torch.Tensor([1.0])\n",
        "c.cost(x,modelu(x)),g_term.cost(x)"
      ],
      "metadata": {
        "colab": {
          "base_uri": "https://localhost:8080/"
        },
        "id": "Yvr9uc0-GU5p",
        "outputId": "01fc13db-d748-4463-c35e-e2771bcc0c95"
      },
      "execution_count": 12,
      "outputs": [
        {
          "output_type": "execute_result",
          "data": {
            "text/plain": [
              "(tensor([0.5421], grad_fn=<AddBackward0>), tensor([-0.5000]))"
            ]
          },
          "metadata": {},
          "execution_count": 12
        }
      ]
    },
    {
      "cell_type": "markdown",
      "source": [
        "### Last step with $g(X^u_{T})$"
      ],
      "metadata": {
        "id": "TX5YRzbmTsL5"
      }
    },
    {
      "cell_type": "code",
      "source": [
        "X = torch.normal(0., 1., size=(M,1))# samples for X~N(0,1)"
      ],
      "metadata": {
        "id": "FMR6HO4YTrq1"
      },
      "execution_count": 13,
      "outputs": []
    },
    {
      "cell_type": "code",
      "source": [
        "# # increase neurons\n",
        "# modelexcost= torch.nn.Sequential(\n",
        "#     torch.nn.Linear(1, 16),\n",
        "#     torch.nn.Tanh(),\n",
        "#     # torch.nn.Linear(8, 8),\n",
        "#     # torch.nn.ReLU(),\n",
        "#     torch.nn.Linear(16,1)\n",
        "# )"
      ],
      "metadata": {
        "id": "gE3MJNw3WQNM"
      },
      "execution_count": 14,
      "outputs": []
    },
    {
      "cell_type": "code",
      "source": [
        "# for p in modelu.parameters():\n",
        "#   p.requires_grad = False\n",
        "# Y = g.cost(update(X,modelu(X)))\n",
        "# data = torch.cat((X,Y),dim=1)\n",
        "# cond_expect(data,modelexcost)\n"
      ],
      "metadata": {
        "id": "VR3UUsvQVsAR"
      },
      "execution_count": 15,
      "outputs": []
    },
    {
      "cell_type": "code",
      "source": [
        "xi = torch.normal(0., 1., size=(M,1))#must be defined outside update because it is going to be used in the learning and we want to avoid generating samples at each epoch\n",
        "def update(x,u):\n",
        "  return x + (-x+u)*Dt + torch.sqrt(Dt)*xi"
      ],
      "metadata": {
        "id": "rPVaRQBdUVOc"
      },
      "execution_count": 16,
      "outputs": []
    },
    {
      "cell_type": "code",
      "source": [
        "c.cost(X,modelu(X))+ g_term.cost(update(X,modelu(X)))"
      ],
      "metadata": {
        "colab": {
          "base_uri": "https://localhost:8080/"
        },
        "id": "1b3-8T-ZiQCX",
        "outputId": "888159a1-8de8-476c-9ccd-a3cc86001d40"
      },
      "execution_count": 17,
      "outputs": [
        {
          "output_type": "execute_result",
          "data": {
            "text/plain": [
              "tensor([[-0.1067],\n",
              "        [-0.2588],\n",
              "        [ 1.1962],\n",
              "        ...,\n",
              "        [ 0.5173],\n",
              "        [ 0.2528],\n",
              "        [ 6.1420]], grad_fn=<AddBackward0>)"
            ]
          },
          "metadata": {},
          "execution_count": 17
        }
      ]
    },
    {
      "cell_type": "code",
      "source": [
        "lr = 1e-3\n",
        "num_epochs = 100\n",
        "optimizer1 = optim.Adam(modelu.parameters(), lr)\n",
        "L_ = torch.Tensor([-2.0])\n",
        "loss = torch.Tensor([2.0])\n",
        "loss_epoch = []\n",
        "epoch=0\n",
        "while (torch.abs(L_-loss)>1e-6) & (epoch <= num_epochs):# epoch in range(num_epochs):\n",
        "  optimizer1.zero_grad()\n",
        "  loss=torch.mean(c.cost(X,modelu(X))+ g_term.cost(update(X,modelu(X))))#\n",
        "  loss.backward()\n",
        "  optimizer1.step()\n",
        "  loss_epoch.append(loss)\n",
        "  if epoch>0:\n",
        "    L_ = loss_epoch[epoch-1]\n",
        "  if (epoch % 10==0):\n",
        "    print(\"At epoch {} the mean error is {}.\".format(epoch,loss.detach()))\n",
        "  epoch += 1"
      ],
      "metadata": {
        "colab": {
          "base_uri": "https://localhost:8080/"
        },
        "id": "mW-VGLvHXPH-",
        "outputId": "79a18e77-c3d9-4f1a-f3e3-a02af1a49357"
      },
      "execution_count": 18,
      "outputs": [
        {
          "output_type": "stream",
          "name": "stdout",
          "text": [
            "At epoch 0 the mean error is 0.967871367931366.\n",
            "At epoch 10 the mean error is 0.9546265602111816.\n",
            "At epoch 20 the mean error is 0.9466550946235657.\n",
            "At epoch 30 the mean error is 0.9424077868461609.\n",
            "At epoch 40 the mean error is 0.9406474828720093.\n",
            "At epoch 50 the mean error is 0.9401813745498657.\n"
          ]
        }
      ]
    },
    {
      "cell_type": "code",
      "source": [
        "# Z = torch.normal(0., 1., size=(M,1))\n",
        "# torch.set_printoptions(precision=10)\n",
        "# print(\"Test on new data: MSE = {}\".format(torch.mean(c.cost(Z,modelu(Z))+ g.cost(update(Z,modelu(Z))))))"
      ],
      "metadata": {
        "id": "4CdZEZCVrWSm"
      },
      "execution_count": 19,
      "outputs": []
    },
    {
      "cell_type": "code",
      "source": [
        "def test_update(x,u):\n",
        "  #Antithetic variables\n",
        "  N = torch.normal(0., 1., size=[x.shape[0],100000])\n",
        "  # M = torch.Tensor([0.1])*torch.normal(0., 1., size=[x.shape[0],100000]) - torch.Tensor([0.9])*N\n",
        "  return x + (-x+modelu(x))*Dt + torch.sqrt(Dt)*N#*torch.Tensor([0.5])*(M+N)\n",
        "def V(x, u):\n",
        "  return c.cost(x,u)*Dt+torch.mean(g_term.cost(test_update(x,u)),axis=1).unsqueeze(1)#c.cost(x,u)+torch.mean(g.cost(test_update(x,u))),"
      ],
      "metadata": {
        "id": "TdWBPRM6XxP8"
      },
      "execution_count": 20,
      "outputs": []
    },
    {
      "cell_type": "code",
      "source": [
        "x = torch.Tensor([0.0]).unsqueeze(1)\n",
        "u=torch.Tensor([[0.0]])\n",
        "test_update(x,u),c.cost(x,u)*Dt,torch.mean(g_term.cost(test_update(x,u)),axis=1).unsqueeze(1),torch.std(g_term.cost(test_update(x,u)),axis=1).unsqueeze(1),V(x,u)"
      ],
      "metadata": {
        "id": "gQVu00sgsq0i",
        "outputId": "598101e9-2257-4ecf-d631-5ecdf28d5f1b",
        "colab": {
          "base_uri": "https://localhost:8080/"
        }
      },
      "execution_count": 21,
      "outputs": [
        {
          "output_type": "execute_result",
          "data": {
            "text/plain": [
              "(tensor([[ 0.1484, -0.0772, -0.1562,  ...,  0.2536,  0.6661, -0.2483]],\n",
              "        grad_fn=<AddBackward0>),\n",
              " tensor([[0.]]),\n",
              " tensor([[0.0399]], grad_fn=<UnsqueezeBackward0>),\n",
              " tensor([[0.3215]], grad_fn=<UnsqueezeBackward0>),\n",
              " tensor([[0.0414]], grad_fn=<AddBackward0>))"
            ]
          },
          "metadata": {},
          "execution_count": 21
        }
      ]
    },
    {
      "cell_type": "code",
      "source": [
        "# xx = torch.linspace(-3.0,3.0,50).unsqueeze(1)\n",
        "# V(xx,modelu(xx)).shape"
      ],
      "metadata": {
        "id": "n-y--way_B01"
      },
      "execution_count": 22,
      "outputs": []
    },
    {
      "cell_type": "code",
      "source": [
        "xx = torch.linspace(-3.0,3.0,50).unsqueeze(1)\n",
        "yy = V(xx,modelu(xx))\n",
        "zz = g_term.cost(xx)\n",
        "plt.plot(xx.squeeze(1).detach().numpy(),yy.squeeze(1).detach().numpy(),label='V(T-1,x)');\n",
        "plt.plot(xx.squeeze(1).detach().numpy(),zz.squeeze(1).detach().numpy(),label='g(x)');\n",
        "plt.title(\"'Value function at T-Delta t'\");\n",
        "plt.legend();\n",
        "plt.savefig(path+'test for value'+stamp+'.png');"
      ],
      "metadata": {
        "id": "HxEnAPb3lg9r",
        "outputId": "fdf4ac25-e962-4899-e9c0-199f60c19a1b",
        "colab": {
          "base_uri": "https://localhost:8080/",
          "height": 452
        }
      },
      "execution_count": 23,
      "outputs": [
        {
          "output_type": "display_data",
          "data": {
            "text/plain": [
              "<Figure size 640x480 with 1 Axes>"
            ],
            "image/png": "[encoded data removed]"
          },
          "metadata": {}
        }
      ]
    },
    {
      "cell_type": "markdown",
      "source": [
        "# Object-oriented approach\n",
        "\n",
        "A neural net in torch is an object of type _*torch.nn.Module*_. We create a child of this object which includes the needed functions used in the training."
      ],
      "metadata": {
        "id": "r-m9HGAwlgSg"
      }
    },
    {
      "cell_type": "markdown",
      "source": [
        "## One-step"
      ],
      "metadata": {
        "id": "tRKKfEXlh9N_"
      }
    },
    {
      "cell_type": "markdown",
      "source": [
        "Class to model optimal control"
      ],
      "metadata": {
        "id": "f29VaA0NtXnf"
      }
    },
    {
      "cell_type": "code",
      "source": [
        "class one_step(nn.Module):\n",
        "    def __init__(self,terminal,flag):\n",
        "        super(one_step, self).__init__()\n",
        "        self.layer = torch.nn.Sequential()\n",
        "        self.layer.add_module(\"L1\",torch.nn.Linear(1, 16))\n",
        "        self.layer.add_module(\"Tanh\", torch.nn.Tanh())\n",
        "        self.layer.add_module(\"L2\",torch.nn.Linear(16,1))\n",
        "        self.flag = flag\n",
        "        self.M = 1000\n",
        "        self.N = torch.normal(0., 1., size=[self.M,1])\n",
        "        self.terminal = terminal\n",
        "        self.X = torch.normal(0., 1., size=(self.M,1))#traning set\n",
        "        self.Y = None\n",
        "    def forward(self, x):\n",
        "        val = self.layer(x)\n",
        "        return val\n",
        "    def loss(self):\n",
        "        #Antithetic variables\n",
        "        # M = torch.Tensor([0.1])*torch.normal(0., 1., size=[self.M,1]) - torch.Tensor([0.9])*N\n",
        "        update = self.X + (-self.X+self.forward(self.X))*Dt + torch.sqrt(Dt)*self.N#*torch.Tensor([0.5])*(M+N)\n",
        "        # print(\"update shape in loss\",update.shape)\n",
        "        return torch.mean(self.cost(self.X)+self.terminal(update))\n",
        "    def cost(self,x):#take a [N,1] tensor\n",
        "        return torch.Tensor([0.5])*torch.pow(x,2) + torch.Tensor([0.5])*torch.pow(self.forward(x),2)\n",
        "    def value(self):\n",
        "        update = (self.X + Dt*(-self.X+self.forward(self.X))).repeat([1,self.M]).unsqueeze(2) + torch.sqrt(Dt)*torch.normal(0., 1., size=[self.X.shape[0],self.M,1])\n",
        "        # print(\"update shape in loss\",update.shape)\n",
        "        self.Y = self.cost(self.X)*Dt+torch.mean(self.terminal(update),axis=1)"
      ],
      "metadata": {
        "id": "k0II3m4dCqyD"
      },
      "execution_count": 24,
      "outputs": []
    },
    {
      "cell_type": "markdown",
      "source": [
        "Class to model terminal and value functions"
      ],
      "metadata": {
        "id": "sOFcBvogta0I"
      }
    },
    {
      "cell_type": "code",
      "source": [
        "class terminal(nn.Module):\n",
        "    def __init__(self,flag,*args):\n",
        "        super(terminal, self).__init__()\n",
        "        self.layer = torch.nn.Sequential()\n",
        "        self.layer.add_module(\"L1\",torch.nn.Linear(1, 16))\n",
        "        self.layer.add_module(\"Tanh\", torch.nn.Tanh())\n",
        "        self.layer.add_module(\"L2\",torch.nn.Linear(16,1))\n",
        "        self.flag = flag\n",
        "    def forward(self, x):\n",
        "        if self.flag == 'T':\n",
        "            return torch.Tensor([0.5])*torch.pow(x,2)-x\n",
        "        else:\n",
        "            val = self.layer(x)\n",
        "            return val\n",
        "        return x"
      ],
      "metadata": {
        "id": "FYLj1w8DcJ_J"
      },
      "execution_count": 25,
      "outputs": []
    },
    {
      "cell_type": "code",
      "source": [
        "g = terminal('T')\n",
        "v = one_step(g,'')"
      ],
      "metadata": {
        "id": "OUI2R-NteZx7"
      },
      "execution_count": 26,
      "outputs": []
    },
    {
      "cell_type": "code",
      "source": [
        "# update1 = (v.X + Dt*(-v.X+v.forward(v.X))).repeat([1,v.M]).unsqueeze(2) + torch.sqrt(Dt)*torch.normal(0., 1., size=[v.X.shape[0],v.M,1])\n",
        "# # print(\"update shape in loss\",update.shape)\n",
        "# Y1 = v.cost(v.X)*Dt+torch.mean(v.terminal(update1),axis=1)"
      ],
      "metadata": {
        "id": "xLesEKY8dWBI"
      },
      "execution_count": 27,
      "outputs": []
    },
    {
      "cell_type": "code",
      "source": [
        "# update2 = (v.X + Dt*(-v.X+v.forward(v.X))).repeat([1,v.M]).unsqueeze(2) + torch.sqrt(Dt)*torch.normal(0., 1., size=[v.X.shape[0],v.M,1])\n",
        "# Y2 = v.cost(v.X)*Dt+torch.mean(v.terminal(update2),axis=1)\n",
        "# # update.shape, Y.shape"
      ],
      "metadata": {
        "id": "x29TtvYGam6Z"
      },
      "execution_count": 28,
      "outputs": []
    },
    {
      "cell_type": "code",
      "source": [
        "# dY = Y1-Y2\n",
        "# dU =torch.mean(v.terminal(update1),axis=1)- torch.mean(v.terminal(update2),axis=1)"
      ],
      "metadata": {
        "id": "ADPN2tXtQ1PA"
      },
      "execution_count": 29,
      "outputs": []
    },
    {
      "cell_type": "code",
      "source": [
        "loss_epoch = []\n",
        "num_epochs = 500\n",
        "lr = 1e-2\n",
        "optimizer1 = optim.Adam(v.parameters(), lr)\n",
        "L_ = torch.Tensor([-2.0])\n",
        "loss = torch.Tensor([2.0])\n",
        "epoch=0\n",
        "while (torch.abs(L_-loss)>1e-6) & (epoch <= num_epochs):# epoch in range(num_epochs):\n",
        "  optimizer1.zero_grad()\n",
        "  loss= v.loss()#self.cost(self.X,self.modelu(X))+ torch.mean(self.terminal(update(self.X,self.modelu(X))))#\n",
        "  loss.backward()\n",
        "  optimizer1.step()\n",
        "  loss_epoch.append(loss)\n",
        "  if epoch>0:\n",
        "    L_ = loss_epoch[epoch-1]\n",
        "  if (epoch % 10==0):\n",
        "    print(\"At epoch {} the mean error is {}.\".format(epoch,loss.detach()))\n",
        "  epoch += 1"
      ],
      "metadata": {
        "colab": {
          "base_uri": "https://localhost:8080/"
        },
        "id": "KdFN4B96PGAy",
        "outputId": "3b46cab7-76c0-4862-bf46-5269bf2b9446"
      },
      "execution_count": 30,
      "outputs": [
        {
          "output_type": "stream",
          "name": "stdout",
          "text": [
            "At epoch 0 the mean error is 0.9724502563476562.\n",
            "At epoch 10 the mean error is 0.9175848364830017.\n",
            "At epoch 20 the mean error is 0.907578706741333.\n",
            "At epoch 30 the mean error is 0.9066776037216187.\n",
            "At epoch 40 the mean error is 0.9065693616867065.\n",
            "At epoch 50 the mean error is 0.9061384797096252.\n",
            "At epoch 60 the mean error is 0.9058727025985718.\n"
          ]
        }
      ]
    },
    {
      "cell_type": "code",
      "source": [
        "v.value()"
      ],
      "metadata": {
        "id": "VZmy-1aZNUZe"
      },
      "execution_count": 31,
      "outputs": []
    },
    {
      "cell_type": "code",
      "source": [
        "plt.scatter(v.X.detach().numpy(),v.Y.detach().numpy(),label='Value from the code');\n",
        "plt.scatter(v.X.detach().numpy(),g(v.X).detach().numpy(),label='terminal',marker='.');\n",
        "plt.legend();"
      ],
      "metadata": {
        "id": "5e4QEmzb1ZlI",
        "outputId": "b7a87609-42ae-445e-a69d-3f5d4e8f6849",
        "colab": {
          "base_uri": "https://localhost:8080/",
          "height": 430
        }
      },
      "execution_count": 32,
      "outputs": [
        {
          "output_type": "display_data",
          "data": {
            "text/plain": [
              "<Figure size 640x480 with 1 Axes>"
            ],
            "image/png": "[encoded data removed]"
          },
          "metadata": {}
        }
      ]
    },
    {
      "cell_type": "code",
      "source": [
        "vval = terminal('')"
      ],
      "metadata": {
        "id": "Jzjisnmlg6R8"
      },
      "execution_count": 33,
      "outputs": []
    },
    {
      "cell_type": "code",
      "source": [
        "# x = torch.linspace(-1,1,4).unsqueeze(1)\n",
        "# vval(x)"
      ],
      "metadata": {
        "id": "dkDaWLRAWSij"
      },
      "execution_count": 34,
      "outputs": []
    },
    {
      "cell_type": "code",
      "source": [
        "# for p in v.parameters():\n",
        "#     p.requires_grad = False"
      ],
      "metadata": {
        "id": "OjkgFN6bh41h"
      },
      "execution_count": 35,
      "outputs": []
    },
    {
      "cell_type": "code",
      "source": [
        "loss_epochv = []\n",
        "num_epochs = 1000\n",
        "lrv = 1e-2\n",
        "optimizerv = optim.Adam(vval.parameters(), lrv)\n",
        "L_ = torch.Tensor([-2.0])\n",
        "loss = torch.Tensor([2.0])\n",
        "epoch=0\n",
        "x = v.X.clone().detach()\n",
        "y = v.Y.clone().detach()\n",
        "while (torch.abs(L_-loss)>1e-6) & (epoch <= num_epochs):# epoch in range(num_epochs):\n",
        "  optimizerv.zero_grad()\n",
        "  loss= torch.mean(torch.pow(vval(x)-y,2))#\n",
        "  loss.backward()\n",
        "  optimizerv.step()\n",
        "  loss_epochv.append(loss)\n",
        "  if epoch>0:\n",
        "    L_ = loss_epochv[epoch-1]\n",
        "  if (epoch % 10==0):\n",
        "    print(\"At epoch {} the mean error is {}.\".format(epoch,loss.detach()))\n",
        "  epoch += 1"
      ],
      "metadata": {
        "id": "mNCFd_5ThCD8",
        "outputId": "b6ea3d61-cba1-481f-b1f1-db8e6c606432",
        "colab": {
          "base_uri": "https://localhost:8080/"
        }
      },
      "execution_count": 36,
      "outputs": [
        {
          "output_type": "stream",
          "name": "stdout",
          "text": [
            "At epoch 0 the mean error is 1.594507098197937.\n",
            "At epoch 10 the mean error is 0.5700027942657471.\n",
            "At epoch 20 the mean error is 0.43095752596855164.\n",
            "At epoch 30 the mean error is 0.3574780225753784.\n",
            "At epoch 40 the mean error is 0.27538907527923584.\n",
            "At epoch 50 the mean error is 0.22282898426055908.\n",
            "At epoch 60 the mean error is 0.17735205590724945.\n",
            "At epoch 70 the mean error is 0.14448486268520355.\n",
            "At epoch 80 the mean error is 0.11851902306079865.\n",
            "At epoch 90 the mean error is 0.09882853180170059.\n",
            "At epoch 100 the mean error is 0.08364018052816391.\n",
            "At epoch 110 the mean error is 0.07218696922063828.\n",
            "At epoch 120 the mean error is 0.06366951018571854.\n",
            "At epoch 130 the mean error is 0.05729152634739876.\n",
            "At epoch 140 the mean error is 0.05238363519310951.\n",
            "At epoch 150 the mean error is 0.048443201929330826.\n",
            "At epoch 160 the mean error is 0.04515502229332924.\n",
            "At epoch 170 the mean error is 0.042337823659181595.\n",
            "At epoch 180 the mean error is 0.039877232164144516.\n",
            "At epoch 190 the mean error is 0.03768857568502426.\n",
            "At epoch 200 the mean error is 0.035706453025341034.\n",
            "At epoch 210 the mean error is 0.03388329967856407.\n",
            "At epoch 220 the mean error is 0.03218537196516991.\n",
            "At epoch 230 the mean error is 0.03058782033622265.\n",
            "At epoch 240 the mean error is 0.029071969911456108.\n",
            "At epoch 250 the mean error is 0.02762415260076523.\n",
            "At epoch 260 the mean error is 0.026234891265630722.\n",
            "At epoch 270 the mean error is 0.024898169562220573.\n",
            "At epoch 280 the mean error is 0.023610655218362808.\n",
            "At epoch 290 the mean error is 0.022370947524905205.\n",
            "At epoch 300 the mean error is 0.021178901195526123.\n",
            "At epoch 310 the mean error is 0.020034978166222572.\n",
            "At epoch 320 the mean error is 0.01893986575305462.\n",
            "At epoch 330 the mean error is 0.017894113436341286.\n",
            "At epoch 340 the mean error is 0.0168980211019516.\n",
            "At epoch 350 the mean error is 0.015951557084918022.\n",
            "At epoch 360 the mean error is 0.015054351650178432.\n",
            "At epoch 370 the mean error is 0.01420577336102724.\n",
            "At epoch 380 the mean error is 0.0134049654006958.\n",
            "At epoch 390 the mean error is 0.012650905176997185.\n",
            "At epoch 400 the mean error is 0.011942439712584019.\n",
            "At epoch 410 the mean error is 0.011278255842626095.\n",
            "At epoch 420 the mean error is 0.010656898841261864.\n",
            "At epoch 430 the mean error is 0.010076718404889107.\n",
            "At epoch 440 the mean error is 0.009535874240100384.\n",
            "At epoch 450 the mean error is 0.009032330475747585.\n",
            "At epoch 460 the mean error is 0.008563878946006298.\n",
            "At epoch 470 the mean error is 0.008128195069730282.\n",
            "At epoch 480 the mean error is 0.007722886744886637.\n",
            "At epoch 490 the mean error is 0.00734556932002306.\n",
            "At epoch 500 the mean error is 0.006993931718170643.\n",
            "At epoch 510 the mean error is 0.006665779743343592.\n",
            "At epoch 520 the mean error is 0.006359083577990532.\n",
            "At epoch 530 the mean error is 0.0060719880275428295.\n",
            "At epoch 540 the mean error is 0.00580282649025321.\n",
            "At epoch 550 the mean error is 0.005550115369260311.\n",
            "At epoch 560 the mean error is 0.005312527995556593.\n",
            "At epoch 570 the mean error is 0.0050889053381979465.\n",
            "At epoch 580 the mean error is 0.0048782010562717915.\n",
            "At epoch 590 the mean error is 0.00467949453741312.\n",
            "At epoch 600 the mean error is 0.0044919578358531.\n",
            "At epoch 610 the mean error is 0.004314848221838474.\n",
            "At epoch 620 the mean error is 0.0041475011967122555.\n",
            "At epoch 630 the mean error is 0.003989305812865496.\n",
            "At epoch 640 the mean error is 0.0038397132884711027.\n",
            "At epoch 650 the mean error is 0.0036982169840484858.\n",
            "At epoch 660 the mean error is 0.0035643517039716244.\n",
            "At epoch 670 the mean error is 0.003437688807025552.\n",
            "At epoch 680 the mean error is 0.0033178250305354595.\n",
            "At epoch 690 the mean error is 0.0032043862156569958.\n",
            "At epoch 700 the mean error is 0.003097018925473094.\n",
            "At epoch 710 the mean error is 0.0029953939374536276.\n",
            "At epoch 720 the mean error is 0.002899190876632929.\n",
            "At epoch 730 the mean error is 0.002808115677908063.\n",
            "At epoch 740 the mean error is 0.00272187776863575.\n",
            "At epoch 750 the mean error is 0.002640209859237075.\n",
            "At epoch 760 the mean error is 0.0025628535076975822.\n",
            "At epoch 770 the mean error is 0.0024895567912608385.\n",
            "At epoch 780 the mean error is 0.002420086180791259.\n",
            "At epoch 790 the mean error is 0.002354212338104844.\n",
            "At epoch 800 the mean error is 0.0022917217575013638.\n",
            "At epoch 810 the mean error is 0.0022324081510305405.\n",
            "At epoch 820 the mean error is 0.0021760754752904177.\n",
            "At epoch 830 the mean error is 0.002122539794072509.\n",
            "At epoch 840 the mean error is 0.002071624156087637.\n",
            "At epoch 850 the mean error is 0.002023160457611084.\n",
            "At epoch 860 the mean error is 0.001976994564756751.\n",
            "At epoch 870 the mean error is 0.0019329788628965616.\n",
            "At epoch 880 the mean error is 0.0018909716745838523.\n",
            "At epoch 890 the mean error is 0.0018508433131501079.\n",
            "At epoch 900 the mean error is 0.0018124734051525593.\n",
            "At epoch 910 the mean error is 0.001775745884515345.\n",
            "At epoch 920 the mean error is 0.00174055271781981.\n",
            "At epoch 930 the mean error is 0.0017067978624254465.\n",
            "At epoch 940 the mean error is 0.0016743848100304604.\n",
            "At epoch 950 the mean error is 0.0016432310221716762.\n",
            "At epoch 960 the mean error is 0.0016132553573697805.\n",
            "At epoch 970 the mean error is 0.0015843813307583332.\n",
            "At epoch 980 the mean error is 0.0015565439825877547.\n",
            "At epoch 990 the mean error is 0.0015296756755560637.\n",
            "At epoch 1000 the mean error is 0.0015037204138934612.\n"
          ]
        }
      ]
    },
    {
      "cell_type": "code",
      "source": [
        "xx = torch.linspace(-1.0,3.0,100).unsqueeze(1)\n",
        "update = (xx + Dt*(-xx+v.forward(xx))).repeat([1,1000]).unsqueeze(2) + torch.sqrt(Dt)*torch.normal(0., 1., size=[xx.shape[0],v.M,1])\n",
        "yy = v.cost(xx)*Dt+torch.mean(v.terminal(update),axis=1)\n",
        "zz = vval(xx)\n",
        "plt.plot(xx.squeeze(1).detach().numpy(),yy.squeeze(1).detach().numpy(),label='V(T-1,x) not object',marker='.');\n",
        "plt.plot(xx.squeeze(1).detach().numpy(),zz.squeeze(1).detach().numpy(),label='V(T-1,x) object');\n",
        "plt.title(\"Value function at T-\\Delta t\");\n",
        "plt.legend();\n",
        "plt.savefig(path+'test for value'+stamp+'.png');"
      ],
      "metadata": {
        "id": "T43rK1JieUWp",
        "outputId": "146fc9ea-0503-4611-8c91-e9a9905f380e",
        "colab": {
          "base_uri": "https://localhost:8080/",
          "height": 452
        }
      },
      "execution_count": 37,
      "outputs": [
        {
          "output_type": "display_data",
          "data": {
            "text/plain": [
              "<Figure size 640x480 with 1 Axes>"
            ],
            "image/png": "[encoded data removed]"
          },
          "metadata": {}
        }
      ]
    },
    {
      "cell_type": "code",
      "source": [
        "for p in vval.parameters():\n",
        "    p.requires_grad = False"
      ],
      "metadata": {
        "id": "6lYCNE3f9Suk"
      },
      "execution_count": 38,
      "outputs": []
    },
    {
      "cell_type": "code",
      "source": [
        "v2 = one_step(vval,'')"
      ],
      "metadata": {
        "id": "yMZJu_oM9avV"
      },
      "execution_count": 39,
      "outputs": []
    },
    {
      "cell_type": "code",
      "source": [
        "loss_epoch = []\n",
        "num_epochs = 500\n",
        "lr = 1e-2\n",
        "optimizer2 = optim.Adam(v2.parameters(), lr)\n",
        "L_ = torch.Tensor([-2.0])\n",
        "loss = torch.Tensor([2.0])\n",
        "epoch=0\n",
        "while (torch.abs(L_-loss)>1e-6) & (epoch <= num_epochs):# epoch in range(num_epochs):\n",
        "  optimizer2.zero_grad()\n",
        "  loss= v2.loss()#self.cost(self.X,self.modelu(X))+ torch.mean(self.terminal(update(self.X,self.modelu(X))))#\n",
        "  loss.backward()\n",
        "  optimizer2.step()\n",
        "  loss_epoch.append(loss)\n",
        "  if epoch>0:\n",
        "    L_ = loss_epoch[epoch-1]\n",
        "  if (epoch % 10==0):\n",
        "    print(\"At epoch {} the mean error is {}.\".format(epoch,loss.detach()))\n",
        "  epoch += 1"
      ],
      "metadata": {
        "colab": {
          "base_uri": "https://localhost:8080/"
        },
        "id": "GXvPGCZY9h0S",
        "outputId": "735a7f3a-7cb8-405a-ae65-9defe6735fc3"
      },
      "execution_count": 40,
      "outputs": [
        {
          "output_type": "stream",
          "name": "stdout",
          "text": [
            "At epoch 0 the mean error is 0.8620102405548096.\n",
            "At epoch 10 the mean error is 0.8600853085517883.\n",
            "At epoch 20 the mean error is 0.8600050806999207.\n",
            "At epoch 30 the mean error is 0.8599100708961487.\n",
            "At epoch 40 the mean error is 0.8598935008049011.\n"
          ]
        }
      ]
    },
    {
      "cell_type": "code",
      "source": [
        "v2.value()"
      ],
      "metadata": {
        "id": "iwaKOO059qKD"
      },
      "execution_count": 41,
      "outputs": []
    },
    {
      "cell_type": "code",
      "source": [
        "plt.scatter(v2.X.detach().numpy(),v2.Y.detach().numpy(),label='Value T-2Delta t',marker='.');\n",
        "plt.scatter(v.X.detach().numpy(),v.Y.detach().numpy(),label='Value T-Delta t',marker='.');\n",
        "plt.scatter(v.X.detach().numpy(),g(v.X).detach().numpy(),label='terminal',marker='.');\n",
        "plt.legend();"
      ],
      "metadata": {
        "colab": {
          "base_uri": "https://localhost:8080/",
          "height": 430
        },
        "id": "kdctz9wg9zrf",
        "outputId": "906bcb7e-65fc-4671-f2f8-8f582dde8219"
      },
      "execution_count": 42,
      "outputs": [
        {
          "output_type": "display_data",
          "data": {
            "text/plain": [
              "<Figure size 640x480 with 1 Axes>"
            ],
            "image/png": "[encoded data removed]"
          },
          "metadata": {}
        }
      ]
    },
    {
      "cell_type": "code",
      "source": [
        "plt.scatter(v2.X.detach().numpy(),v2(v2.X).detach().numpy(),label='Control T-2Delta t',marker='.');\n",
        "plt.scatter(v.X.detach().numpy(),v(v.X).detach().numpy(),label='Control T-Delta t',marker='.');\n",
        "# plt.scatter(v.X.detach().numpy(),g(v.X).detach().numpy(),label='terminal',marker='.');\n",
        "plt.legend();"
      ],
      "metadata": {
        "colab": {
          "base_uri": "https://localhost:8080/",
          "height": 430
        },
        "outputId": "30c8c12e-df72-46be-ea4a-ee0f98240b50",
        "id": "E-vw-onPw7Ve"
      },
      "execution_count": 43,
      "outputs": [
        {
          "output_type": "display_data",
          "data": {
            "text/plain": [
              "<Figure size 640x480 with 1 Axes>"
            ],
            "image/png": "[encoded data removed]"
          },
          "metadata": {}
        }
      ]
    },
    {
      "cell_type": "markdown",
      "source": [
        "## All at once"
      ],
      "metadata": {
        "id": "HQI-rsqSiGQ-"
      }
    },
    {
      "cell_type": "code",
      "source": [
        "class two_step(nn.Module):#multi_step, optimal_control\n",
        "    def __init__(self,terminal,flag):\n",
        "        super(two_step, self).__init__()\n",
        "        self.layer = torch.nn.Sequential()\n",
        "        self.layer.add_module(\"L1\",torch.nn.Linear(2, 16))\n",
        "        self.layer.add_module(\"Tanh\", torch.nn.Tanh())\n",
        "        self.layer.add_module(\"L2\",torch.nn.Linear(16,1))\n",
        "        self.flag = flag\n",
        "        self.M = 1000# number of samples\n",
        "        self.Te=1.0 # terminal time\n",
        "        self.K = 20 # total number of steps\n",
        "        self.Dt= torch.Tensor([self.Te/self.K]) #time step\n",
        "        self.num_steps = 5 #number of steps to evaluate <= self.K\n",
        "        # self.N = torch.normal(0., 1., size=[self.M,self.num_steps,1])\n",
        "        self.terminal = terminal # terminal value function\n",
        "        self.X0 = torch.normal(0., 1., size=(self.M,1))\n",
        "        for i in range(self.K):# create time data points\n",
        "            if i == 0:\n",
        "                T = torch.Tensor([0.0]).repeat([self.M,1])\n",
        "            else:\n",
        "                D = i*self.Dt# time step i\n",
        "                T = torch.cat((T,D.repeat([self.M,1])),axis=1)\n",
        "        self.T = T.unsqueeze(2)\n",
        "        self.B = torch.normal(0., 1., size=(self.M,self.K,1))\n",
        "        # self.X = torch.cat((self.X0,self.B,self.T),axis=1).unsqueeze(2)\n",
        "        self.Y = None\n",
        "        self.TX = None\n",
        "        self.value_flag = True\n",
        "    def forward(self, tx):\n",
        "        val = self.layer(tx)\n",
        "        return val\n",
        "    def loss(self):\n",
        "        for i in range(self.K-self.num_steps,self.K):\n",
        "            if i == self.K-self.num_steps:\n",
        "                update = torch.cat((self.T[:,i],self.X0),axis=1) # (t,x) variable\n",
        "                cost =  self.cost(update)\n",
        "            else:\n",
        "                X = update[:,1].unsqueeze(-1)# slicing x from (t,x)\n",
        "                X = X + (-X+self.forward(update))*self.Dt + torch.sqrt(self.Dt)*self.B[:,i-1] #X_{n+1} # do not use +=\n",
        "                update = torch.cat((self.T[:,i],X),axis=1)  # (t,x) variable\n",
        "                cost = cost +  self.cost(update) # updating cost # do not use +=\n",
        "        # print(\"update shape in loss\",update.shape)\n",
        "        X = update[:,1].unsqueeze(-1)# slicing x from (t,x) at T-Dt\n",
        "        X = X + (-X+self.forward(update))*self.Dt + torch.sqrt(self.Dt)*self.B[:,-1] #X_{T} # do not use +=\n",
        "        return torch.mean(cost*self.Dt+self.terminal(X)) #mean value of running and terminal\n",
        "    def cost(self,tx):#take a [N,1] tensor\n",
        "        # tx = torch.cat((t,x),axis=1)\n",
        "        return torch.Tensor([0.5])*torch.pow(tx[:,1],2).unsqueeze(-1) + torch.Tensor([0.5])*torch.pow(self.forward(tx),2)\n",
        "    def value(self):# to evaluate value function through conditional expectation\n",
        "        if self.value:\n",
        "            # print(\"I exist.\")\n",
        "            for i in range(self.K-self.num_steps,self.K):\n",
        "                if i == self.K-self.num_steps:\n",
        "                    update = torch.cat((self.T[:,i],self.X0),axis=1)# cat time and space\n",
        "                    self.TX = update.unsqueeze(-1) # add dimension fot bmm\n",
        "                else:\n",
        "                    X = update[:,1].unsqueeze(-1)# slice space for update\n",
        "                    X = X + (-X+self.forward(update))*self.Dt + torch.sqrt(self.Dt)*self.B[:,i-1] #update, += is prohibited here because it fundamentally change\n",
        "                    update = torch.cat((self.T[:,i],X),axis=1) # cat  time and space\n",
        "                    self.TX = torch.cat((self.TX,update.unsqueeze(-1)),axis=-1) # cat to previous data\n",
        "            X = update[:,1].unsqueeze(-1) #slice last space\n",
        "            X = X + (-X+self.forward(update))*self.Dt + torch.sqrt(self.Dt)*self.B[:,-1]# last update, += is prohibited here\n",
        "            update = torch.cat((torch.Tensor([self.Te]).repeat([self.M,1]),X),axis=1) # last cat\n",
        "            self.TX = torch.cat((self.TX,update.unsqueeze(-1)),axis=-1) #last cat to previous data\n",
        "    #       cost along the path\n",
        "            temp_cost = self.terminal(X)  # termial cost\n",
        "            self.Y = temp_cost.unsqueeze(-1)# add dimension\n",
        "            for i in reversed(range(self.K-self.num_steps,self.K)):# backward loop for cost evaluation\n",
        "                    temp_cost = temp_cost + self.Dt*self.cost(update)# accumulation of cost for new point+= is prohibited here\n",
        "                    self.Y = torch.cat((temp_cost.unsqueeze(1),self.Y),axis=-1) #backward cat of cost\n",
        "        self.value_flag = False\n"
      ],
      "metadata": {
        "id": "bnapNc3rf26o"
      },
      "execution_count": 44,
      "outputs": []
    },
    {
      "cell_type": "code",
      "source": [
        "class terminal(nn.Module):\n",
        "    def __init__(self,flag,*args):\n",
        "        super(terminal, self).__init__()\n",
        "        self.layer = torch.nn.Sequential()\n",
        "        self.layer.add_module(\"L1\",torch.nn.Linear(1, 16))\n",
        "        self.layer.add_module(\"Tanh\", torch.nn.Tanh())\n",
        "        self.layer.add_module(\"L2\",torch.nn.Linear(16,1))\n",
        "        self.flag = flag\n",
        "    def forward(self, x):\n",
        "        if self.flag == 'T':\n",
        "            return torch.Tensor([0.5])*torch.pow(x,2)-x\n",
        "        else:\n",
        "            val = self.layer(x)\n",
        "            return val\n",
        "        return x"
      ],
      "metadata": {
        "id": "bDi5DZgc5DT9"
      },
      "execution_count": 45,
      "outputs": []
    },
    {
      "cell_type": "code",
      "source": [
        "g = terminal('T')\n",
        "v2 = two_step(g,'')\n",
        "v2.value()"
      ],
      "metadata": {
        "id": "arVD0owsiSYM"
      },
      "execution_count": 46,
      "outputs": []
    },
    {
      "cell_type": "code",
      "source": [
        "# def test_value():\n",
        "#         for i in range(v2.K-v2.num_steps,v2.K):\n",
        "#             if i == v2.K-v2.num_steps:\n",
        "#                 update = torch.cat((v2.T[:,i],v2.X0),axis=1)# cat time and space\n",
        "#                 TX = update.unsqueeze(-1) # add dimension fot bmm\n",
        "#             else:\n",
        "#                 X = update[:,1].unsqueeze(-1)# slice space for update\n",
        "#                 X = X + (-X+v2.forward(update))*v2.Dt + torch.sqrt(v2.Dt)*v2.B[:,i-1] #update, += is prohibited here because it fundamentally change\n",
        "#                 update = torch.cat((v2.T[:,i],X),axis=1) # cat  time and space\n",
        "#                 TX = torch.cat((TX,update.unsqueeze(-1)),axis=-1) # cat to previous data\n",
        "#         X = update[:,1].unsqueeze(-1).clone().detach() #slice last space\n",
        "#         X = X + (-X+v2.forward(update))*v2.Dt + torch.sqrt(v2.Dt)*v2.B[:,-1]# last update, += is prohibited here\n",
        "#         update = torch.cat((torch.Tensor([v2.Te]).repeat([v2.M,1]),X),axis=1) # last cat\n",
        "#         TX = torch.cat((TX,update.unsqueeze(-1)),axis=-1) #cat to previous data\n",
        "#         temp_cost = v2.terminal(X).clone().detach()  # termial cost\n",
        "#         c = temp_cost.unsqueeze(-1)# add dimension\n",
        "#         for i in reversed(range(v2.K-v2.num_steps,v2.K)):# backward loop for cost evaluation\n",
        "#                 temp_cost = temp_cost + v2.Dt*v2.cost(update).clone().detach()# accumulation of cost for new point+= is prohibited here\n",
        "#                 c = torch.cat((temp_cost.unsqueeze(1),c),axis=-1) #backward cat of cost\n",
        "#         return TX,c"
      ],
      "metadata": {
        "id": "DtYlJA5C8auL"
      },
      "execution_count": 47,
      "outputs": []
    },
    {
      "cell_type": "code",
      "source": [
        "# tx ,c = test_value()\n",
        "# tx-v2.TX"
      ],
      "metadata": {
        "id": "nEntkaqvfuYF"
      },
      "execution_count": 48,
      "outputs": []
    },
    {
      "cell_type": "code",
      "source": [
        "# c-v2.Y"
      ],
      "metadata": {
        "id": "HcpH0vvbPqbt"
      },
      "execution_count": 49,
      "outputs": []
    },
    {
      "cell_type": "code",
      "source": [
        "# v2.loss()"
      ],
      "metadata": {
        "id": "ld0OBevRo8yb"
      },
      "execution_count": 50,
      "outputs": []
    },
    {
      "cell_type": "code",
      "source": [
        "torch.autograd.set_detect_anomaly(True);"
      ],
      "metadata": {
        "id": "i_O95kDKki9s"
      },
      "execution_count": 51,
      "outputs": []
    },
    {
      "cell_type": "code",
      "source": [
        "loss_epoch = []\n",
        "num_epochs = 500\n",
        "lr = 1e-2\n",
        "optimizer2 = optim.Adam(v2.parameters(), lr)\n",
        "L_ = torch.Tensor([-2.0])\n",
        "loss = torch.Tensor([2.0])\n",
        "epoch=0\n",
        "while (torch.abs(L_-loss)>1e-6) & (epoch <= num_epochs):# epoch in range(num_epochs):\n",
        "  optimizer2.zero_grad()\n",
        "  loss= v2.loss()#self.cost(self.X,self.modelu(X))+ torch.mean(self.terminal(update(self.X,self.modelu(X))))#\n",
        "  loss.backward()\n",
        "  optimizer2.step()\n",
        "  loss_epoch.append(loss)\n",
        "  if epoch>0:\n",
        "    L_ = loss_epoch[epoch-1]\n",
        "  if (epoch % 10==0):\n",
        "    print(\"At epoch {} the mean error is {}.\".format(epoch,loss.detach()))\n",
        "  epoch += 1"
      ],
      "metadata": {
        "colab": {
          "base_uri": "https://localhost:8080/"
        },
        "id": "r_6Swd47iUjw",
        "outputId": "15c06cf0-7ef2-4fe7-cb36-67fafe0419f0"
      },
      "execution_count": 52,
      "outputs": [
        {
          "output_type": "stream",
          "name": "stdout",
          "text": [
            "At epoch 0 the mean error is 0.4424244463443756.\n",
            "At epoch 10 the mean error is 0.3265608549118042.\n",
            "At epoch 20 the mean error is 0.32644444704055786.\n",
            "At epoch 30 the mean error is 0.3239063620567322.\n",
            "At epoch 40 the mean error is 0.3221208155155182.\n"
          ]
        }
      ]
    },
    {
      "cell_type": "code",
      "source": [
        "v2.value()"
      ],
      "metadata": {
        "id": "09TI7oFgARx0"
      },
      "execution_count": 53,
      "outputs": []
    },
    {
      "cell_type": "code",
      "source": [
        "#reshape TX and Y\n",
        "TX = torch.cat((v2.TX[:,0,:].clone().detach().reshape(-1).unsqueeze(-1),v2.TX[:,1,:].clone().detach().reshape(-1).unsqueeze(-1)),axis=-1).clone().detach()\n",
        "TX.shape,v2.Y.reshape(-1).shape"
      ],
      "metadata": {
        "id": "kzh3Q1dqAac-",
        "outputId": "b7678ad0-c696-4512-b74b-3160ae820802",
        "colab": {
          "base_uri": "https://localhost:8080/"
        }
      },
      "execution_count": 54,
      "outputs": [
        {
          "output_type": "execute_result",
          "data": {
            "text/plain": [
              "(torch.Size([6000, 2]), torch.Size([6000]))"
            ]
          },
          "metadata": {},
          "execution_count": 54
        }
      ]
    },
    {
      "cell_type": "code",
      "source": [
        "v2.TX[:,:,-1].shape, v2.Y[:,:,-1][:,0].shape"
      ],
      "metadata": {
        "id": "3AZpbisZMqLy",
        "outputId": "027cdd98-7a5d-4b66-97e4-3e56f0efaee4",
        "colab": {
          "base_uri": "https://localhost:8080/"
        }
      },
      "execution_count": 55,
      "outputs": [
        {
          "output_type": "execute_result",
          "data": {
            "text/plain": [
              "(torch.Size([1000, 2]), torch.Size([1000]))"
            ]
          },
          "metadata": {},
          "execution_count": 55
        }
      ]
    },
    {
      "cell_type": "markdown",
      "source": [
        "## Value function"
      ],
      "metadata": {
        "id": "15SDOV4gHNjJ"
      }
    },
    {
      "cell_type": "code",
      "source": [
        "class value_function(nn.Module):\n",
        "    def __init__(self):\n",
        "        super(value_function,self).__init__()\n",
        "        self.layer = torch.nn.Sequential()\n",
        "        self.layer.add_module(\"L1\",torch.nn.Linear(2, 128))\n",
        "        self.layer.add_module(\"Tanh\", torch.nn.Tanh())\n",
        "        self.layer.add_module(\"L2\",torch.nn.Linear(128,128))\n",
        "        self.layer.add_module(\"Tanh\", torch.nn.Tanh())\n",
        "        self.layer.add_module(\"L3\",torch.nn.Linear(128,1))\n",
        "    def forward(self, x):\n",
        "        val = self.layer(x)\n",
        "        return val"
      ],
      "metadata": {
        "id": "2_kX6h0sxNjg"
      },
      "execution_count": 56,
      "outputs": []
    },
    {
      "cell_type": "code",
      "source": [
        "val_func = value_function()"
      ],
      "metadata": {
        "id": "3fZqcO6pGunT"
      },
      "execution_count": 57,
      "outputs": []
    },
    {
      "cell_type": "code",
      "source": [
        "v2.TX[0:3,:,:]"
      ],
      "metadata": {
        "id": "Uf2OAle9uNPt",
        "outputId": "d19e8d57-dd00-4c5a-af34-70aca8378201",
        "colab": {
          "base_uri": "https://localhost:8080/"
        }
      },
      "execution_count": 165,
      "outputs": [
        {
          "output_type": "execute_result",
          "data": {
            "text/plain": [
              "tensor([[[ 0.7500,  0.8000,  0.8500,  0.9000,  0.9500,  1.0000],\n",
              "         [ 0.8074,  0.4505,  0.6855,  0.2527,  0.1824,  0.3256]],\n",
              "\n",
              "        [[ 0.7500,  0.8000,  0.8500,  0.9000,  0.9500,  1.0000],\n",
              "         [-1.0158, -0.8255, -0.5526, -0.7386, -0.7391, -0.8078]],\n",
              "\n",
              "        [[ 0.7500,  0.8000,  0.8500,  0.9000,  0.9500,  1.0000],\n",
              "         [ 2.0331,  1.9870,  1.8169,  1.8520,  1.5406,  1.3009]]],\n",
              "       grad_fn=<SliceBackward0>)"
            ]
          },
          "metadata": {},
          "execution_count": 165
        }
      ]
    },
    {
      "cell_type": "code",
      "source": [
        "v2.TX[0:3,0,:],v2.TX[0:3,0,:].reshape(-1)"
      ],
      "metadata": {
        "id": "caRB8W3QzF2r",
        "outputId": "2073cae1-dfbe-4b4a-dab8-19642dc993fe",
        "colab": {
          "base_uri": "https://localhost:8080/"
        }
      },
      "execution_count": 162,
      "outputs": [
        {
          "output_type": "execute_result",
          "data": {
            "text/plain": [
              "(tensor([[0.7500, 0.8000, 0.8500, 0.9000, 0.9500, 1.0000],\n",
              "         [0.7500, 0.8000, 0.8500, 0.9000, 0.9500, 1.0000],\n",
              "         [0.7500, 0.8000, 0.8500, 0.9000, 0.9500, 1.0000]],\n",
              "        grad_fn=<SliceBackward0>),\n",
              " tensor([0.7500, 0.8000, 0.8500, 0.9000, 0.9500, 1.0000, 0.7500, 0.8000, 0.8500,\n",
              "         0.9000, 0.9500, 1.0000, 0.7500, 0.8000, 0.8500, 0.9000, 0.9500, 1.0000],\n",
              "        grad_fn=<UnsafeViewBackward0>))"
            ]
          },
          "metadata": {},
          "execution_count": 162
        }
      ]
    },
    {
      "cell_type": "code",
      "source": [
        "v2.TX[0:3,1,:],v2.TX[0:3,1,:].reshape(-1)"
      ],
      "metadata": {
        "id": "aA6Wskxkzbwr",
        "outputId": "df7d4654-5783-4b53-9e89-f59e26f2f0b3",
        "colab": {
          "base_uri": "https://localhost:8080/"
        }
      },
      "execution_count": 164,
      "outputs": [
        {
          "output_type": "execute_result",
          "data": {
            "text/plain": [
              "(tensor([[ 0.8074,  0.4505,  0.6855,  0.2527,  0.1824,  0.3256],\n",
              "         [-1.0158, -0.8255, -0.5526, -0.7386, -0.7391, -0.8078],\n",
              "         [ 2.0331,  1.9870,  1.8169,  1.8520,  1.5406,  1.3009]],\n",
              "        grad_fn=<SliceBackward0>),\n",
              " tensor([ 0.8074,  0.4505,  0.6855,  0.2527,  0.1824,  0.3256, -1.0158, -0.8255,\n",
              "         -0.5526, -0.7386, -0.7391, -0.8078,  2.0331,  1.9870,  1.8169,  1.8520,\n",
              "          1.5406,  1.3009], grad_fn=<UnsafeViewBackward0>))"
            ]
          },
          "metadata": {},
          "execution_count": 164
        }
      ]
    },
    {
      "cell_type": "code",
      "source": [
        "loss_epoch_val_func = []\n",
        "num_epochs_val_func = 500\n",
        "lrv = 1e-2\n",
        "optimizer_val_func = optim.Adam(val_func.parameters(), lrv)\n",
        "L_ = torch.Tensor([-2.0])\n",
        "loss = torch.Tensor([2.0])\n",
        "epoch=0\n",
        "x2d = torch.cat((v2.TX[:,0,-6].clone().detach().unsqueeze(-1),v2.TX[:,1,-6].clone().detach().unsqueeze(-1)),axis=-1).clone().detach()\n",
        "y2d = v2.Y[:,:,-6][:,0].clone().detach()\n",
        "while (torch.abs(L_-loss)>1e-6) & (epoch <= num_epochs):# epoch in range(num_epochs):\n",
        "    optimizerv.zero_grad()\n",
        "    loss= torch.mean(torch.pow(val_func(x2d)-y2d,2))#\n",
        "    loss.backward()\n",
        "    optimizerv.step()\n",
        "    loss_epochv.append(loss)\n",
        "    if epoch>0:\n",
        "      L_ = loss_epochv[epoch-1]\n",
        "    if (epoch % 10==0):\n",
        "      print(\"At epoch {} the mean error is {}.\".format(epoch,loss.detach()))\n",
        "    epoch += 1"
      ],
      "metadata": {
        "colab": {
          "base_uri": "https://localhost:8080/"
        },
        "id": "1rmL8JGtwQtn",
        "outputId": "b27fa7e9-1de5-47f5-b6cc-37b570bc8d0e"
      },
      "execution_count": 155,
      "outputs": [
        {
          "output_type": "stream",
          "name": "stdout",
          "text": [
            "At epoch 0 the mean error is 0.8591660857200623.\n",
            "At epoch 10 the mean error is 0.8591660857200623.\n",
            "At epoch 20 the mean error is 0.8591660857200623.\n",
            "At epoch 30 the mean error is 0.8591660857200623.\n",
            "At epoch 40 the mean error is 0.8591660857200623.\n",
            "At epoch 50 the mean error is 0.8591660857200623.\n",
            "At epoch 60 the mean error is 0.8591660857200623.\n",
            "At epoch 70 the mean error is 0.8591660857200623.\n",
            "At epoch 80 the mean error is 0.8591660857200623.\n",
            "At epoch 90 the mean error is 0.8591660857200623.\n",
            "At epoch 100 the mean error is 0.8591660857200623.\n",
            "At epoch 110 the mean error is 0.8591660857200623.\n",
            "At epoch 120 the mean error is 0.8591660857200623.\n",
            "At epoch 130 the mean error is 0.8591660857200623.\n",
            "At epoch 140 the mean error is 0.8591660857200623.\n",
            "At epoch 150 the mean error is 0.8591660857200623.\n",
            "At epoch 160 the mean error is 0.8591660857200623.\n",
            "At epoch 170 the mean error is 0.8591660857200623.\n",
            "At epoch 180 the mean error is 0.8591660857200623.\n",
            "At epoch 190 the mean error is 0.8591660857200623.\n",
            "At epoch 200 the mean error is 0.8591660857200623.\n",
            "At epoch 210 the mean error is 0.8591660857200623.\n",
            "At epoch 220 the mean error is 0.8591660857200623.\n",
            "At epoch 230 the mean error is 0.8591660857200623.\n",
            "At epoch 240 the mean error is 0.8591660857200623.\n",
            "At epoch 250 the mean error is 0.8591660857200623.\n",
            "At epoch 260 the mean error is 0.8591660857200623.\n",
            "At epoch 270 the mean error is 0.8591660857200623.\n",
            "At epoch 280 the mean error is 0.8591660857200623.\n",
            "At epoch 290 the mean error is 0.8591660857200623.\n",
            "At epoch 300 the mean error is 0.8591660857200623.\n",
            "At epoch 310 the mean error is 0.8591660857200623.\n",
            "At epoch 320 the mean error is 0.8591660857200623.\n",
            "At epoch 330 the mean error is 0.8591660857200623.\n",
            "At epoch 340 the mean error is 0.8591660857200623.\n",
            "At epoch 350 the mean error is 0.8591660857200623.\n",
            "At epoch 360 the mean error is 0.8591660857200623.\n",
            "At epoch 370 the mean error is 0.8591660857200623.\n",
            "At epoch 380 the mean error is 0.8591660857200623.\n",
            "At epoch 390 the mean error is 0.8591660857200623.\n",
            "At epoch 400 the mean error is 0.8591660857200623.\n",
            "At epoch 410 the mean error is 0.8591660857200623.\n",
            "At epoch 420 the mean error is 0.8591660857200623.\n",
            "At epoch 430 the mean error is 0.8591660857200623.\n",
            "At epoch 440 the mean error is 0.8591660857200623.\n",
            "At epoch 450 the mean error is 0.8591660857200623.\n",
            "At epoch 460 the mean error is 0.8591660857200623.\n",
            "At epoch 470 the mean error is 0.8591660857200623.\n",
            "At epoch 480 the mean error is 0.8591660857200623.\n",
            "At epoch 490 the mean error is 0.8591660857200623.\n",
            "At epoch 500 the mean error is 0.8591660857200623.\n",
            "At epoch 510 the mean error is 0.8591660857200623.\n",
            "At epoch 520 the mean error is 0.8591660857200623.\n",
            "At epoch 530 the mean error is 0.8591660857200623.\n",
            "At epoch 540 the mean error is 0.8591660857200623.\n",
            "At epoch 550 the mean error is 0.8591660857200623.\n",
            "At epoch 560 the mean error is 0.8591660857200623.\n",
            "At epoch 570 the mean error is 0.8591660857200623.\n",
            "At epoch 580 the mean error is 0.8591660857200623.\n",
            "At epoch 590 the mean error is 0.8591660857200623.\n",
            "At epoch 600 the mean error is 0.8591660857200623.\n",
            "At epoch 610 the mean error is 0.8591660857200623.\n",
            "At epoch 620 the mean error is 0.8591660857200623.\n",
            "At epoch 630 the mean error is 0.8591660857200623.\n",
            "At epoch 640 the mean error is 0.8591660857200623.\n",
            "At epoch 650 the mean error is 0.8591660857200623.\n",
            "At epoch 660 the mean error is 0.8591660857200623.\n",
            "At epoch 670 the mean error is 0.8591660857200623.\n",
            "At epoch 680 the mean error is 0.8591660857200623.\n",
            "At epoch 690 the mean error is 0.8591660857200623.\n",
            "At epoch 700 the mean error is 0.8591660857200623.\n"
          ]
        }
      ]
    },
    {
      "cell_type": "code",
      "source": [
        "x2d[:,1].min(),x2d[:,1].max()"
      ],
      "metadata": {
        "id": "SQWoTGMxIBVc",
        "outputId": "4798f765-e630-46b4-a287-68750fd03485",
        "colab": {
          "base_uri": "https://localhost:8080/"
        }
      },
      "execution_count": 128,
      "outputs": [
        {
          "output_type": "execute_result",
          "data": {
            "text/plain": [
              "(tensor(-2.9759), tensor(2.7858))"
            ]
          },
          "metadata": {},
          "execution_count": 128
        }
      ]
    },
    {
      "cell_type": "code",
      "source": [
        "fig, ax = plt.subplots(subplot_kw=dict(projection='3d'))\n",
        "ax.scatter(x2d[:,0].numpy(),x2d[:,1].numpy(), val_func(x2d).clone().detach().numpy())\n",
        "plt.show()"
      ],
      "metadata": {
        "colab": {
          "base_uri": "https://localhost:8080/",
          "height": 409
        },
        "id": "OKqzmWfxituc",
        "outputId": "8bb9fc46-f8f5-446f-f76c-10214153c93d"
      },
      "execution_count": 131,
      "outputs": [
        {
          "output_type": "display_data",
          "data": {
            "text/plain": [
              "<Figure size 640x480 with 1 Axes>"
            ],
            "image/png": "[encoded data removed]"
          },
          "metadata": {}
        }
      ]
    },
    {
      "cell_type": "code",
      "source": [
        "x2d[:,0].numpy().shape,x2d[:,1].numpy().shape, val_func(x2d).clone().detach().shape"
      ],
      "metadata": {
        "id": "q16mpshLbc0B",
        "outputId": "03ff0dd9-36e9-46ab-b8b1-bb4b9f946e60",
        "colab": {
          "base_uri": "https://localhost:8080/"
        }
      },
      "execution_count": 141,
      "outputs": [
        {
          "output_type": "execute_result",
          "data": {
            "text/plain": [
              "((1000,), (1000,), torch.Size([1000, 1]))"
            ]
          },
          "metadata": {},
          "execution_count": 141
        }
      ]
    },
    {
      "cell_type": "code",
      "source": [
        "# %matplotlib widget\n",
        "fig = plt.figure()\n",
        "ax = fig.add_subplot(111, projection='3d')\n",
        "\n",
        "surf = ax.plot_trisurf(x2d[:,0].numpy(),x2d[:,1].numpy(), val_func(x2d).squeeze(-1).clone().detach(), cmap=cm.jet, linewidth=0, alpha=0.4)\n",
        "fig.colorbar(surf)\n",
        "\n",
        "ax.xaxis.set_major_locator(MaxNLocator(5))\n",
        "ax.yaxis.set_major_locator(MaxNLocator(6))\n",
        "ax.zaxis.set_major_locator(MaxNLocator(5))\n",
        "\n",
        "fig.tight_layout();"
      ],
      "metadata": {
        "id": "jEL6JvrzbGis",
        "outputId": "e1f95a18-42e5-4e29-dee9-fbe843f89422",
        "colab": {
          "base_uri": "https://localhost:8080/",
          "height": 818
        }
      },
      "execution_count": 154,
      "outputs": [
        {
          "output_type": "error",
          "ename": "RuntimeError",
          "evalue": "ignored",
          "traceback": [
            "\u001b[0;31m---------------------------------------------------------------------------\u001b[0m",
            "\u001b[0;31mRuntimeError\u001b[0m                              Traceback (most recent call last)",
            "\u001b[0;32m<ipython-input-154-1f4d073efe4c>\u001b[0m in \u001b[0;36m<cell line: 5>\u001b[0;34m()\u001b[0m\n\u001b[1;32m      3\u001b[0m \u001b[0max\u001b[0m \u001b[0;34m=\u001b[0m \u001b[0mfig\u001b[0m\u001b[0;34m.\u001b[0m\u001b[0madd_subplot\u001b[0m\u001b[0;34m(\u001b[0m\u001b[0;36m111\u001b[0m\u001b[0;34m,\u001b[0m \u001b[0mprojection\u001b[0m\u001b[0;34m=\u001b[0m\u001b[0;34m'3d'\u001b[0m\u001b[0;34m)\u001b[0m\u001b[0;34m\u001b[0m\u001b[0;34m\u001b[0m\u001b[0m\n\u001b[1;32m      4\u001b[0m \u001b[0;34m\u001b[0m\u001b[0m\n\u001b[0;32m----> 5\u001b[0;31m \u001b[0msurf\u001b[0m \u001b[0;34m=\u001b[0m \u001b[0max\u001b[0m\u001b[0;34m.\u001b[0m\u001b[0mplot_trisurf\u001b[0m\u001b[0;34m(\u001b[0m\u001b[0mx2d\u001b[0m\u001b[0;34m[\u001b[0m\u001b[0;34m:\u001b[0m\u001b[0;34m,\u001b[0m\u001b[0;36m0\u001b[0m\u001b[0;34m]\u001b[0m\u001b[0;34m.\u001b[0m\u001b[0mnumpy\u001b[0m\u001b[0;34m(\u001b[0m\u001b[0;34m)\u001b[0m\u001b[0;34m,\u001b[0m\u001b[0mx2d\u001b[0m\u001b[0;34m[\u001b[0m\u001b[0;34m:\u001b[0m\u001b[0;34m,\u001b[0m\u001b[0;36m1\u001b[0m\u001b[0;34m]\u001b[0m\u001b[0;34m.\u001b[0m\u001b[0mnumpy\u001b[0m\u001b[0;34m(\u001b[0m\u001b[0;34m)\u001b[0m\u001b[0;34m,\u001b[0m \u001b[0mval_func\u001b[0m\u001b[0;34m(\u001b[0m\u001b[0mx2d\u001b[0m\u001b[0;34m)\u001b[0m\u001b[0;34m.\u001b[0m\u001b[0msqueeze\u001b[0m\u001b[0;34m(\u001b[0m\u001b[0;34m-\u001b[0m\u001b[0;36m1\u001b[0m\u001b[0;34m)\u001b[0m\u001b[0;34m.\u001b[0m\u001b[0mclone\u001b[0m\u001b[0;34m(\u001b[0m\u001b[0;34m)\u001b[0m\u001b[0;34m.\u001b[0m\u001b[0mdetach\u001b[0m\u001b[0;34m(\u001b[0m\u001b[0;34m)\u001b[0m\u001b[0;34m,\u001b[0m \u001b[0mcmap\u001b[0m\u001b[0;34m=\u001b[0m\u001b[0mcm\u001b[0m\u001b[0;34m.\u001b[0m\u001b[0mjet\u001b[0m\u001b[0;34m,\u001b[0m \u001b[0mlinewidth\u001b[0m\u001b[0;34m=\u001b[0m\u001b[0;36m0\u001b[0m\u001b[0;34m,\u001b[0m \u001b[0malpha\u001b[0m\u001b[0;34m=\u001b[0m\u001b[0;36m0.4\u001b[0m\u001b[0;34m)\u001b[0m\u001b[0;34m\u001b[0m\u001b[0;34m\u001b[0m\u001b[0m\n\u001b[0m\u001b[1;32m      6\u001b[0m \u001b[0mfig\u001b[0m\u001b[0;34m.\u001b[0m\u001b[0mcolorbar\u001b[0m\u001b[0;34m(\u001b[0m\u001b[0msurf\u001b[0m\u001b[0;34m)\u001b[0m\u001b[0;34m\u001b[0m\u001b[0;34m\u001b[0m\u001b[0m\n\u001b[1;32m      7\u001b[0m \u001b[0;34m\u001b[0m\u001b[0m\n",
            "\u001b[0;32m/usr/local/lib/python3.10/dist-packages/mpl_toolkits/mplot3d/axes3d.py\u001b[0m in \u001b[0;36mplot_trisurf\u001b[0;34m(self, color, norm, vmin, vmax, lightsource, *args, **kwargs)\u001b[0m\n\u001b[1;32m   1872\u001b[0m \u001b[0;34m\u001b[0m\u001b[0m\n\u001b[1;32m   1873\u001b[0m         \u001b[0mtri\u001b[0m\u001b[0;34m,\u001b[0m \u001b[0margs\u001b[0m\u001b[0;34m,\u001b[0m \u001b[0mkwargs\u001b[0m \u001b[0;34m=\u001b[0m\u001b[0;31m \u001b[0m\u001b[0;31m\\\u001b[0m\u001b[0;34m\u001b[0m\u001b[0;34m\u001b[0m\u001b[0m\n\u001b[0;32m-> 1874\u001b[0;31m             \u001b[0mTriangulation\u001b[0m\u001b[0;34m.\u001b[0m\u001b[0mget_from_args_and_kwargs\u001b[0m\u001b[0;34m(\u001b[0m\u001b[0;34m*\u001b[0m\u001b[0margs\u001b[0m\u001b[0;34m,\u001b[0m \u001b[0;34m**\u001b[0m\u001b[0mkwargs\u001b[0m\u001b[0;34m)\u001b[0m\u001b[0;34m\u001b[0m\u001b[0;34m\u001b[0m\u001b[0m\n\u001b[0m\u001b[1;32m   1875\u001b[0m         \u001b[0;32mtry\u001b[0m\u001b[0;34m:\u001b[0m\u001b[0;34m\u001b[0m\u001b[0;34m\u001b[0m\u001b[0m\n\u001b[1;32m   1876\u001b[0m             \u001b[0mz\u001b[0m \u001b[0;34m=\u001b[0m \u001b[0mkwargs\u001b[0m\u001b[0;34m.\u001b[0m\u001b[0mpop\u001b[0m\u001b[0;34m(\u001b[0m\u001b[0;34m'Z'\u001b[0m\u001b[0;34m)\u001b[0m\u001b[0;34m\u001b[0m\u001b[0;34m\u001b[0m\u001b[0m\n",
            "\u001b[0;32m/usr/local/lib/python3.10/dist-packages/matplotlib/tri/_triangulation.py\u001b[0m in \u001b[0;36mget_from_args_and_kwargs\u001b[0;34m(*args, **kwargs)\u001b[0m\n\u001b[1;32m    163\u001b[0m             \u001b[0mx\u001b[0m\u001b[0;34m,\u001b[0m \u001b[0my\u001b[0m\u001b[0;34m,\u001b[0m \u001b[0mtriangles\u001b[0m\u001b[0;34m,\u001b[0m \u001b[0mmask\u001b[0m\u001b[0;34m,\u001b[0m \u001b[0margs\u001b[0m\u001b[0;34m,\u001b[0m \u001b[0mkwargs\u001b[0m \u001b[0;34m=\u001b[0m\u001b[0;31m \u001b[0m\u001b[0;31m\\\u001b[0m\u001b[0;34m\u001b[0m\u001b[0;34m\u001b[0m\u001b[0m\n\u001b[1;32m    164\u001b[0m                 \u001b[0mTriangulation\u001b[0m\u001b[0;34m.\u001b[0m\u001b[0m_extract_triangulation_params\u001b[0m\u001b[0;34m(\u001b[0m\u001b[0margs\u001b[0m\u001b[0;34m,\u001b[0m \u001b[0mkwargs\u001b[0m\u001b[0;34m)\u001b[0m\u001b[0;34m\u001b[0m\u001b[0;34m\u001b[0m\u001b[0m\n\u001b[0;32m--> 165\u001b[0;31m             \u001b[0mtriangulation\u001b[0m \u001b[0;34m=\u001b[0m \u001b[0mTriangulation\u001b[0m\u001b[0;34m(\u001b[0m\u001b[0mx\u001b[0m\u001b[0;34m,\u001b[0m \u001b[0my\u001b[0m\u001b[0;34m,\u001b[0m \u001b[0mtriangles\u001b[0m\u001b[0;34m,\u001b[0m \u001b[0mmask\u001b[0m\u001b[0;34m)\u001b[0m\u001b[0;34m\u001b[0m\u001b[0;34m\u001b[0m\u001b[0m\n\u001b[0m\u001b[1;32m    166\u001b[0m         \u001b[0;32mreturn\u001b[0m \u001b[0mtriangulation\u001b[0m\u001b[0;34m,\u001b[0m \u001b[0margs\u001b[0m\u001b[0;34m,\u001b[0m \u001b[0mkwargs\u001b[0m\u001b[0;34m\u001b[0m\u001b[0;34m\u001b[0m\u001b[0m\n\u001b[1;32m    167\u001b[0m \u001b[0;34m\u001b[0m\u001b[0m\n",
            "\u001b[0;32m/usr/local/lib/python3.10/dist-packages/matplotlib/tri/_triangulation.py\u001b[0m in \u001b[0;36m__init__\u001b[0;34m(self, x, y, triangles, mask)\u001b[0m\n\u001b[1;32m     56\u001b[0m             \u001b[0;31m# No triangulation specified, so use matplotlib._qhull to obtain\u001b[0m\u001b[0;34m\u001b[0m\u001b[0;34m\u001b[0m\u001b[0m\n\u001b[1;32m     57\u001b[0m             \u001b[0;31m# Delaunay triangulation.\u001b[0m\u001b[0;34m\u001b[0m\u001b[0;34m\u001b[0m\u001b[0m\n\u001b[0;32m---> 58\u001b[0;31m             \u001b[0mself\u001b[0m\u001b[0;34m.\u001b[0m\u001b[0mtriangles\u001b[0m\u001b[0;34m,\u001b[0m \u001b[0mself\u001b[0m\u001b[0;34m.\u001b[0m\u001b[0m_neighbors\u001b[0m \u001b[0;34m=\u001b[0m \u001b[0m_qhull\u001b[0m\u001b[0;34m.\u001b[0m\u001b[0mdelaunay\u001b[0m\u001b[0;34m(\u001b[0m\u001b[0mx\u001b[0m\u001b[0;34m,\u001b[0m \u001b[0my\u001b[0m\u001b[0;34m)\u001b[0m\u001b[0;34m\u001b[0m\u001b[0;34m\u001b[0m\u001b[0m\n\u001b[0m\u001b[1;32m     59\u001b[0m             \u001b[0mself\u001b[0m\u001b[0;34m.\u001b[0m\u001b[0mis_delaunay\u001b[0m \u001b[0;34m=\u001b[0m \u001b[0;32mTrue\u001b[0m\u001b[0;34m\u001b[0m\u001b[0;34m\u001b[0m\u001b[0m\n\u001b[1;32m     60\u001b[0m         \u001b[0;32melse\u001b[0m\u001b[0;34m:\u001b[0m\u001b[0;34m\u001b[0m\u001b[0;34m\u001b[0m\u001b[0m\n",
            "\u001b[0;31mRuntimeError\u001b[0m: Error in qhull Delaunay triangulation calculation: input inconsistency (exitcode=1); use python verbose option (-v) to see original qhull error."
          ]
        },
        {
          "output_type": "display_data",
          "data": {
            "text/plain": [
              "<Figure size 640x480 with 1 Axes>"
            ],
            "image/png": "[encoded data removed]"
          },
          "metadata": {}
        }
      ]
    },
    {
      "cell_type": "code",
      "source": [
        "a = x2d[:,1]\n",
        "b =val_func(x2d).clone().detach().squeeze(-1).numpy()\n",
        "a.shape,b.shape"
      ],
      "metadata": {
        "id": "V_XNStKkcr4X",
        "outputId": "d6a4de7e-a707-44b2-fb43-8e9166fb297e",
        "colab": {
          "base_uri": "https://localhost:8080/"
        }
      },
      "execution_count": 146,
      "outputs": [
        {
          "output_type": "execute_result",
          "data": {
            "text/plain": [
              "(torch.Size([1000]), (1000,))"
            ]
          },
          "metadata": {},
          "execution_count": 146
        }
      ]
    },
    {
      "cell_type": "code",
      "source": [
        "x2d[0:10,0],x2d[0:10,1]"
      ],
      "metadata": {
        "id": "mrRAT5C5xx2P",
        "outputId": "3baab575-6d75-4ac2-e29e-c2b970f2fa98",
        "colab": {
          "base_uri": "https://localhost:8080/"
        }
      },
      "execution_count": 150,
      "outputs": [
        {
          "output_type": "execute_result",
          "data": {
            "text/plain": [
              "(tensor([0.7500, 0.7500, 0.7500, 0.7500, 0.7500, 0.7500, 0.7500, 0.7500, 0.7500,\n",
              "         0.7500]),\n",
              " tensor([ 8.0743e-01, -1.0158e+00,  2.0331e+00,  3.3881e-01, -1.5730e-03,\n",
              "         -5.5078e-01, -1.6826e-03, -1.3163e+00,  1.4366e-02, -3.5662e-01]))"
            ]
          },
          "metadata": {},
          "execution_count": 150
        }
      ]
    },
    {
      "cell_type": "code",
      "source": [
        "tx = v2.TX\n",
        "x_term = tx[:,:,-1][:,1]\n",
        "y_term = v2.Y[:,:,-1][:,0]\n",
        "x_ = tx[:,:,-6][:,1]\n",
        "y_ = v2.Y[:,:,-6][:,0]\n",
        "x_.shape,y_.shape,x_term.shape,y_term.shape"
      ],
      "metadata": {
        "id": "N3QSZ3HmhYwy",
        "outputId": "4732f446-8b52-408d-d1e9-759b9cbc576c",
        "colab": {
          "base_uri": "https://localhost:8080/"
        }
      },
      "execution_count": 147,
      "outputs": [
        {
          "output_type": "execute_result",
          "data": {
            "text/plain": [
              "(torch.Size([1000]),\n",
              " torch.Size([1000]),\n",
              " torch.Size([1000]),\n",
              " torch.Size([1000]))"
            ]
          },
          "metadata": {},
          "execution_count": 147
        }
      ]
    },
    {
      "cell_type": "code",
      "source": [
        "class vval1d(nn.Module):\n",
        "    def __init__(self):\n",
        "        super(vval1d, self).__init__()\n",
        "        self.layer = torch.nn.Sequential()\n",
        "        self.layer.add_module(\"L1\",torch.nn.Linear(1, 16))\n",
        "        self.layer.add_module(\"Tanh\", torch.nn.Tanh())\n",
        "        self.layer.add_module(\"L2\",torch.nn.Linear(16,1))\n",
        "    def forward(self, x):\n",
        "        val = self.layer(x)\n",
        "        return val"
      ],
      "metadata": {
        "id": "Hes7ZHzHlclP"
      },
      "execution_count": 137,
      "outputs": []
    },
    {
      "cell_type": "code",
      "source": [
        "vval1 = vval1d()"
      ],
      "metadata": {
        "id": "9QASGqfyk4D2"
      },
      "execution_count": 138,
      "outputs": []
    },
    {
      "cell_type": "code",
      "source": [
        "loss_epochv = []\n",
        "num_epochs = 1000\n",
        "lrv = 1e-2\n",
        "optimizerv = optim.Adam(vval1.parameters(), lrv)\n",
        "L_ = torch.Tensor([-2.0])\n",
        "loss = torch.Tensor([2.0])\n",
        "epoch=0\n",
        "x = x_.unsqueeze(-1).clone().detach()\n",
        "y = y_.unsqueeze(-1).clone().detach()\n",
        "while (torch.abs(L_-loss)>1e-6) & (epoch <= num_epochs):# epoch in range(num_epochs):\n",
        "  optimizerv.zero_grad()\n",
        "  loss= torch.mean(torch.pow(vval1(x)-y,2))#\n",
        "  loss.backward()\n",
        "  optimizerv.step()\n",
        "  loss_epochv.append(loss)\n",
        "  if epoch>0:\n",
        "    L_ = loss_epochv[epoch-1]\n",
        "  if (epoch % 10==0):\n",
        "    print(\"At epoch {} the mean error is {}.\".format(epoch,loss.detach()))\n",
        "  epoch += 1"
      ],
      "metadata": {
        "outputId": "16a353ce-3d99-4b3e-faf0-eb93da1bce79",
        "colab": {
          "base_uri": "https://localhost:8080/"
        },
        "id": "1CFv7Kook4EB"
      },
      "execution_count": 139,
      "outputs": [
        {
          "output_type": "stream",
          "name": "stdout",
          "text": [
            "At epoch 0 the mean error is 1.1725754737854004.\n",
            "At epoch 10 the mean error is 0.4837423264980316.\n",
            "At epoch 20 the mean error is 0.4152091145515442.\n",
            "At epoch 30 the mean error is 0.3926195800304413.\n",
            "At epoch 40 the mean error is 0.36956822872161865.\n",
            "At epoch 50 the mean error is 0.35732120275497437.\n",
            "At epoch 60 the mean error is 0.34668123722076416.\n",
            "At epoch 70 the mean error is 0.33832257986068726.\n",
            "At epoch 80 the mean error is 0.3317139744758606.\n",
            "At epoch 90 the mean error is 0.3261425495147705.\n",
            "At epoch 100 the mean error is 0.3217242658138275.\n",
            "At epoch 110 the mean error is 0.31823456287384033.\n",
            "At epoch 120 the mean error is 0.31550493836402893.\n",
            "At epoch 130 the mean error is 0.3133929669857025.\n",
            "At epoch 140 the mean error is 0.311756432056427.\n",
            "At epoch 150 the mean error is 0.31047773361206055.\n",
            "At epoch 160 the mean error is 0.30946624279022217.\n",
            "At epoch 170 the mean error is 0.3086530268192291.\n",
            "At epoch 180 the mean error is 0.30798715353012085.\n",
            "At epoch 190 the mean error is 0.30743148922920227.\n",
            "At epoch 200 the mean error is 0.30695903301239014.\n",
            "At epoch 210 the mean error is 0.30655035376548767.\n",
            "At epoch 220 the mean error is 0.30619150400161743.\n",
            "At epoch 230 the mean error is 0.3058722913265228.\n",
            "At epoch 240 the mean error is 0.30558547377586365.\n",
            "At epoch 250 the mean error is 0.3053254783153534.\n",
            "At epoch 260 the mean error is 0.305088073015213.\n",
            "At epoch 270 the mean error is 0.3048698306083679.\n",
            "At epoch 280 the mean error is 0.3046680688858032.\n",
            "At epoch 290 the mean error is 0.3044801950454712.\n",
            "At epoch 300 the mean error is 0.30430424213409424.\n",
            "At epoch 310 the mean error is 0.3041382431983948.\n",
            "At epoch 320 the mean error is 0.3039807081222534.\n",
            "At epoch 330 the mean error is 0.30383020639419556.\n",
            "At epoch 340 the mean error is 0.30368560552597046.\n",
            "At epoch 350 the mean error is 0.3035459518432617.\n",
            "At epoch 360 the mean error is 0.3034103214740753.\n",
            "At epoch 370 the mean error is 0.30327820777893066.\n",
            "At epoch 380 the mean error is 0.30314892530441284.\n",
            "At epoch 390 the mean error is 0.30302223563194275.\n",
            "At epoch 400 the mean error is 0.30289769172668457.\n",
            "At epoch 410 the mean error is 0.30277520418167114.\n",
            "At epoch 420 the mean error is 0.3026544451713562.\n",
            "At epoch 430 the mean error is 0.30253544449806213.\n",
            "At epoch 440 the mean error is 0.3024180829524994.\n",
            "At epoch 450 the mean error is 0.30230244994163513.\n",
            "At epoch 460 the mean error is 0.30218854546546936.\n",
            "At epoch 470 the mean error is 0.3020765483379364.\n",
            "At epoch 480 the mean error is 0.3019665777683258.\n",
            "At epoch 490 the mean error is 0.30185893177986145.\n",
            "At epoch 500 the mean error is 0.3017538785934448.\n",
            "At epoch 510 the mean error is 0.30165183544158936.\n",
            "At epoch 520 the mean error is 0.3015531897544861.\n",
            "At epoch 530 the mean error is 0.3014584481716156.\n",
            "At epoch 540 the mean error is 0.30136799812316895.\n",
            "At epoch 550 the mean error is 0.30128252506256104.\n",
            "At epoch 560 the mean error is 0.3012023866176605.\n",
            "At epoch 570 the mean error is 0.30112797021865845.\n",
            "At epoch 580 the mean error is 0.3010595738887787.\n",
            "At epoch 590 the mean error is 0.30099746584892273.\n",
            "At epoch 600 the mean error is 0.3009415566921234.\n",
            "At epoch 610 the mean error is 0.3008919358253479.\n",
            "At epoch 620 the mean error is 0.30084824562072754.\n",
            "At epoch 630 the mean error is 0.3008102476596832.\n",
            "At epoch 640 the mean error is 0.3007775843143463.\n",
            "At epoch 650 the mean error is 0.30074968934059143.\n",
            "At epoch 660 the mean error is 0.30072611570358276.\n",
            "At epoch 670 the mean error is 0.3007063567638397.\n",
            "At epoch 680 the mean error is 0.3006899356842041.\n",
            "At epoch 690 the mean error is 0.3006763160228729.\n",
            "At epoch 700 the mean error is 0.30066514015197754.\n"
          ]
        }
      ]
    },
    {
      "cell_type": "code",
      "source": [
        "fig = plt.figure()\n",
        "# plt.scatter(a.squeeze(-1).numpy(),g(a).clone().detach().squeeze(-1).numpy(),s=15,label='Terminal ',marker='.');\n",
        "# plt.scatter(x_term.clone().detach().numpy(),y_term.clone().detach().numpy(),s=5,label='Terminal v2',marker='o');\n",
        "plt.scatter(x_.clone().detach().numpy(),y_.clone().detach().numpy(),s=5,label='v2.Y T-5Delta t',marker='o');\n",
        "plt.scatter(a.numpy(),b,s=5,label='vval2d T-5Delta t',marker='o');\n",
        "plt.scatter(x.clone().detach().numpy(),vval1(x).clone().detach().numpy(),s=5,label='vval1 T-5Delta t',marker='o');\n",
        "\n",
        "plt.legend();\n",
        "plt.show();"
      ],
      "metadata": {
        "id": "fTzyAR2Dc8r0",
        "outputId": "83f0bfb8-b095-4bd7-b5a4-1b53c3ce40ec",
        "colab": {
          "base_uri": "https://localhost:8080/",
          "height": 430
        }
      },
      "execution_count": 151,
      "outputs": [
        {
          "output_type": "display_data",
          "data": {
            "text/plain": [
              "<Figure size 640x480 with 1 Axes>"
            ],
            "image/png": "[encoded data removed]"
          },
          "metadata": {}
        }
      ]
    },
    {
      "cell_type": "code",
      "source": [
        "# print(x2d[:,1],y2d.shape)\n",
        "plt.scatter(x_.clone().detach().numpy(),y_.clone().detach().numpy(),s=5,label='v2.Y T-6Delta t',marker='o');\n",
        "plt.scatter(x2d[:,1].clone().detach().numpy(),y2d.clone().detach().numpy(),s=5,label='x2d vs y2d T-6Delta t',marker='o');\n",
        "plt.legend();"
      ],
      "metadata": {
        "id": "G1RRYvKHtGD5",
        "outputId": "8aa25d76-2fac-4de4-fe6f-8d1560aad62f",
        "colab": {
          "base_uri": "https://localhost:8080/",
          "height": 430
        }
      },
      "execution_count": 153,
      "outputs": [
        {
          "output_type": "display_data",
          "data": {
            "text/plain": [
              "<Figure size 640x480 with 1 Axes>"
            ],
            "image/png": "[encoded data removed]"
          },
          "metadata": {}
        }
      ]
    },
    {
      "cell_type": "markdown",
      "source": [
        "# Conditional expectation"
      ],
      "metadata": {
        "id": "lpZBXu0JjVsM"
      }
    },
    {
      "cell_type": "markdown",
      "source": [
        "To evaluate $\\mathbb{E}[c(t,x,u)+\\phi(x,\\xi)]$ in Step 1, we need to create a module that evaluate expected value using a set of samples of $\\xi$.\n",
        "Such module must evaluate the expected value a a function of $x$. To do this, we use the following two wellknown theorems about conditional expectation\n",
        "\n",
        "\n",
        "  1) If $X$ and $\\xi$ are independent, then $\\mathbb{E}[\\phi(X,\\xi)|X]= \\Phi(X)$, where $\\Phi(x)=\\mathbb{E}[\\phi(x,\\xi)]$.\n",
        "\n",
        "  2) $\\mathbb{E}[Y|X]=f(X)$, where $f(x)$ is the minimizer of $\\mathbb{E}[(Y-f(X))^2]$.\n",
        "\n"
      ],
      "metadata": {
        "id": "SFst5aYlrH6e"
      }
    },
    {
      "cell_type": "markdown",
      "source": [
        "## Neural network approximation of conditional expectation\n",
        "\n",
        "$\\inf_{\\theta}\\mathbb{E}[(Y-\\phi(X;\\theta))^2]$\n",
        "\n",
        "and $\\phi(x;\\theta)$ is a neural network with parameter $\\theta$."
      ],
      "metadata": {
        "id": "Qws0AvGLMa9s"
      }
    },
    {
      "cell_type": "markdown",
      "source": [
        "## Test examples using neural networks\n",
        "\n",
        "Let's write a module that takes samples of $(X,Y)$ and returns $\\mathbb{E}[Y|X=x]$\n",
        "\n",
        "Example: $X$ standard normal and $Y=e^{-X}+e^X\\xi$ where $\\xi$ is standard normal independent of $X$. We know $\\mathbb{E}[Y|X]=e^{-X}$."
      ],
      "metadata": {
        "id": "QYB5z0mjOTxj"
      }
    },
    {
      "cell_type": "code",
      "source": [
        "#hyperparameters for learning\n",
        "lr = 1e-3\n",
        "num_epochs = 10000\n",
        "torch.set_printoptions(precision=10)\n",
        "loss_epoch = torch.zeros(num_epochs)"
      ],
      "metadata": {
        "id": "wzxOkxtppJyK"
      },
      "execution_count": null,
      "outputs": []
    },
    {
      "cell_type": "code",
      "source": [
        "def loss_fun(y,x,model):# y :samples for $Y$, x: samples for x, model: nn\n",
        "  return torch.mean(torch.pow(model(x)-y,2))\n"
      ],
      "metadata": {
        "id": "GT4QGv1xRECt"
      },
      "execution_count": null,
      "outputs": []
    },
    {
      "cell_type": "code",
      "source": [
        "'''conditional expectation of X[1,:] given X[0,:] in for of trained model'''\n",
        "def cond_expect(data, model):\n",
        "  optimizer = optim.Adam(model.parameters(), lr)\n",
        "  L_ = torch.Tensor([-2.0])\n",
        "  loss = torch.Tensor([2.0])\n",
        "  epoch=0\n",
        "  while (torch.abs(L_-loss)>1e-6) & (epoch <= num_epochs):# epoch in range(num_epochs):\n",
        "    optimizer.zero_grad()\n",
        "    loss=loss_fun(data[:,1].unsqueeze(1),data[:,0].unsqueeze(1),model)# Y=data[:,1], X=data[:,0]\n",
        "    loss.backward()\n",
        "    optimizer.step()\n",
        "    loss_epoch[epoch] = loss\n",
        "    if epoch>0:\n",
        "      L_ = loss_epoch[epoch-1]\n",
        "    if (epoch % 100==0):\n",
        "      print(\"At epoch {} the mean error is {}.\".format(epoch,loss.detach()))\n",
        "    epoch += 1\n"
      ],
      "metadata": {
        "id": "dokXzWTCjXh1"
      },
      "execution_count": null,
      "outputs": []
    },
    {
      "cell_type": "code",
      "source": [
        "# increase neurons\n",
        "model3= torch.nn.Sequential(\n",
        "    torch.nn.Linear(1, 16),\n",
        "    torch.nn.Tanh(),\n",
        "    # torch.nn.Sigmoid(),\n",
        "    # torch.nn.ReLU(),\n",
        "    torch.nn.Linear(16,1)\n",
        ")"
      ],
      "metadata": {
        "id": "fX4l4l3_pD45"
      },
      "execution_count": null,
      "outputs": []
    },
    {
      "cell_type": "code",
      "source": [
        "data = torch.cat((X,Y),dim=1)\n",
        "cond_expect(data,model3)\n"
      ],
      "metadata": {
        "id": "XCrDFmdDrNFA",
        "colab": {
          "base_uri": "https://localhost:8080/"
        },
        "outputId": "d8b1987a-0170-4643-cf73-f1dc72f9f73a"
      },
      "execution_count": null,
      "outputs": [
        {
          "output_type": "stream",
          "name": "stdout",
          "text": [
            "At epoch 0 the mean error is 14.38145637512207.\n",
            "At epoch 100 the mean error is 13.252371788024902.\n",
            "At epoch 200 the mean error is 13.09913158416748.\n",
            "At epoch 300 the mean error is 13.083439826965332.\n"
          ]
        }
      ]
    },
    {
      "cell_type": "code",
      "source": [
        "Z = torch.normal(0., 1., size=(M,1))\n",
        "W = torch.exp(-Z)+torch.exp(Z)*torch.normal(0., 1., size=(M,1))\n",
        "torch.set_printoptions(precision=10)\n",
        "print(\"Test on new data: MSE = {}\".format(loss_fun(W,Z,model3)))"
      ],
      "metadata": {
        "colab": {
          "base_uri": "https://localhost:8080/"
        },
        "outputId": "4fb29d7b-98c6-49af-9397-2099e43fe6fc",
        "id": "8ZJDvbgZsUyl"
      },
      "execution_count": null,
      "outputs": [
        {
          "output_type": "stream",
          "name": "stdout",
          "text": [
            "Test on new data: MSE = 12.280806541442871\n"
          ]
        }
      ]
    },
    {
      "cell_type": "code",
      "source": [
        "xx = torch.linspace(-2,2,600)\n",
        "yy = model3(xx.unsqueeze(1))\n",
        "plt.plot(xx.detach().numpy(),yy.detach().numpy(), label='approximation');\n",
        "plt.plot(xx.detach().numpy(),np.exp(-xx.detach().numpy()), label='analytical');\n",
        "plt.title(\"Comparison with analytical solution\");\n",
        "plt.legend();\n",
        "plt.savefig(path+'test for model3'+stamp+'.png');"
      ],
      "metadata": {
        "outputId": "299b4810-551a-43c9-f645-b1819f47ee94",
        "colab": {
          "base_uri": "https://localhost:8080/",
          "height": 452
        },
        "id": "jckqYPR3sUyt"
      },
      "execution_count": null,
      "outputs": [
        {
          "output_type": "display_data",
          "data": {
            "text/plain": [
              "<Figure size 640x480 with 1 Axes>"
            ],
            "image/png": "[encoded data removed]"
          },
          "metadata": {}
        }
      ]
    },
    {
      "cell_type": "markdown",
      "source": [
        "### **Evaluation of conditional expectation using deep learning is cool and all, but it is slow and causes some issue while training the neural net for the control. Therefore, we have to change our approach.**"
      ],
      "metadata": {
        "id": "134ven_1W9DT"
      }
    },
    {
      "cell_type": "markdown",
      "source": [
        "# Scratch coding"
      ],
      "metadata": {
        "id": "Xy1Vh3uFWk_I"
      }
    },
    {
      "cell_type": "markdown",
      "source": [
        "##########################################"
      ],
      "metadata": {
        "id": "wjwFszuSWlOd"
      }
    },
    {
      "cell_type": "code",
      "source": [
        "#hyperparameters for learning\n",
        "lr = 1e-3\n",
        "num_epochs = 1000\n",
        "torch.set_printoptions(precision=10)\n",
        "loss_epoch = torch.zeros(num_epochs)\n",
        "optimizer = optim.Adam(modelu.parameters(), lr)\n",
        "# scheduler = lr_scheduler.LinearLR(optimizer, start_factor=1e-1, end_factor=1e-5, total_iters=100)"
      ],
      "metadata": {
        "id": "hWKPMOQX09v3"
      },
      "execution_count": null,
      "outputs": []
    },
    {
      "cell_type": "code",
      "source": [
        "'''conditional expectation of X[1,:] given X[0,:] in for of trained model'''\n",
        "def oneStep(data, model):\n",
        "  optimizer = optim.Adam(model.parameters(), lr)\n",
        "  L_ = torch.Tensor([-2.0])\n",
        "  loss = torch.Tensor([2.0])\n",
        "  epoch=0\n",
        "  while (torch.abs(L_-loss)>1e-4) & (epoch <= num_epochs):# epoch in range(num_epochs):\n",
        "    optimizer.zero_grad()\n",
        "    loss=loss_fun(data[:,1].unsqueeze(1),data[:,0].unsqueeze(1),model)# Y=data[:,1], X=data[:,0]\n",
        "    loss.backward()\n",
        "    optimizer.step()\n",
        "    loss_epoch[epoch] = loss\n",
        "    if epoch>0:\n",
        "      L_ = loss_epoch[epoch-1]\n",
        "    if (epoch % 100==0):\n",
        "      print(\"At epoch {} the mean error is {}.\".format(epoch,loss.detach()))\n",
        "    epoch += 1\n"
      ],
      "metadata": {
        "id": "82-zpr63R7D-"
      },
      "execution_count": null,
      "outputs": []
    },
    {
      "cell_type": "code",
      "source": [
        "#saving the model\n",
        "torch.save(model1, path+\"model1_\"+str(stamp)+\".pt\")"
      ],
      "metadata": {
        "id": "ZPyyBKSL4ucg",
        "colab": {
          "base_uri": "https://localhost:8080/",
          "height": 194
        },
        "outputId": "a649ccba-95a7-4acf-c7fa-7d516c612700"
      },
      "execution_count": null,
      "outputs": [
        {
          "output_type": "error",
          "ename": "NameError",
          "evalue": "ignored",
          "traceback": [
            "\u001b[0;31m---------------------------------------------------------------------------\u001b[0m",
            "\u001b[0;31mNameError\u001b[0m                                 Traceback (most recent call last)",
            "\u001b[0;32m<ipython-input-49-f53c7d22b8ee>\u001b[0m in \u001b[0;36m<cell line: 2>\u001b[0;34m()\u001b[0m\n\u001b[1;32m      1\u001b[0m \u001b[0;31m#saving the model\u001b[0m\u001b[0;34m\u001b[0m\u001b[0;34m\u001b[0m\u001b[0m\n\u001b[0;32m----> 2\u001b[0;31m \u001b[0mtorch\u001b[0m\u001b[0;34m.\u001b[0m\u001b[0msave\u001b[0m\u001b[0;34m(\u001b[0m\u001b[0mmodel1\u001b[0m\u001b[0;34m,\u001b[0m \u001b[0mpath\u001b[0m\u001b[0;34m+\u001b[0m\u001b[0;34m\"model1_\"\u001b[0m\u001b[0;34m+\u001b[0m\u001b[0mstr\u001b[0m\u001b[0;34m(\u001b[0m\u001b[0mstamp\u001b[0m\u001b[0;34m)\u001b[0m\u001b[0;34m+\u001b[0m\u001b[0;34m\".pt\"\u001b[0m\u001b[0;34m)\u001b[0m\u001b[0;34m\u001b[0m\u001b[0;34m\u001b[0m\u001b[0m\n\u001b[0m",
            "\u001b[0;31mNameError\u001b[0m: name 'model1' is not defined"
          ]
        }
      ]
    },
    {
      "cell_type": "code",
      "source": [
        "# write loss into a daraframe\n",
        "df_loss = pd.DataFrame([range(num_epochs), loss_epoch.detach().numpy()]).T\n",
        "df_loss.columns = ['Epoch','Loss']\n",
        "df_loss['Epoch'] = df_loss['Epoch'].astype('int64')\n",
        "df_loss.to_csv(path+\"run_model1_\"+str(stamp)+\".csv\",sep=\",\")"
      ],
      "metadata": {
        "id": "mwGcoKU9xYFS"
      },
      "execution_count": null,
      "outputs": []
    },
    {
      "cell_type": "code",
      "source": [
        "# testing\n",
        "Z = torch.normal(0., 1., size=(M,1))\n",
        "W = torch.exp(-Z)+torch.exp(Z)*torch.normal(0., 1., size=(M,1))\n",
        "torch.set_printoptions(precision=10)\n",
        "print(\"Test on new data: MSE = {}\".format(loss_fun(W,Z,model1)))"
      ],
      "metadata": {
        "id": "5uaufRfESx4c"
      },
      "execution_count": null,
      "outputs": []
    },
    {
      "cell_type": "code",
      "source": [
        "n = np.linspace(0,num_epochs,num_epochs)\n",
        "m = loss_epoch.detach().numpy()\n",
        "plt.plot(n,m);\n",
        "plt.title(\"Loss vs number of pochs in model1\");\n",
        "plt.savefig(path+'loss_vs_epoch_model1'+stamp+'.png');"
      ],
      "metadata": {
        "id": "DwpbR1fLSrf_"
      },
      "execution_count": null,
      "outputs": []
    },
    {
      "cell_type": "code",
      "source": [
        "xx = torch.linspace(-3,3,600)\n",
        "yy = model1(xx.unsqueeze(1))\n",
        "plt.plot(xx.detach().numpy(),yy.detach().numpy(), label='approximation');\n",
        "plt.plot(xx.detach().numpy(),np.exp(-xx.detach().numpy()), label='analytical');\n",
        "plt.title(\"Comparison with analytical solution\");\n",
        "plt.legend();\n",
        "plt.savefig(path+'test for model1'+stamp+'.png');"
      ],
      "metadata": {
        "id": "-Ny17ZLuVeoX"
      },
      "execution_count": null,
      "outputs": []
    },
    {
      "cell_type": "code",
      "source": [
        "def deriv(model,x):\n",
        "  x_ = x.clone().detach()\n",
        "  x_.requires_grad_(True)\n",
        "  u=model(x_)\n",
        "  return torch.autograd.grad(outputs=u, inputs=x_,grad_outputs=torch.ones_like(u),\n",
        "                           allow_unused=True,retain_graph=True,create_graph=True)[0]"
      ],
      "metadata": {
        "id": "f-aR_atMc4Wh"
      },
      "execution_count": null,
      "outputs": []
    },
    {
      "cell_type": "code",
      "source": [
        "xx = torch.linspace(-3,3,600)\n",
        "yy = deriv(model1,xx.unsqueeze(1))\n",
        "plt.plot(xx.detach().numpy(),yy.detach().numpy(), label='approximation');\n",
        "plt.plot(xx.detach().numpy(),-np.exp(-xx.detach().numpy()), label='analytical');\n",
        "plt.title(\"Comparison with analytical solution\");\n",
        "plt.legend();\n",
        "plt.savefig(path+'test for derivative  of model1'+stamp+'.png');"
      ],
      "metadata": {
        "id": "6JDRyWL4Y8fj"
      },
      "execution_count": null,
      "outputs": []
    },
    {
      "cell_type": "code",
      "source": [
        "# increase neurons\n",
        "model2= torch.nn.Sequential(\n",
        "    torch.nn.Linear(1, 16),\n",
        "    torch.nn.ReLU(),\n",
        "    # torch.nn.Linear(8, 8),\n",
        "    # torch.nn.ReLU(),\n",
        "    torch.nn.Linear(16,1)\n",
        ")"
      ],
      "metadata": {
        "id": "ckp-RKO29VnQ"
      },
      "execution_count": null,
      "outputs": []
    },
    {
      "cell_type": "code",
      "source": [
        "# create time stamp to save the result\n",
        "stamp = strftime('%Y-%m-%d %H:%M:%S', localtime())\n",
        "print(str(stamp))"
      ],
      "metadata": {
        "id": "HwczH1P79VnS"
      },
      "execution_count": null,
      "outputs": []
    },
    {
      "cell_type": "code",
      "source": [
        "#hyperparameters for learning\n",
        "optimizer = optim.Adam(model2.parameters(), lr)\n",
        "# scheduler = lr_scheduler.LinearLR(optimizer, start_factor=1e-1, end_factor=1e-5, total_iters=100)"
      ],
      "metadata": {
        "id": "viscjvNz9VnS"
      },
      "execution_count": null,
      "outputs": []
    },
    {
      "cell_type": "code",
      "source": [
        "for epoch in range(num_epochs):\n",
        "  optimizer.zero_grad()\n",
        "  loss=loss_fun(Y,X,model2)\n",
        "  loss.backward()\n",
        "  optimizer.step()\n",
        "  loss_epoch[epoch] = loss\n",
        "  # scheduler.step()\n",
        "  if (epoch % 1000==-1):\n",
        "    print(\"At epoch {} the mean error is {}.\".format(epoch,loss.detach()))\n"
      ],
      "metadata": {
        "id": "QqNzuZ1L9VnS"
      },
      "execution_count": null,
      "outputs": []
    },
    {
      "cell_type": "code",
      "source": [
        "#saving the model\n",
        "torch.save(model2, path+\"model2_\"+str(stamp)+\".pt\")"
      ],
      "metadata": {
        "id": "mGW5EHoZ9VnS"
      },
      "execution_count": null,
      "outputs": []
    },
    {
      "cell_type": "code",
      "source": [
        "# write loss into a daraframe\n",
        "df_loss = pd.DataFrame([range(num_epochs), loss_epoch.detach().numpy()]).T\n",
        "df_loss.columns = ['Epoch','Loss']\n",
        "df_loss['Epoch'] = df_loss['Epoch'].astype('int64')\n",
        "df_loss.to_csv(path+\"run_model2_\"+str(stamp)+\".csv\",sep=\",\")"
      ],
      "metadata": {
        "id": "VQLZeJjR9VnS"
      },
      "execution_count": null,
      "outputs": []
    },
    {
      "cell_type": "code",
      "source": [
        "Z = torch.normal(0., 1., size=(M,1))\n",
        "W = torch.exp(-Z)+torch.exp(Z)*torch.normal(0., 1., size=(M,1))\n",
        "torch.set_printoptions(precision=10)\n",
        "print(\"Test on new data: MSE = {}\".format(loss_fun(W,Z,model1)))"
      ],
      "metadata": {
        "id": "EAEUUahn9VnT"
      },
      "execution_count": null,
      "outputs": []
    },
    {
      "cell_type": "code",
      "source": [
        "import numpy as np\n",
        "import matplotlib.pyplot as plt\n",
        "n = np.linspace(0,num_epochs,num_epochs)\n",
        "m = loss_epoch.detach().numpy()\n",
        "plt.plot(n,m);\n",
        "plt.title(\"Loss vs number of epochs in model2\");\n",
        "plt.savefig(path+'loss_vs_epoch_model2'+stamp+'.png');"
      ],
      "metadata": {
        "id": "LyCJVN2Y9VnT"
      },
      "execution_count": null,
      "outputs": []
    },
    {
      "cell_type": "code",
      "source": [
        "xx = torch.linspace(-2,2,600)\n",
        "yy = model2(xx.unsqueeze(1))\n",
        "plt.plot(xx.detach().numpy(),yy.detach().numpy(), label='approximation');\n",
        "plt.plot(xx.detach().numpy(),np.exp(-xx.detach().numpy()), label='analytical');\n",
        "plt.title(\"Comparison with analytical solution\");\n",
        "plt.legend();\n",
        "plt.savefig(path+'test for model2'+stamp+'.png');"
      ],
      "metadata": {
        "id": "PW6OLwmt9VnT"
      },
      "execution_count": null,
      "outputs": []
    },
    {
      "cell_type": "code",
      "source": [
        "xx = torch.linspace(-3,3,600)\n",
        "yy = deriv(model2,xx.unsqueeze(1))\n",
        "plt.plot(xx.detach().numpy(),yy.detach().numpy(), label='approximation');\n",
        "plt.plot(xx.detach().numpy(),-np.exp(-xx.detach().numpy()), label='analytical');\n",
        "plt.title(\"Comparison with analytical solution\");\n",
        "plt.legend();\n",
        "plt.savefig(path+'test for derivative  of model2'+stamp+'.png');"
      ],
      "metadata": {
        "id": "3mxJvleweFr-"
      },
      "execution_count": null,
      "outputs": []
    },
    {
      "cell_type": "markdown",
      "source": [
        "## 1.2 Projectin method\n",
        "\n",
        "\n",
        "One trick to approximate $\\mathbb{E}[Y|X]=f(X)$ is to take the minimum over a smaller class of fuctions, e.g., $f(x)=\\sum_{k=1}^Ka_k\\phi_k(x)$, for a suitable set of functions $\\phi_k$. To evluate approximate $f$, we use a joint (unconditional) sample of $(X,Y)$, $\\{(x_j,y_j):j=i,...,J\\}$ to write\n",
        "\n",
        "$\\inf_{a_1,...,a_K}\\sum_{j=1}^J \\big(y_j-\\sum_{k=1}^Ka_k\\phi_k(x_j)\\big)^2$\n",
        "\n",
        "This is a quadratic minimization problem which has a unique solution. To find the minimizer, we take take derivative wrt $a_{k'}$ and set it to zero to obtain a linear system.\n",
        "\n",
        "$\\sum_{j=1}^J \\phi_{k'}(x_j)\\big(y_j-\\sum_{k=1}^Ka_k\\phi_k(x_j)\\big)=0$\n",
        "\n",
        "$\\sum_{k=1}^Ka_k\\sum_{j=1}^J\\phi_k(x_j)\\phi_{k'}(x_j) = \\sum_{j=1}^J \\phi_{k'}(x_j)y_j$\n",
        "\n",
        "or $Ma=b$ with\n",
        "\n",
        "$a=(a_1,...,a_K)^\\top$, $M=[m_{k'k}]$ with $m_{k'k}=\\sum_{j=1}^J\\phi_{k'}(x_j)\\phi_{k}(x_j)$, and $b=(b_1,...,b_K)^\\top$ with $b_k=\\sum_{j=1}^J\\phi_k(x_j)y_j$."
      ],
      "metadata": {
        "id": "053tEF-z6dyD"
      }
    },
    {
      "cell_type": "markdown",
      "source": [
        "## 1.3. Choosing basis $\\phi_k$\n",
        "\n",
        "It is useful to choose the basis $\\phi_k$ such that $m_{k'k}=0$ when $k'\\neq k$. Then, the linear system above takes no time to solve: $a_k=b_k/m_{kk}$. Sometimes this is done by using orthogonal polynomials. However, we propose a simpler solution: choose the basis such that $\\phi_k(x)$ and $\\phi_{k'}(x)$ have disjoint support. For instance, they are indicator functions of hypercubes.\n",
        " More detains of this method can be found in the paper [Monte-Carlo valuation of American options: facts and new algorithms to improve existing methods](https://www.ceremade.dauphine.fr/~bouchard/pdf/BW10.pdf)."
      ],
      "metadata": {
        "id": "GvmlYke0-cG-"
      }
    },
    {
      "cell_type": "markdown",
      "source": [
        "## 1.3. Simulationg samples of $(X_t,\\xi)$\n",
        "Let $\\xi$ be Gaussian, e.g., increment of Brownian motion, we can choose any distribution for $X_t$ independent of $\\xi$."
      ],
      "metadata": {
        "id": "k2kPNML4_kY2"
      }
    },
    {
      "cell_type": "markdown",
      "source": [
        "# Step 2 DPP\n",
        "Start the backward scheme by feeding $C(t,x,u)$ and $g(x)$ into the optimization module and obtain $V(T-1,x)$ over the range of simulated values for $X_{T-1}$.\n",
        "\n",
        "Repeat the process by feeding $C(t,x,u)$ and $V(t+1,x)$ into the optimization module to obtain $V(t,x)$.\n",
        "\n",
        "It is important to make sure the simulated samples of $X^u_{t+1}$ are well inside the range in which estimation of $V(t+1,x)$ is rather accurate/"
      ],
      "metadata": {
        "id": "HlNWVIImAJGE"
      }
    }
  ]
}