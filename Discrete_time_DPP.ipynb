{
  "nbformat": 4,
  "nbformat_minor": 0,
  "metadata": {
    "colab": {
      "provenance": [],
      "authorship_tag": "ABX9TyMUBLmQSoDq7vjYcF8E7dq4",
      "include_colab_link": true
    },
    "kernelspec": {
      "name": "python3",
      "display_name": "Python 3"
    },
    "language_info": {
      "name": "python"
    }
  },
  "cells": [
    {
      "cell_type": "markdown",
      "metadata": {
        "id": "view-in-github",
        "colab_type": "text"
      },
      "source": [
        "<a href=\"https://colab.research.google.com/github/arashfahim/Stochastic_Control_FSU/blob/arash/Discrete_time_DPP.ipynb\" target=\"_parent\"><img src=\"https://colab.research.google.com/assets/colab-badge.svg\" alt=\"Open In Colab\"/></a>"
      ]
    },
    {
      "cell_type": "markdown",
      "source": [
        "The goal of this notebook is to implement a one-step dynamic programming principle, DPP, for a stochastic control problem.\n",
        "\n",
        "The stochastic control problem is given by\n",
        "\n",
        "$\\inf_{u_0,...u_{T-1}}\\mathbb{E}\\bigg[\\sum_{t=0}^{T-1}C(t,X^u_t,u_t)+g(X^u_T)\\bigg]$\n",
        "\n",
        "\n"
      ],
      "metadata": {
        "id": "Hq2eZ_d-UDNp"
      }
    },
    {
      "cell_type": "markdown",
      "source": [
        "The DPP is given by\n",
        "\n",
        "$\\begin{cases}\n",
        "V(t,x)=\\inf_{u\\in\\mathbb{R}^d}\\mathbb{E}[C(t,x,u)+V(t+1,X^u_{t+1})]\\\\\n",
        "V(T,x)=g(x)\n",
        "\\end{cases}$\n",
        "\n",
        "with $X^u_{t+1}=x+\\mu(t,x,u)+\\sigma(t,x,u)\\xi_{t+1}$"
      ],
      "metadata": {
        "id": "JP7f4T78Uqvg"
      }
    },
    {
      "cell_type": "markdown",
      "source": [
        "# Step 1. Creation of optimization module\n",
        "\n",
        "We need to solve the above one-step optimization problem.\n",
        "\n",
        "Input: $\\phi(x,u,\\xi)$ and $c(x,u)$\n",
        "\n",
        "Optimize: $\\inf_u\\mathbb{E}[c(x,u)+\\phi(x,u,\\xi)]$\n",
        "\n",
        "Output: $u^*(x)\\in\\textrm{argmin}\\mathbb{E}[c(x,u)+\\phi(x,u,\\xi)]$\n",
        "\n",
        "\n",
        "\n",
        "---\n",
        "\n",
        "It is important to make sure the input and output are functions and not just data points."
      ],
      "metadata": {
        "id": "nH3hSPxVVKX-"
      }
    },
    {
      "cell_type": "markdown",
      "source": [
        "## Step 1.1. Expected value\n",
        "\n",
        "To evaluate $\\mathbb{E}[c(t,x,u)+\\phi(x,\\xi)]$ in Step 1, we need to create a module that evaluate expected value using a set of samples of $\\xi$.\n",
        "Such module must evaluate the expected value a a function of $x$. To do this, we use the following two wellknown theorems about conditional expectation\n",
        "\n",
        "\n",
        "  1) If $X$ and $\\xi$ are independent, then $\\mathbb{E}[\\phi(X,\\xi)|X]= \\Phi(X)$, where $\\Phi(x)=\\mathbb{E}[\\phi(x,\\xi)]$.\n",
        "\n",
        "  2) $\\mathbb{E}[Y|X]=f(X)$, where $f(x)$ is the minimizer of $\\mathbb{E}[(Y-f(X))^2]$.\n",
        "\n",
        "\n",
        "One trick to approximate $\\mathbb{E}[Y|X]=f(X)$ is to take the minimum over a smaller class of fuctions, e.g., $f(x)=\\sum_{k=1}^Ka_k\\phi_k(x)$, for a suitable set of functions $\\phi_k$. To evluate approximate $f$, we use a joint (unconditional) sample of $(X,Y)$, $\\{(x_j,y_j):j=i,...,J\\}$ to write\n",
        "\n",
        "$\\inf_{a_1,...,a_K}\\sum_{j=1}^J \\big(y_j-\\sum_{k=1}^Ka_k\\phi_k(x_j)\\big)^2$\n",
        "\n",
        "This is a quadratic minimization problem which has a unique solution. To find the minimizer, we take take derivative wrt $a_{k'}$ and set it to zero to obtain a linear system.\n",
        "\n",
        "$\\sum_{j=1}^J \\phi_{k'}(x_j)\\big(y_j-\\sum_{k=1}^Ka_k\\phi_k(x_j)\\big)=0$\n",
        "\n",
        "$\\sum_{k=1}^Ka_k\\sum_{j=1}^J\\phi_k(x_j)\\phi_{k'}(x_j) = \\sum_{j=1}^J \\phi_{k'}(x_j)y_j$\n",
        "\n",
        "or $Ma=b$ with\n",
        "\n",
        "$a=(a_1,...,a_K)^\\top$, $M=[m_{k'k}]$ with $m_{k'k}=\\sum_{j=1}^J\\phi_{k'}(x_j)\\phi_{k}(x_j)$, and $b=(b_1,...,b_K)^\\top$ with $b_k=\\sum_{j=1}^J\\phi_k(x_j)y_j$.\n"
      ],
      "metadata": {
        "id": "SFst5aYlrH6e"
      }
    },
    {
      "cell_type": "markdown",
      "source": [
        "### Example using neural networks\n",
        "\n",
        "Let's write a module that takes samples of $(X,Y)$ and returns $\\mathbb{E}[Y|X=x]$\n",
        "\n",
        "Example: $X$ standard normal and $Y=e^{-X}+e^X\\xi$ where $\\xi$ is standard normal independent of $X$."
      ],
      "metadata": {
        "id": "QYB5z0mjOTxj"
      }
    },
    {
      "cell_type": "code",
      "source": [
        "import torch\n",
        "import torch.nn as nn\n",
        "M =1000# number of samples\n",
        "X = torch.normal(0., 1., size=(M,1))# samples for X~N(0,1)\n",
        "Y = torch.exp(-X)+torch.exp(X)*torch.normal(0., 1., size=(M,1))# samples for Y=e^{-x}+e^{x}N(0,1)\n",
        "# X.shape"
      ],
      "metadata": {
        "id": "-Obh3NNKOTMI"
      },
      "execution_count": 101,
      "outputs": []
    },
    {
      "cell_type": "code",
      "source": [
        "model1= torch.nn.Sequential(\n",
        "    torch.nn.Linear(1, 8),\n",
        "    torch.nn.ReLU(),\n",
        "    # torch.nn.Linear(8, 8),\n",
        "    # torch.nn.ReLU(),\n",
        "    torch.nn.Linear(8,1)\n",
        ")"
      ],
      "metadata": {
        "id": "9XL9XmfFOFSB"
      },
      "execution_count": 108,
      "outputs": []
    },
    {
      "cell_type": "code",
      "source": [
        "def loss_fun(y,x,model):# y :samples for $Y$, x: samples for x, model: nn\n",
        "  return torch.mean(torch.pow(model(x)-y,2))\n"
      ],
      "metadata": {
        "id": "GT4QGv1xRECt"
      },
      "execution_count": 109,
      "outputs": []
    },
    {
      "cell_type": "code",
      "source": [
        "loss_fun(Y,X,model1)"
      ],
      "metadata": {
        "colab": {
          "base_uri": "https://localhost:8080/"
        },
        "id": "fMNYJCFQRVUE",
        "outputId": "2a3748fe-818d-443c-8cca-d6c3984ab5c8"
      },
      "execution_count": 110,
      "outputs": [
        {
          "output_type": "execute_result",
          "data": {
            "text/plain": [
              "tensor(15.7793321609, grad_fn=<MeanBackward0>)"
            ]
          },
          "metadata": {},
          "execution_count": 110
        }
      ]
    },
    {
      "cell_type": "code",
      "source": [
        "import torch.optim as optim\n",
        "# import torch.optim.lr_scheduler as lr_scheduler"
      ],
      "metadata": {
        "id": "5hwEP5QcSA4n"
      },
      "execution_count": 111,
      "outputs": []
    },
    {
      "cell_type": "code",
      "source": [
        "lr = 1e-3\n",
        "num_epochs = 100000\n",
        "torch.set_printoptions(precision=10)\n",
        "loss_epoch = torch.ones(num_epochs)\n",
        "optimizer = optim.Adam(model1.parameters(), lr)\n",
        "# scheduler = lr_scheduler.LinearLR(optimizer, start_factor=1e-1, end_factor=1e-5, total_iters=100)\n",
        "for epoch in range(num_epochs):\n",
        "  optimizer.zero_grad()\n",
        "  loss=loss_fun(Y,X,model1)\n",
        "  loss.backward()\n",
        "  optimizer.step()\n",
        "  loss_epoch[epoch] = loss\n",
        "  # scheduler.step()\n",
        "  if (epoch % 1000==0):\n",
        "    print(\"At epoch {} the mean error is {}.\".format(epoch,loss.detach()))\n"
      ],
      "metadata": {
        "colab": {
          "base_uri": "https://localhost:8080/"
        },
        "id": "82-zpr63R7D-",
        "outputId": "6221f070-e527-47fe-fe07-be1d202f068b"
      },
      "execution_count": 120,
      "outputs": [
        {
          "output_type": "stream",
          "name": "stdout",
          "text": [
            "At epoch 0 the mean error is 9.052713394165039.\n",
            "At epoch 1000 the mean error is 9.05235767364502.\n",
            "At epoch 2000 the mean error is 9.052359580993652.\n",
            "At epoch 3000 the mean error is 9.052358627319336.\n",
            "At epoch 4000 the mean error is 9.052358627319336.\n",
            "At epoch 5000 the mean error is 9.052358627319336.\n",
            "At epoch 6000 the mean error is 9.052361488342285.\n",
            "At epoch 7000 the mean error is 9.052359580993652.\n",
            "At epoch 8000 the mean error is 9.05235767364502.\n",
            "At epoch 9000 the mean error is 9.05235767364502.\n",
            "At epoch 10000 the mean error is 9.05235767364502.\n",
            "At epoch 11000 the mean error is 9.052360534667969.\n",
            "At epoch 12000 the mean error is 9.052361488342285.\n",
            "At epoch 13000 the mean error is 9.05235767364502.\n",
            "At epoch 14000 the mean error is 9.052355766296387.\n",
            "At epoch 15000 the mean error is 9.052356719970703.\n",
            "At epoch 16000 the mean error is 9.052356719970703.\n",
            "At epoch 17000 the mean error is 9.05235767364502.\n",
            "At epoch 18000 the mean error is 9.052356719970703.\n",
            "At epoch 19000 the mean error is 9.052356719970703.\n",
            "At epoch 20000 the mean error is 9.052359580993652.\n",
            "At epoch 21000 the mean error is 9.052363395690918.\n",
            "At epoch 22000 the mean error is 9.052361488342285.\n",
            "At epoch 23000 the mean error is 9.052359580993652.\n",
            "At epoch 24000 the mean error is 9.052359580993652.\n",
            "At epoch 25000 the mean error is 9.052359580993652.\n",
            "At epoch 26000 the mean error is 9.05235767364502.\n",
            "At epoch 27000 the mean error is 9.052358627319336.\n",
            "At epoch 28000 the mean error is 9.052358627319336.\n",
            "At epoch 29000 the mean error is 9.052359580993652.\n",
            "At epoch 30000 the mean error is 9.052363395690918.\n",
            "At epoch 31000 the mean error is 9.052362442016602.\n",
            "At epoch 32000 the mean error is 9.052362442016602.\n",
            "At epoch 33000 the mean error is 9.052358627319336.\n",
            "At epoch 34000 the mean error is 9.05235767364502.\n",
            "At epoch 35000 the mean error is 9.052356719970703.\n",
            "At epoch 36000 the mean error is 9.05235767364502.\n",
            "At epoch 37000 the mean error is 9.052358627319336.\n",
            "At epoch 38000 the mean error is 9.052358627319336.\n",
            "At epoch 39000 the mean error is 9.05235767364502.\n",
            "At epoch 40000 the mean error is 9.052358627319336.\n",
            "At epoch 41000 the mean error is 9.05235767364502.\n",
            "At epoch 42000 the mean error is 9.052355766296387.\n",
            "At epoch 43000 the mean error is 9.052358627319336.\n",
            "At epoch 44000 the mean error is 9.052358627319336.\n",
            "At epoch 45000 the mean error is 9.05235767364502.\n",
            "At epoch 46000 the mean error is 9.052358627319336.\n",
            "At epoch 47000 the mean error is 9.052358627319336.\n",
            "At epoch 48000 the mean error is 9.052358627319336.\n",
            "At epoch 49000 the mean error is 9.052358627319336.\n",
            "At epoch 50000 the mean error is 9.052359580993652.\n",
            "At epoch 51000 the mean error is 9.052355766296387.\n",
            "At epoch 52000 the mean error is 9.05235767364502.\n",
            "At epoch 53000 the mean error is 9.052359580993652.\n",
            "At epoch 54000 the mean error is 9.052358627319336.\n",
            "At epoch 55000 the mean error is 9.052356719970703.\n",
            "At epoch 56000 the mean error is 9.05235767364502.\n",
            "At epoch 57000 the mean error is 9.052361488342285.\n",
            "At epoch 58000 the mean error is 9.052356719970703.\n",
            "At epoch 59000 the mean error is 9.052359580993652.\n",
            "At epoch 60000 the mean error is 9.052359580993652.\n",
            "At epoch 61000 the mean error is 9.052359580993652.\n",
            "At epoch 62000 the mean error is 9.05235767364502.\n",
            "At epoch 63000 the mean error is 9.05235767364502.\n",
            "At epoch 64000 the mean error is 9.052358627319336.\n",
            "At epoch 65000 the mean error is 9.05235767364502.\n",
            "At epoch 66000 the mean error is 9.05235767364502.\n",
            "At epoch 67000 the mean error is 9.052356719970703.\n",
            "At epoch 68000 the mean error is 9.052360534667969.\n",
            "At epoch 69000 the mean error is 9.052356719970703.\n",
            "At epoch 70000 the mean error is 9.052358627319336.\n",
            "At epoch 71000 the mean error is 9.05235767364502.\n",
            "At epoch 72000 the mean error is 9.052361488342285.\n",
            "At epoch 73000 the mean error is 9.052356719970703.\n",
            "At epoch 74000 the mean error is 9.052359580993652.\n",
            "At epoch 75000 the mean error is 9.052358627319336.\n",
            "At epoch 76000 the mean error is 9.052361488342285.\n",
            "At epoch 77000 the mean error is 9.052356719970703.\n",
            "At epoch 78000 the mean error is 9.052358627319336.\n",
            "At epoch 79000 the mean error is 9.052359580993652.\n",
            "At epoch 80000 the mean error is 9.052358627319336.\n",
            "At epoch 81000 the mean error is 9.05235767364502.\n",
            "At epoch 82000 the mean error is 9.052355766296387.\n",
            "At epoch 83000 the mean error is 9.052361488342285.\n",
            "At epoch 84000 the mean error is 9.052356719970703.\n",
            "At epoch 85000 the mean error is 9.052358627319336.\n",
            "At epoch 86000 the mean error is 9.052358627319336.\n",
            "At epoch 87000 the mean error is 9.052361488342285.\n",
            "At epoch 88000 the mean error is 9.052355766296387.\n",
            "At epoch 89000 the mean error is 9.05235767364502.\n",
            "At epoch 90000 the mean error is 9.052359580993652.\n",
            "At epoch 91000 the mean error is 9.052358627319336.\n",
            "At epoch 92000 the mean error is 9.05235767364502.\n",
            "At epoch 93000 the mean error is 9.052359580993652.\n",
            "At epoch 94000 the mean error is 9.052361488342285.\n",
            "At epoch 95000 the mean error is 9.052358627319336.\n",
            "At epoch 96000 the mean error is 9.052358627319336.\n",
            "At epoch 97000 the mean error is 9.052358627319336.\n",
            "At epoch 98000 the mean error is 9.052361488342285.\n",
            "At epoch 99000 the mean error is 9.05235767364502.\n"
          ]
        }
      ]
    },
    {
      "cell_type": "code",
      "source": [
        "Z = torch.normal(0., 1., size=(M,1))\n",
        "W = torch.exp(-X)+torch.exp(X)*torch.normal(0., 1., size=(M,1))\n",
        "torch.set_printoptions(precision=10)\n",
        "print(\"Test on new data: MSE = {}\".format(loss_fun(W,Z,model1)))"
      ],
      "metadata": {
        "colab": {
          "base_uri": "https://localhost:8080/"
        },
        "id": "5uaufRfESx4c",
        "outputId": "9f483310-133d-469b-bda0-dd81a6f8ef33"
      },
      "execution_count": 116,
      "outputs": [
        {
          "output_type": "stream",
          "name": "stdout",
          "text": [
            "Test on new data: MSE = 15.801701545715332\n"
          ]
        }
      ]
    },
    {
      "cell_type": "code",
      "source": [
        "import numpy as np\n",
        "import matplotlib.pyplot as plt\n",
        "n = np.linspace(0,num_epochs,num_epochs)\n",
        "m = loss_epoch.detach().numpy()\n",
        "plt.plot(n,m);\n"
      ],
      "metadata": {
        "colab": {
          "base_uri": "https://localhost:8080/",
          "height": 430
        },
        "id": "DwpbR1fLSrf_",
        "outputId": "456a3a6e-3fe2-4698-9727-31b765618df4"
      },
      "execution_count": 117,
      "outputs": [
        {
          "output_type": "display_data",
          "data": {
            "text/plain": [
              "<Figure size 640x480 with 1 Axes>"
            ],
            "image/png": "[encoded data removed]"
          },
          "metadata": {}
        }
      ]
    },
    {
      "cell_type": "code",
      "source": [
        "xx = torch.linspace(-3,3,600)\n",
        "yy = model1(xx.unsqueeze(1))\n",
        "plt.plot(xx.detach().numpy(),yy.detach().numpy());\n",
        "plt.plot(xx.detach().numpy(),np.exp(-xx.detach().numpy()));"
      ],
      "metadata": {
        "id": "-Ny17ZLuVeoX",
        "outputId": "ab77b393-a666-46fa-8f9c-49cd13c3f029",
        "colab": {
          "base_uri": "https://localhost:8080/",
          "height": 430
        }
      },
      "execution_count": 119,
      "outputs": [
        {
          "output_type": "display_data",
          "data": {
            "text/plain": [
              "<Figure size 640x480 with 1 Axes>"
            ],
            "image/png": "[encoded data removed]"
          },
          "metadata": {}
        }
      ]
    },
    {
      "cell_type": "markdown",
      "source": [
        "## 1.2. Choosing basis $\\phi_k$\n",
        "\n",
        "It is useful to choose the basis $\\phi_k$ such that $m_{k'k}=0$ when $k'\\neq k$. Then, the linear system above takes no time to solve: $a_k=b_k/m_{kk}$. Sometimes this is done by using orthogonal polynomials. However, we propose a simpler solution: choose the basis such that $\\phi_k(x)$ and $\\phi_{k'}(x)$ have disjoint support. For instance, they are indicator functions of hypercubes.\n",
        " More detains of this method can be found in the paper [Monte-Carlo valuation of American options: facts and new algorithms to improve existing methods](https://www.ceremade.dauphine.fr/~bouchard/pdf/BW10.pdf)."
      ],
      "metadata": {
        "id": "GvmlYke0-cG-"
      }
    },
    {
      "cell_type": "markdown",
      "source": [
        "## 1.3. Simulationg samples of $(X_t,\\xi)$\n",
        "Let $\\xi$ be Gaussian, e.g., increment of Brownian motion, we can choose any distribution for $X_t$ independent of $\\xi$."
      ],
      "metadata": {
        "id": "k2kPNML4_kY2"
      }
    },
    {
      "cell_type": "markdown",
      "source": [
        "# Step 2 DPP\n",
        "Start the backward scheme by feeding $C(t,x,u)$ and $g(x)$ into the optimization module and obtain $V(T-1,x)$ over the range of simulated values for $X_{T-1}$.\n",
        "\n",
        "Repeat the process by feeding $C(t,x,u)$ and $V(t+1,x)$ into the optimization module to obtain $V(t,x)$.\n",
        "\n",
        "It is important to make sure the simulated samples of $X^u_{t+1}$ are well inside the range in which estimation of $V(t+1,x)$ is rather accurate/"
      ],
      "metadata": {
        "id": "HlNWVIImAJGE"
      }
    },
    {
      "cell_type": "code",
      "execution_count": null,
      "metadata": {
        "id": "wu8NzX9QT_Rf"
      },
      "outputs": [],
      "source": []
    }
  ]
}