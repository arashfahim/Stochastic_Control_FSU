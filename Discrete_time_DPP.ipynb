{
  "nbformat": 4,
  "nbformat_minor": 0,
  "metadata": {
    "colab": {
      "provenance": [],
      "include_colab_link": true
    },
    "kernelspec": {
      "name": "python3",
      "display_name": "Python 3"
    },
    "language_info": {
      "name": "python"
    }
  },
  "cells": [
    {
      "cell_type": "markdown",
      "metadata": {
        "id": "view-in-github",
        "colab_type": "text"
      },
      "source": [
        "<a href=\"https://colab.research.google.com/github/arashfahim/Stochastic_Control_FSU/blob/ololade/Discrete_time_DPP.ipynb\" target=\"_parent\"><img src=\"https://colab.research.google.com/assets/colab-badge.svg\" alt=\"Open In Colab\"/></a>"
      ]
    },
    {
      "cell_type": "markdown",
      "source": [
        "The goal of this notebook is to implement a one-step dynamic programming principle, DPP, for a stochastic control problem.\n",
        "\n",
        "The stochastic control problem is given by\n",
        "\n",
        "$\\inf_{u_0,...u_{T-1}}\\mathbb{E}\\bigg[\\sum_{t=0}^{T-1}C(t,X^u_t,u_t)+g(X^u_T)\\bigg]$\n",
        "\n",
        "\n"
      ],
      "metadata": {
        "id": "Hq2eZ_d-UDNp"
      }
    },
    {
      "cell_type": "markdown",
      "source": [
        "The DPP is given by\n",
        "\n",
        "$\\begin{cases}\n",
        "V(t,x)=\\inf_{u\\in\\mathbb{R}^d}\\mathbb{E}[C(t,x,u)+V(t+1,X^u_{t+1})]\\\\\n",
        "V(T,x)=g(x)\n",
        "\\end{cases}$\n",
        "\n",
        "with $X^u_{t+1}=x+\\mu(t,x,u)+\\sigma(t,x,u)\\xi_{t+1}$"
      ],
      "metadata": {
        "id": "JP7f4T78Uqvg"
      }
    },
    {
      "cell_type": "markdown",
      "source": [
        "# Step 1. Creation of optimization module\n",
        "\n",
        "We need to solve the above one-step optimization problem.\n",
        "\n",
        "Input: $\\phi(x,u,\\xi)$ and $c(x,u)$\n",
        "\n",
        "Optimize: $\\inf_u\\mathbb{E}[c(x,u)+\\phi(x,u,\\xi)]$\n",
        "\n",
        "Output: $u^*(x)\\in\\textrm{argmin}\\mathbb{E}[c(x,u)+\\phi(x,u,\\xi)]$\n",
        "\n",
        "\n",
        "\n",
        "---\n",
        "\n",
        "It is important to make sure the input and output are functions and not just data points."
      ],
      "metadata": {
        "id": "nH3hSPxVVKX-"
      }
    },
    {
      "cell_type": "markdown",
      "source": [
        "## Step 1.1. Expected value\n",
        "\n",
        "To evaluate $\\mathbb{E}[c(t,x,u)+\\phi(x,\\xi)]$ in Step 1, we need to create a module that evaluate expected value using a set of samples of $\\xi$.\n",
        "Such module must evaluate the expected value a a function of $x$. To do this, we use the following two wellknown theorems about conditional expectation\n",
        "\n",
        "\n",
        "  1) If $X$ and $\\xi$ are independent, then $\\mathbb{E}[\\phi(X,\\xi)|X]= \\Phi(X)$, where $\\Phi(x)=\\mathbb{E}[\\phi(x,\\xi)]$.\n",
        "\n",
        "  2) $\\mathbb{E}[Y|X]=f(X)$, where $f(x)$ is the minimizer of $\\mathbb{E}[(Y-f(X))^2]$.\n",
        "\n",
        "\n",
        "One trick to approximate $\\mathbb{E}[Y|X]=f(X)$ is to take the minimum over a smaller class of fuctions, e.g., $f(x)=\\sum_{k=1}^Ka_k\\phi_k(x)$, for a suitable set of functions $\\phi_k$. To evluate approximate $f$, we use a joint (unconditional) sample of $(X,Y)$, $\\{(x_j,y_j):j=i,...,J\\}$ to write\n",
        "\n",
        "$\\inf_{a_1,...,a_K}\\sum_{j=1}^J \\big(y_j-\\sum_{k=1}^Ka_k\\phi_k(x_j)\\big)^2$\n",
        "\n",
        "This is a quadratic minimization problem which has a unique solution. To find the minimizer, we take take derivative wrt $a_{k'}$ and set it to zero to obtain a linear system.\n",
        "\n",
        "$\\sum_{j=1}^J \\phi_{k'}(x_j)\\big(y_j-\\sum_{k=1}^Ka_k\\phi_k(x_j)\\big)$\n",
        "\n",
        "$\\sum_{k=1}^Ka_k\\sum_{j=1}^J\\phi_k(x_j)\\phi_{k'}(x_j) = \\sum_{j=1}^J \\phi_{k'}(x_j)y_j$\n",
        "\n",
        "or $Ma=b$ with\n",
        "\n",
        "$a=(a_1,...,a_K)^\\top$, $M=[m_{k'k}]$ with $m_{k'k}=\\sum_{j=1}^J\\phi_{k'}(x_j)\\phi_{k}(x_j)$, and $b=(b_1,...,b_K)^\\top$ with $b_k=\\sum_{j=1}^J\\phi_k(x_j)y_j$.\n"
      ],
      "metadata": {
        "id": "SFst5aYlrH6e"
      }
    },
    {
      "cell_type": "markdown",
      "source": [
        "### Example using neural networks\n",
        "\n",
        "Let's write a module that takes samples of $(X,Y)$ and returns $\\mathbb{E}[Y|X=x]$\n",
        "\n",
        "Example: $X$ standard normal and $Y=e^{-X}+e^X\\xi$ where $\\xi$ is standard normal independent of $X$."
      ],
      "metadata": {
        "id": "QYB5z0mjOTxj"
      }
    },
    {
      "cell_type": "code",
      "source": [
        "import torch\n",
        "import torch.nn as nn\n",
        "M =1000\n",
        "X = torch.normal(0., 1., size=(1, M))\n",
        "Y = torch.exp(-X)+torch.exp(X)*torch.normal(0., 1., size=(1, M))"
      ],
      "metadata": {
        "id": "-Obh3NNKOTMI"
      },
      "execution_count": null,
      "outputs": []
    },
    {
      "cell_type": "code",
      "source": [
        "model1= torch.nn.Sequential(\n",
        "    torch.nn.Linear(1, 8),\n",
        "    torch.nn.ReLU(),\n",
        "    # torch.nn.Linear(8, 8),\n",
        "    # torch.nn.ReLU(),\n",
        "    torch.nn.Linear(8,1)\n",
        ")"
      ],
      "metadata": {
        "id": "9XL9XmfFOFSB"
      },
      "execution_count": null,
      "outputs": []
    },
    {
      "cell_type": "code",
      "source": [
        "def loss_fun(y,x,model):\n",
        "  return torch.pow(model(x[:,1])-y[:,1],2)\n"
      ],
      "metadata": {
        "id": "GT4QGv1xRECt"
      },
      "execution_count": null,
      "outputs": []
    },
    {
      "cell_type": "code",
      "source": [
        "loss_fun(Y,X,model1)"
      ],
      "metadata": {
        "colab": {
          "base_uri": "https://localhost:8080/"
        },
        "id": "fMNYJCFQRVUE",
        "outputId": "ce141a73-a6fc-4279-be95-06c5301c4bde"
      },
      "execution_count": null,
      "outputs": [
        {
          "output_type": "execute_result",
          "data": {
            "text/plain": [
              "tensor([7.8375673294], grad_fn=<PowBackward0>)"
            ]
          },
          "metadata": {},
          "execution_count": 47
        }
      ]
    },
    {
      "cell_type": "code",
      "source": [
        "import torch.optim as optim\n",
        "# import torch.optim.lr_scheduler as lr_scheduler"
      ],
      "metadata": {
        "id": "5hwEP5QcSA4n"
      },
      "execution_count": null,
      "outputs": []
    },
    {
      "cell_type": "code",
      "source": [
        "lr = 1e-2\n",
        "num_epochs = 100\n",
        "torch.set_printoptions(precision=10)\n",
        "loss_epoch = torch.ones(num_epochs)\n",
        "optimizer = optim.Adam(model1.parameters(), lr)\n",
        "# scheduler = lr_scheduler.LinearLR(optimizer, start_factor=1e-1, end_factor=1e-5, total_iters=100)\n",
        "for epoch in range(num_epochs):\n",
        "  optimizer.zero_grad()\n",
        "  loss=loss_fun(Y,X,model1)\n",
        "  loss.backward()\n",
        "  optimizer.step()\n",
        "  loss_epoch[epoch] = loss\n",
        "  # scheduler.step()\n",
        "  if (epoch % 10==0):\n",
        "    print(\"At epoch {} the mean error is {}.\".format(epoch,loss.detach()))\n"
      ],
      "metadata": {
        "colab": {
          "base_uri": "https://localhost:8080/"
        },
        "id": "82-zpr63R7D-",
        "outputId": "afde5dbf-10cf-4714-f9af-0b0caa08440c"
      },
      "execution_count": null,
      "outputs": [
        {
          "output_type": "stream",
          "name": "stdout",
          "text": [
            "At epoch 0 the mean error is tensor([7.8375673294]).\n",
            "At epoch 10 the mean error is tensor([7.0598483086]).\n",
            "At epoch 20 the mean error is tensor([6.5331020355]).\n",
            "At epoch 30 the mean error is tensor([5.9692292213]).\n",
            "At epoch 40 the mean error is tensor([5.2547464371]).\n",
            "At epoch 50 the mean error is tensor([4.3050026894]).\n",
            "At epoch 60 the mean error is tensor([3.1701812744]).\n",
            "At epoch 70 the mean error is tensor([2.0032978058]).\n",
            "At epoch 80 the mean error is tensor([1.0054543018]).\n",
            "At epoch 90 the mean error is tensor([0.3446018994]).\n"
          ]
        }
      ]
    },
    {
      "cell_type": "code",
      "source": [
        "Z = torch.normal(0., 1., size=(1, M))\n",
        "W = torch.exp(-X)+torch.exp(X)*torch.normal(0., 1., size=(1, M))\n",
        "torch.set_printoptions(precision=10)\n",
        "print(\"Test on new data: MSE = {}\".format(loss_fun(W,Z,model1)))"
      ],
      "metadata": {
        "colab": {
          "base_uri": "https://localhost:8080/"
        },
        "id": "5uaufRfESx4c",
        "outputId": "f2e000e6-fcae-48e3-b174-f803313b5d0b"
      },
      "execution_count": null,
      "outputs": [
        {
          "output_type": "stream",
          "name": "stdout",
          "text": [
            "Test on new data: MSE = tensor([0.0323040076], grad_fn=<PowBackward0>)\n"
          ]
        }
      ]
    },
    {
      "cell_type": "code",
      "source": [
        "import numpy as np\n",
        "import matplotlib.pyplot as plt\n",
        "n = np.linspace(0,num_epochs,num_epochs)\n",
        "m = loss_epoch.detach().numpy()\n",
        "plt.plot(n,m);\n"
      ],
      "metadata": {
        "colab": {
          "base_uri": "https://localhost:8080/",
          "height": 430
        },
        "id": "DwpbR1fLSrf_",
        "outputId": "a1a223d2-0e14-4ce2-a414-15fbee658731"
      },
      "execution_count": null,
      "outputs": [
        {
          "output_type": "display_data",
          "data": {
            "text/plain": [
              "<Figure size 640x480 with 1 Axes>"
            ],
            "image/png": "[encoded data removed]"
          },
          "metadata": {}
        }
      ]
    },
    {
      "cell_type": "code",
      "source": [
        "xx = torch.linspace(-3,3,600)\n",
        "yy = model1(xx.unsqueeze(1))\n",
        "plt.plot(xx.detach().numpy(),yy.detach().numpy());\n"
      ],
      "metadata": {
        "id": "-Ny17ZLuVeoX",
        "outputId": "29e46eb1-2086-4c4c-f263-704140e37f03",
        "colab": {
          "base_uri": "https://localhost:8080/",
          "height": 430
        }
      },
      "execution_count": null,
      "outputs": [
        {
          "output_type": "display_data",
          "data": {
            "text/plain": [
              "<Figure size 640x480 with 1 Axes>"
            ],
            "image/png": "[encoded data removed]"
          },
          "metadata": {}
        }
      ]
    },
    {
      "cell_type": "markdown",
      "source": [
        "## 1.2. Choosing basis $\\phi_k$\n",
        "\n",
        "It is useful to choose the basis $\\phi_k$ such that $m_{k'k}=0$ when $k'\\neq k$. Then, the linear system above takes no time to solve: $a_k=b_k/m_{kk}$. Sometimes this is done by using orthogonal polynomials. However, we propose a simpler solution: choose the basis such that $\\phi_k(x)$ and $\\phi_{k'}(x)$ have disjoint support. For instance, they are indicator functions of hypercubes.\n",
        " More detains of this method can be found in the paper [Monte-Carlo valuation of American options: facts and new algorithms to improve existing methods](https://www.ceremade.dauphine.fr/~bouchard/pdf/BW10.pdf)."
      ],
      "metadata": {
        "id": "GvmlYke0-cG-"
      }
    },
    {
      "cell_type": "markdown",
      "source": [
        "## 1.3. Simulationg samples of $(X_t,\\xi)$\n",
        "Let $\\xi$ be Gaussian, e.g., increment of Brownian motion, we can choose any distribution for $X_t$ independent of $\\xi$."
      ],
      "metadata": {
        "id": "k2kPNML4_kY2"
      }
    },
    {
      "cell_type": "markdown",
      "source": [
        "# Step 2 DPP\n",
        "Start the backward scheme by feeding $C(t,x,u)$ and $g(x)$ into the optimization module and obtain $V(T-1,x)$ over the range of simulated values for $X_{T-1}$.\n",
        "\n",
        "Repeat the process by feeding $C(t,x,u)$ and $V(t+1,x)$ into the optimization module to obtain $V(t,x)$.\n",
        "\n",
        "It is important to make sure the simulated samples of $X^u_{t+1}$ are well inside the range in which estimation of $V(t+1,x)$ is rather accurate/"
      ],
      "metadata": {
        "id": "HlNWVIImAJGE"
      }
    },
    {
      "cell_type": "code",
      "execution_count": null,
      "metadata": {
        "id": "wu8NzX9QT_Rf"
      },
      "outputs": [],
      "source": []
    }
  ]
}