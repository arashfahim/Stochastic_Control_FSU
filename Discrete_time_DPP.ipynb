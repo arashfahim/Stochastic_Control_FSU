{
  "nbformat": 4,
  "nbformat_minor": 0,
  "metadata": {
    "colab": {
      "provenance": [],
      "toc_visible": true,
      "authorship_tag": "ABX9TyNnfjtcjqKU66uKIwSO9/0z",
      "include_colab_link": true
    },
    "kernelspec": {
      "name": "python3",
      "display_name": "Python 3"
    },
    "language_info": {
      "name": "python"
    }
  },
  "cells": [
    {
      "cell_type": "markdown",
      "metadata": {
        "id": "view-in-github",
        "colab_type": "text"
      },
      "source": [
        "<a href=\"https://colab.research.google.com/github/arashfahim/Stochastic_Control_FSU/blob/main/Discrete_time_DPP.ipynb\" target=\"_parent\"><img src=\"https://colab.research.google.com/assets/colab-badge.svg\" alt=\"Open In Colab\"/></a>"
      ]
    },
    {
      "cell_type": "code",
      "source": [
        "!git clone https://github.com/arashfahim/Stochastic_Control_FSU"
      ],
      "metadata": {
        "colab": {
          "base_uri": "https://localhost:8080/"
        },
        "id": "uYpsD_vHtIpa",
        "outputId": "9385da11-ad77-4c3c-aba1-ef1410ab8e7b"
      },
      "execution_count": 1,
      "outputs": [
        {
          "output_type": "stream",
          "name": "stdout",
          "text": [
            "fatal: destination path 'Stochastic_Control_FSU' already exists and is not an empty directory.\n"
          ]
        }
      ]
    },
    {
      "cell_type": "code",
      "source": [
        "! ls -l"
      ],
      "metadata": {
        "colab": {
          "base_uri": "https://localhost:8080/"
        },
        "id": "VcK8F3qLthk9",
        "outputId": "e894e9fa-9f74-4ebe-92fa-27852e86fc45"
      },
      "execution_count": 2,
      "outputs": [
        {
          "output_type": "stream",
          "name": "stdout",
          "text": [
            "total 12\n",
            "drwx------ 6 root root 4096 Oct  5 15:43 drive\n",
            "drwxr-xr-x 1 root root 4096 Oct  3 13:25 sample_data\n",
            "drwxr-xr-x 4 root root 4096 Oct  5 15:43 Stochastic_Control_FSU\n"
          ]
        }
      ]
    },
    {
      "cell_type": "code",
      "source": [
        "path = r'/content/Stochastic_Control_FSU/arashfahim/Stochastic_Control_FSU/'"
      ],
      "metadata": {
        "id": "gDKJJU8n5db3"
      },
      "execution_count": 3,
      "outputs": []
    },
    {
      "cell_type": "code",
      "source": [
        "# mount google drive\n",
        "from google.colab import drive\n",
        "drive.mount('/content/drive')"
      ],
      "metadata": {
        "colab": {
          "base_uri": "https://localhost:8080/"
        },
        "id": "ix4wczxVvVD8",
        "outputId": "75dc59b5-80cd-4979-83d8-a34a5274d4dc"
      },
      "execution_count": 4,
      "outputs": [
        {
          "output_type": "stream",
          "name": "stdout",
          "text": [
            "Drive already mounted at /content/drive; to attempt to forcibly remount, call drive.mount(\"/content/drive\", force_remount=True).\n"
          ]
        }
      ]
    },
    {
      "cell_type": "markdown",
      "source": [
        "The goal of this notebook is to implement a one-step dynamic programming principle, DPP, for a stochastic control problem.\n",
        "\n",
        "The stochastic control problem is given by\n",
        "\n",
        "$\\inf_{u_0,...u_{T-1}}\\mathbb{E}\\bigg[\\sum_{t=0}^{T-1}C(t,X^u_t,u_t)+g(X^u_T)\\bigg]$\n",
        "\n",
        "\n"
      ],
      "metadata": {
        "id": "Hq2eZ_d-UDNp"
      }
    },
    {
      "cell_type": "markdown",
      "source": [
        "The DPP is given by\n",
        "\n",
        "$\\begin{cases}\n",
        "V(t,x)=\\inf_{u\\in\\mathbb{R}^d}\\mathbb{E}[C(t,x,u)+V(t+1,X^u_{t+1})]\\\\\n",
        "V(T,x)=g(x)\n",
        "\\end{cases}$\n",
        "\n",
        "with $X^u_{t+1}=x+\\mu(t,x,u)+\\sigma(t,x,u)\\xi_{t+1}$"
      ],
      "metadata": {
        "id": "JP7f4T78Uqvg"
      }
    },
    {
      "cell_type": "markdown",
      "source": [
        "# Step 1. Creation of optimization module\n",
        "\n",
        "We need to solve the above one-step optimization problem.\n",
        "\n",
        "Input: $\\phi(x,u,\\xi)$ and $c(x,u)$\n",
        "\n",
        "Optimize: $\\inf_u\\mathbb{E}[c(x,u)+\\phi(x,u,\\xi)]$\n",
        "\n",
        "Output: $u^*(x)\\in\\textrm{argmin}\\mathbb{E}[c(x,u)+\\phi(x,u,\\xi)]$\n",
        "\n",
        "\n",
        "\n",
        "---\n",
        "\n",
        "It is important to make sure the input and output are functions and not just data points."
      ],
      "metadata": {
        "id": "nH3hSPxVVKX-"
      }
    },
    {
      "cell_type": "markdown",
      "source": [
        "## Step 1.1. Expected value\n",
        "\n",
        "To evaluate $\\mathbb{E}[c(t,x,u)+\\phi(x,\\xi)]$ in Step 1, we need to create a module that evaluate expected value using a set of samples of $\\xi$.\n",
        "Such module must evaluate the expected value a a function of $x$. To do this, we use the following two wellknown theorems about conditional expectation\n",
        "\n",
        "\n",
        "  1) If $X$ and $\\xi$ are independent, then $\\mathbb{E}[\\phi(X,\\xi)|X]= \\Phi(X)$, where $\\Phi(x)=\\mathbb{E}[\\phi(x,\\xi)]$.\n",
        "\n",
        "  2) $\\mathbb{E}[Y|X]=f(X)$, where $f(x)$ is the minimizer of $\\mathbb{E}[(Y-f(X))^2]$.\n",
        "\n"
      ],
      "metadata": {
        "id": "SFst5aYlrH6e"
      }
    },
    {
      "cell_type": "markdown",
      "source": [
        "## Neural network approximation of conditional expectation\n",
        "\n",
        "$\\inf_{\\theta}\\mathbb{E}[(Y-\\phi(X;\\theta))^2]$\n",
        "\n",
        "and $\\phi(x;\\theta)$ is a neural network with parameter $\\theta$."
      ],
      "metadata": {
        "id": "Qws0AvGLMa9s"
      }
    },
    {
      "cell_type": "code",
      "source": [
        "import torch\n",
        "import torch.nn as nn\n",
        "import pandas as pd\n",
        "import numpy as np\n",
        "import matplotlib.pyplot as plt\n",
        "import time\n",
        "from time import strftime, localtime\n",
        "import torch.optim as optim #import optimizer\n",
        "# import torch.optim.lr_scheduler as lr_scheduler\n",
        "\n",
        "M =10000# number of samples\n",
        "X = torch.normal(0., 1., size=(M,1))# samples for X~N(0,1)\n",
        "Y = torch.exp(-X)+torch.exp(X)*torch.normal(0., 1., size=(M,1))# samples for Y=e^{-x}+e^{x}N(0,1)\n",
        "# X.shape\n",
        "T=1# terminal horizon\n",
        "N = 10 # of time steps\n",
        "Dt= torch.Tensor([T/N])# time step size"
      ],
      "metadata": {
        "id": "-Obh3NNKOTMI"
      },
      "execution_count": 5,
      "outputs": []
    },
    {
      "cell_type": "code",
      "source": [
        "def loss_fun(y,x,model):# y :samples for $Y$, x: samples for x, model: nn\n",
        "  return torch.mean(torch.pow(model(x)-y,2))\n"
      ],
      "metadata": {
        "id": "GT4QGv1xRECt"
      },
      "execution_count": 6,
      "outputs": []
    },
    {
      "cell_type": "code",
      "source": [
        "# create time stamp to save the result\n",
        "stamp = strftime('%Y-%m-%d %H:%M:%S', localtime())\n",
        "print(str(stamp))"
      ],
      "metadata": {
        "id": "5hwEP5QcSA4n",
        "colab": {
          "base_uri": "https://localhost:8080/"
        },
        "outputId": "6f73b746-f363-4403-a94d-9723aa130971"
      },
      "execution_count": 7,
      "outputs": [
        {
          "output_type": "stream",
          "name": "stdout",
          "text": [
            "2023-10-05 16:35:07\n"
          ]
        }
      ]
    },
    {
      "cell_type": "markdown",
      "source": [
        "## Function for conditional expectation"
      ],
      "metadata": {
        "id": "lpZBXu0JjVsM"
      }
    },
    {
      "cell_type": "markdown",
      "source": [
        "## Test examples using neural networks\n",
        "\n",
        "Let's write a module that takes samples of $(X,Y)$ and returns $\\mathbb{E}[Y|X=x]$\n",
        "\n",
        "Example: $X$ standard normal and $Y=e^{-X}+e^X\\xi$ where $\\xi$ is standard normal independent of $X$. We know $\\mathbb{E}[Y|X]=e^{-X}$."
      ],
      "metadata": {
        "id": "QYB5z0mjOTxj"
      }
    },
    {
      "cell_type": "code",
      "source": [
        "#hyperparameters for learning\n",
        "lr = 1e-3\n",
        "num_epochs = 10000\n",
        "torch.set_printoptions(precision=10)\n",
        "loss_epoch = torch.zeros(num_epochs)"
      ],
      "metadata": {
        "id": "wzxOkxtppJyK"
      },
      "execution_count": 8,
      "outputs": []
    },
    {
      "cell_type": "code",
      "source": [
        "'''conditional expectation of X[1,:] given X[0,:] in for of trained model'''\n",
        "def cond_expect(data, model):\n",
        "  optimizer = optim.Adam(model.parameters(), lr)\n",
        "  L_ = torch.Tensor([-2.0])\n",
        "  loss = torch.Tensor([2.0])\n",
        "  epoch=0\n",
        "  while (torch.abs(L_-loss)>1e-4) & (epoch <= num_epochs):# epoch in range(num_epochs):\n",
        "    optimizer.zero_grad()\n",
        "    loss=loss_fun(data[:,1].unsqueeze(1),data[:,0].unsqueeze(1),model)# Y=data[:,1], X=data[:,0]\n",
        "    loss.backward()\n",
        "    optimizer.step()\n",
        "    loss_epoch[epoch] = loss\n",
        "    if epoch>0:\n",
        "      L_ = loss_epoch[epoch-1]\n",
        "    if (epoch % 100==0):\n",
        "      print(\"At epoch {} the mean error is {}.\".format(epoch,loss.detach()))\n",
        "    epoch += 1\n"
      ],
      "metadata": {
        "id": "dokXzWTCjXh1"
      },
      "execution_count": 9,
      "outputs": []
    },
    {
      "cell_type": "code",
      "source": [],
      "metadata": {
        "id": "7vG3XfSrXMJV"
      },
      "execution_count": 9,
      "outputs": []
    },
    {
      "cell_type": "code",
      "source": [
        "# increase neurons\n",
        "model3= torch.nn.Sequential(\n",
        "    torch.nn.Linear(1, 16),\n",
        "    torch.nn.Tanh(),\n",
        "    # torch.nn.Sigmoid(),\n",
        "    # torch.nn.ReLU(),\n",
        "    torch.nn.Linear(16,1)\n",
        ")"
      ],
      "metadata": {
        "id": "fX4l4l3_pD45"
      },
      "execution_count": 10,
      "outputs": []
    },
    {
      "cell_type": "code",
      "source": [
        "data = torch.cat((X,Y),dim=1)\n",
        "cond_expect(data,model3)\n"
      ],
      "metadata": {
        "id": "XCrDFmdDrNFA",
        "colab": {
          "base_uri": "https://localhost:8080/"
        },
        "outputId": "e1011064-c20d-4863-c796-9f44cdfbabbb"
      },
      "execution_count": 11,
      "outputs": [
        {
          "output_type": "stream",
          "name": "stdout",
          "text": [
            "At epoch 0 the mean error is 15.336676597595215.\n",
            "At epoch 100 the mean error is 12.344743728637695.\n",
            "At epoch 200 the mean error is 10.662067413330078.\n",
            "At epoch 300 the mean error is 9.853545188903809.\n",
            "At epoch 400 the mean error is 9.528162956237793.\n",
            "At epoch 500 the mean error is 9.31396484375.\n",
            "At epoch 600 the mean error is 9.122847557067871.\n",
            "At epoch 700 the mean error is 8.953423500061035.\n",
            "At epoch 800 the mean error is 8.805848121643066.\n",
            "At epoch 900 the mean error is 8.675003051757812.\n",
            "At epoch 1000 the mean error is 8.556619644165039.\n",
            "At epoch 1100 the mean error is 8.448797225952148.\n",
            "At epoch 1200 the mean error is 8.350635528564453.\n",
            "At epoch 1300 the mean error is 8.261423110961914.\n",
            "At epoch 1400 the mean error is 8.18040657043457.\n",
            "At epoch 1500 the mean error is 8.106834411621094.\n",
            "At epoch 1600 the mean error is 8.04000186920166.\n",
            "At epoch 1700 the mean error is 7.979273319244385.\n",
            "At epoch 1800 the mean error is 7.9240922927856445.\n",
            "At epoch 1900 the mean error is 7.873959541320801.\n",
            "At epoch 2000 the mean error is 7.828430652618408.\n",
            "At epoch 2100 the mean error is 7.787107944488525.\n",
            "At epoch 2200 the mean error is 7.7496185302734375.\n",
            "At epoch 2300 the mean error is 7.71561861038208.\n",
            "At epoch 2400 the mean error is 7.684786796569824.\n",
            "At epoch 2500 the mean error is 7.656821250915527.\n",
            "At epoch 2600 the mean error is 7.631437301635742.\n",
            "At epoch 2700 the mean error is 7.608367919921875.\n",
            "At epoch 2800 the mean error is 7.587347030639648.\n",
            "At epoch 2900 the mean error is 7.568111896514893.\n",
            "At epoch 3000 the mean error is 7.550476551055908.\n",
            "At epoch 3100 the mean error is 7.534407615661621.\n",
            "At epoch 3200 the mean error is 7.5197906494140625.\n",
            "At epoch 3300 the mean error is 7.506392002105713.\n",
            "At epoch 3400 the mean error is 7.494017124176025.\n",
            "At epoch 3500 the mean error is 7.482516288757324.\n",
            "At epoch 3600 the mean error is 7.471778869628906.\n"
          ]
        }
      ]
    },
    {
      "cell_type": "code",
      "source": [
        "Z = torch.normal(0., 1., size=(M,1))\n",
        "W = torch.exp(-Z)+torch.exp(Z)*torch.normal(0., 1., size=(M,1))\n",
        "torch.set_printoptions(precision=10)\n",
        "print(\"Test on new data: MSE = {}\".format(loss_fun(W,Z,model3)))"
      ],
      "metadata": {
        "colab": {
          "base_uri": "https://localhost:8080/"
        },
        "outputId": "925ce4e5-d32f-4868-e596-dd2a1186107c",
        "id": "8ZJDvbgZsUyl"
      },
      "execution_count": 12,
      "outputs": [
        {
          "output_type": "stream",
          "name": "stdout",
          "text": [
            "Test on new data: MSE = 7.929079055786133\n"
          ]
        }
      ]
    },
    {
      "cell_type": "code",
      "source": [
        "xx = torch.linspace(-2,2,600)\n",
        "yy = model3(xx.unsqueeze(1))\n",
        "plt.plot(xx.detach().numpy(),yy.detach().numpy(), label='approximation');\n",
        "plt.plot(xx.detach().numpy(),np.exp(-xx.detach().numpy()), label='analytical');\n",
        "plt.title(\"Comparison with analytical solution\");\n",
        "plt.legend();\n",
        "plt.savefig(path+'test for model3'+stamp+'.png');"
      ],
      "metadata": {
        "outputId": "fa53ed1f-b675-4238-a9ba-8f804994a593",
        "colab": {
          "base_uri": "https://localhost:8080/",
          "height": 452
        },
        "id": "jckqYPR3sUyt"
      },
      "execution_count": 13,
      "outputs": [
        {
          "output_type": "display_data",
          "data": {
            "text/plain": [
              "<Figure size 640x480 with 1 Axes>"
            ],
            "image/png": "[encoded data removed]"
          },
          "metadata": {}
        }
      ]
    },
    {
      "cell_type": "markdown",
      "source": [
        "### **Evaluation of conditional expectation using deep learning is cool and all, but it is slow and causes some issue while training the neural net for the control. Therefore, we have to change our approach.**"
      ],
      "metadata": {
        "id": "134ven_1W9DT"
      }
    },
    {
      "cell_type": "code",
      "source": [
        "for p in model3.parameters():\n",
        "  print(p)"
      ],
      "metadata": {
        "id": "CFJabAfVgYaB",
        "outputId": "829a939c-d410-4053-9e82-dae6c6f6177b",
        "colab": {
          "base_uri": "https://localhost:8080/"
        }
      },
      "execution_count": 14,
      "outputs": [
        {
          "output_type": "stream",
          "name": "stdout",
          "text": [
            "Parameter containing:\n",
            "tensor([[-0.1546293646],\n",
            "        [ 0.1490636617],\n",
            "        [-0.5021253824],\n",
            "        [ 0.9150400162],\n",
            "        [-1.2170548439],\n",
            "        [-0.3223017156],\n",
            "        [-0.1709139943],\n",
            "        [-0.9393363595],\n",
            "        [-0.2347092032],\n",
            "        [ 0.1610317975],\n",
            "        [-0.5384715796],\n",
            "        [-1.2715508938],\n",
            "        [ 1.2641223669],\n",
            "        [ 0.2382261604],\n",
            "        [ 0.5947070122],\n",
            "        [ 0.3616893888]], requires_grad=True)\n",
            "Parameter containing:\n",
            "tensor([ 1.0435404778, -0.9360399246, -0.5097420216,  1.7098342180,\n",
            "        -2.6207520962,  1.6858911514,  1.2851265669, -1.7896200418,\n",
            "         1.9684469700, -1.1938725710, -0.5830636621, -2.7753205299,\n",
            "         2.7514727116, -1.6223698854, -2.2624328136, -1.9033619165],\n",
            "       requires_grad=True)\n",
            "Parameter containing:\n",
            "tensor([[ 0.5286253095, -0.4892247319,  0.3390231729, -0.7165252566,\n",
            "          1.3117138147,  0.6992036700,  1.0286507607,  0.7504827380,\n",
            "          1.3187060356, -0.7535660863,  0.6420481801,  1.6660552025,\n",
            "         -2.0746636391, -1.0139969587, -0.8730278611, -1.0801597834]],\n",
            "       requires_grad=True)\n",
            "Parameter containing:\n",
            "tensor([0.9364034534], requires_grad=True)\n"
          ]
        }
      ]
    },
    {
      "cell_type": "markdown",
      "source": [
        "## Write one-step DPP as\n",
        "\n",
        "$V(t,x)=\\inf_{u(x)}C(t,x,u(x))+\\mathbb{E}^{B}[V(t+1,X^u_{t+1})]$\n",
        "\n",
        "Formulate the loss function as\n",
        "\n",
        "$\\inf_{\\theta}\\mathbb{E}^{X_t,B}\\bigg[C(t,X_t,u(X_t;\\theta))+V\\Big(t+1,X_{t}+\\mu\\big(t,X_{t},u(X_t;\\theta)\\big)\\Delta t+\\sigma\\big(t,X_{t},u(X_t;\\theta)\\big)\\Delta B_{t+1})\\Big)\\bigg]$\n",
        "\n",
        "The empirical loss is given base on a sample of $X_t$, $\\{x^j\\}$ and $N(0,1)$, $\\{\\xi^j\\}$, independently.\n",
        "\n",
        "$\\inf_{\\theta}\\sum_{j}\\bigg[C(t,x^j,u(x^j;\\theta))+V\\Big(t+1,x^j+\\mu\\big(t,x^j,u(x^j;\\theta)\\big)\\Delta t+\\sigma\\big(t,x^j,u(x^j;\\theta)\\big)\\sqrt{\\Delta t} \\xi^j)\\Big)\\bigg]$\n"
      ],
      "metadata": {
        "id": "-1DH7J8nXyM0"
      }
    },
    {
      "cell_type": "markdown",
      "source": [
        "# Multistep DPP"
      ],
      "metadata": {
        "id": "VHQ24nbeAHCT"
      }
    },
    {
      "cell_type": "markdown",
      "source": [
        "## At $t=T-\\Delta t$"
      ],
      "metadata": {
        "id": "JOE-raThcMBx"
      }
    },
    {
      "cell_type": "code",
      "source": [
        "# increase neurons\n",
        "modelu= torch.nn.Sequential(\n",
        "    torch.nn.Linear(1, 16),\n",
        "    torch.nn.Tanh(),\n",
        "    # torch.nn.Linear(8, 8),\n",
        "    # torch.nn.ReLU(),\n",
        "    torch.nn.Linear(16,1)\n",
        ")"
      ],
      "metadata": {
        "id": "YP5VUo5dCTj4"
      },
      "execution_count": 15,
      "outputs": []
    },
    {
      "cell_type": "code",
      "source": [
        "class cost:\n",
        "  def __init__(self,flag):\n",
        "    self.flag = flag\n",
        "  def cost(self,x,*args):\n",
        "    if self.flag == 'T':\n",
        "      return torch.Tensor([0.5])*torch.pow(x,2)-x\n",
        "    else:\n",
        "      u=args[0]\n",
        "      return torch.Tensor([0.5])*torch.pow(x,2) + torch.Tensor([0.5])*torch.pow(u,2)\n",
        "# goal: to add the term E[V(t+1, X^u_{t+1})|X_t=x] inside the cost function for t<T."
      ],
      "metadata": {
        "id": "0hYvYODPFJVX"
      },
      "execution_count": 16,
      "outputs": []
    },
    {
      "cell_type": "code",
      "source": [
        "g = cost('T')\n",
        "c = cost('')"
      ],
      "metadata": {
        "id": "sfHup0mjGR00"
      },
      "execution_count": 17,
      "outputs": []
    },
    {
      "cell_type": "code",
      "source": [
        "x = torch.Tensor([1.0])\n",
        "c.cost(x,modelu(x)),g.cost(x)"
      ],
      "metadata": {
        "colab": {
          "base_uri": "https://localhost:8080/"
        },
        "id": "Yvr9uc0-GU5p",
        "outputId": "29027762-4b21-41b4-b632-725160b1abfe"
      },
      "execution_count": 18,
      "outputs": [
        {
          "output_type": "execute_result",
          "data": {
            "text/plain": [
              "(tensor([0.5032377243], grad_fn=<AddBackward0>), tensor([-0.5000000000]))"
            ]
          },
          "metadata": {},
          "execution_count": 18
        }
      ]
    },
    {
      "cell_type": "code",
      "source": [
        "xi = torch.normal(0., 1., size=(M,1))\n",
        "def update(x,u):\n",
        "  return x + (-x+u)*Dt + torch.sqrt(Dt)*xi"
      ],
      "metadata": {
        "id": "rPVaRQBdUVOc"
      },
      "execution_count": 19,
      "outputs": []
    },
    {
      "cell_type": "markdown",
      "source": [
        "### Last step with $g(X^u_{T})$"
      ],
      "metadata": {
        "id": "TX5YRzbmTsL5"
      }
    },
    {
      "cell_type": "code",
      "source": [
        "X = torch.normal(0., 1., size=(M,1))# samples for X~N(0,1)"
      ],
      "metadata": {
        "id": "FMR6HO4YTrq1"
      },
      "execution_count": 20,
      "outputs": []
    },
    {
      "cell_type": "code",
      "source": [
        "# # increase neurons\n",
        "# modelexcost= torch.nn.Sequential(\n",
        "#     torch.nn.Linear(1, 16),\n",
        "#     torch.nn.Tanh(),\n",
        "#     # torch.nn.Linear(8, 8),\n",
        "#     # torch.nn.ReLU(),\n",
        "#     torch.nn.Linear(16,1)\n",
        "# )"
      ],
      "metadata": {
        "id": "gE3MJNw3WQNM"
      },
      "execution_count": 21,
      "outputs": []
    },
    {
      "cell_type": "code",
      "source": [
        "# for p in modelu.parameters():\n",
        "#   p.requires_grad = False\n",
        "# Y = g.cost(update(X,modelu(X)))\n",
        "# data = torch.cat((X,Y),dim=1)\n",
        "# cond_expect(data,modelexcost)\n"
      ],
      "metadata": {
        "id": "VR3UUsvQVsAR"
      },
      "execution_count": 22,
      "outputs": []
    },
    {
      "cell_type": "code",
      "source": [
        "c.cost(X,modelu(X))+ g.cost(update(X,modelu(X)))"
      ],
      "metadata": {
        "colab": {
          "base_uri": "https://localhost:8080/"
        },
        "id": "1b3-8T-ZiQCX",
        "outputId": "24b6d257-8051-4c64-c5b5-baed7a6cc85c"
      },
      "execution_count": 23,
      "outputs": [
        {
          "output_type": "execute_result",
          "data": {
            "text/plain": [
              "tensor([[ 0.4779792428],\n",
              "        [ 0.2514907122],\n",
              "        [-0.0925353095],\n",
              "        ...,\n",
              "        [ 1.4910607338],\n",
              "        [ 3.8331618309],\n",
              "        [ 0.1452041268]], grad_fn=<AddBackward0>)"
            ]
          },
          "metadata": {},
          "execution_count": 23
        }
      ]
    },
    {
      "cell_type": "code",
      "source": [
        "num_epochs = 100\n",
        "optimizer1 = optim.Adam(modelu.parameters(), lr)\n",
        "L_ = torch.Tensor([-2.0])\n",
        "loss = torch.Tensor([2.0])\n",
        "epoch=0\n",
        "while (torch.abs(L_-loss)>1e-6) & (epoch <= num_epochs):# epoch in range(num_epochs):\n",
        "  optimizer1.zero_grad()\n",
        "  loss=torch.mean(c.cost(X,modelu(X))+ g.cost(update(X,modelu(X))))#\n",
        "  loss.backward()\n",
        "  optimizer1.step()\n",
        "  loss_epoch[epoch] = loss\n",
        "  if epoch>0:\n",
        "    L_ = loss_epoch[epoch-1]\n",
        "  if (epoch % 10==0):\n",
        "    print(\"At epoch {} the mean error is {}.\".format(epoch,loss.detach()))\n",
        "  epoch += 1"
      ],
      "metadata": {
        "colab": {
          "base_uri": "https://localhost:8080/"
        },
        "id": "mW-VGLvHXPH-",
        "outputId": "5c3329a6-16df-4596-800e-6fd04ea658ce"
      },
      "execution_count": 24,
      "outputs": [
        {
          "output_type": "stream",
          "name": "stdout",
          "text": [
            "At epoch 0 the mean error is 0.9670324325561523.\n",
            "At epoch 10 the mean error is 0.9517632722854614.\n",
            "At epoch 20 the mean error is 0.9453213810920715.\n",
            "At epoch 30 the mean error is 0.9443367123603821.\n",
            "At epoch 40 the mean error is 0.9445427656173706.\n",
            "At epoch 50 the mean error is 0.9444179534912109.\n",
            "At epoch 60 the mean error is 0.9443082809448242.\n"
          ]
        }
      ]
    },
    {
      "cell_type": "code",
      "source": [
        "Z = torch.normal(0., 1., size=(M,1))\n",
        "torch.set_printoptions(precision=10)\n",
        "print(\"Test on new data: MSE = {}\".format(torch.mean(c.cost(Z,modelu(Z))+ g.cost(update(Z,modelu(Z))))))"
      ],
      "metadata": {
        "id": "4CdZEZCVrWSm",
        "outputId": "38d628bf-f5ec-48f8-e632-eac96c8b818c",
        "colab": {
          "base_uri": "https://localhost:8080/"
        }
      },
      "execution_count": 25,
      "outputs": [
        {
          "output_type": "stream",
          "name": "stdout",
          "text": [
            "Test on new data: MSE = 0.9626597762107849\n"
          ]
        }
      ]
    },
    {
      "cell_type": "code",
      "source": [
        "def test_update(x,u):\n",
        "  return x + (-x+u)*Dt + torch.sqrt(Dt)*torch.normal(0., 1., size=(M,1))\n",
        "def V(x, u):\n",
        "  return c.cost(x,u)+torch.mean(g.cost(test_update(x,u)))#c.cost(x,u)+torch.mean(g.cost(test_update(x,u))),"
      ],
      "metadata": {
        "id": "TdWBPRM6XxP8"
      },
      "execution_count": 26,
      "outputs": []
    },
    {
      "cell_type": "code",
      "source": [
        "x = torch.Tensor([1.0])\n",
        "V(x,modelu(x))"
      ],
      "metadata": {
        "id": "gQVu00sgsq0i",
        "outputId": "95a24ac7-b695-4db5-8010-cbdbd39a78c6",
        "colab": {
          "base_uri": "https://localhost:8080/"
        }
      },
      "execution_count": 37,
      "outputs": [
        {
          "output_type": "execute_result",
          "data": {
            "text/plain": [
              "tensor([0.0547849238], grad_fn=<AddBackward0>)"
            ]
          },
          "metadata": {},
          "execution_count": 37
        }
      ]
    },
    {
      "cell_type": "code",
      "source": [
        "xx = torch.linspace(0.0,1.0,100)\n",
        "yy = []\n",
        "for x in xx:\n",
        "  x = x.unsqueeze(0)\n",
        "  yy.append(V(x.unsqueeze(1),modelu(x.unsqueeze(1))).squeeze(1).squeeze(0).detach().numpy())\n",
        "# yy\n",
        "plt.plot(xx.detach().numpy(),yy);\n",
        "plt.title(\"'Value function at T-Delta t'\");\n",
        "# plt.legend();\n",
        "plt.savefig(path+'test for value'+stamp+'.png');"
      ],
      "metadata": {
        "id": "HxEnAPb3lg9r",
        "outputId": "dd15b27b-a5ad-4668-f5d0-983562b89fe4",
        "colab": {
          "base_uri": "https://localhost:8080/",
          "height": 452
        }
      },
      "execution_count": 48,
      "outputs": [
        {
          "output_type": "display_data",
          "data": {
            "text/plain": [
              "<Figure size 640x480 with 1 Axes>"
            ],
            "image/png": "[encoded data removed]"
          },
          "metadata": {}
        }
      ]
    },
    {
      "cell_type": "markdown",
      "source": [],
      "metadata": {
        "id": "r-m9HGAwlgSg"
      }
    },
    {
      "cell_type": "markdown",
      "source": [
        "# Scratch coding"
      ],
      "metadata": {
        "id": "Xy1Vh3uFWk_I"
      }
    },
    {
      "cell_type": "markdown",
      "source": [
        "##########################################"
      ],
      "metadata": {
        "id": "wjwFszuSWlOd"
      }
    },
    {
      "cell_type": "code",
      "source": [
        "#hyperparameters for learning\n",
        "lr = 1e-3\n",
        "num_epochs = 1000\n",
        "torch.set_printoptions(precision=10)\n",
        "loss_epoch = torch.zeros(num_epochs)\n",
        "optimizer = optim.Adam(modelu.parameters(), lr)\n",
        "# scheduler = lr_scheduler.LinearLR(optimizer, start_factor=1e-1, end_factor=1e-5, total_iters=100)"
      ],
      "metadata": {
        "id": "hWKPMOQX09v3"
      },
      "execution_count": null,
      "outputs": []
    },
    {
      "cell_type": "code",
      "source": [
        "'''conditional expectation of X[1,:] given X[0,:] in for of trained model'''\n",
        "def oneStep(data, model):\n",
        "  optimizer = optim.Adam(model.parameters(), lr)\n",
        "  L_ = torch.Tensor([-2.0])\n",
        "  loss = torch.Tensor([2.0])\n",
        "  epoch=0\n",
        "  while (torch.abs(L_-loss)>1e-4) & (epoch <= num_epochs):# epoch in range(num_epochs):\n",
        "    optimizer.zero_grad()\n",
        "    loss=loss_fun(data[:,1].unsqueeze(1),data[:,0].unsqueeze(1),model)# Y=data[:,1], X=data[:,0]\n",
        "    loss.backward()\n",
        "    optimizer.step()\n",
        "    loss_epoch[epoch] = loss\n",
        "    if epoch>0:\n",
        "      L_ = loss_epoch[epoch-1]\n",
        "    if (epoch % 100==0):\n",
        "      print(\"At epoch {} the mean error is {}.\".format(epoch,loss.detach()))\n",
        "    epoch += 1\n"
      ],
      "metadata": {
        "id": "82-zpr63R7D-"
      },
      "execution_count": null,
      "outputs": []
    },
    {
      "cell_type": "code",
      "source": [
        "#saving the model\n",
        "torch.save(model1, path+\"model1_\"+str(stamp)+\".pt\")"
      ],
      "metadata": {
        "id": "ZPyyBKSL4ucg"
      },
      "execution_count": null,
      "outputs": []
    },
    {
      "cell_type": "code",
      "source": [
        "# write loss into a daraframe\n",
        "df_loss = pd.DataFrame([range(num_epochs), loss_epoch.detach().numpy()]).T\n",
        "df_loss.columns = ['Epoch','Loss']\n",
        "df_loss['Epoch'] = df_loss['Epoch'].astype('int64')\n",
        "df_loss.to_csv(path+\"run_model1_\"+str(stamp)+\".csv\",sep=\",\")"
      ],
      "metadata": {
        "id": "mwGcoKU9xYFS"
      },
      "execution_count": null,
      "outputs": []
    },
    {
      "cell_type": "code",
      "source": [
        "# testing\n",
        "Z = torch.normal(0., 1., size=(M,1))\n",
        "W = torch.exp(-Z)+torch.exp(Z)*torch.normal(0., 1., size=(M,1))\n",
        "torch.set_printoptions(precision=10)\n",
        "print(\"Test on new data: MSE = {}\".format(loss_fun(W,Z,model1)))"
      ],
      "metadata": {
        "id": "5uaufRfESx4c"
      },
      "execution_count": null,
      "outputs": []
    },
    {
      "cell_type": "code",
      "source": [
        "n = np.linspace(0,num_epochs,num_epochs)\n",
        "m = loss_epoch.detach().numpy()\n",
        "plt.plot(n,m);\n",
        "plt.title(\"Loss vs number of pochs in model1\");\n",
        "plt.savefig(path+'loss_vs_epoch_model1'+stamp+'.png');"
      ],
      "metadata": {
        "id": "DwpbR1fLSrf_"
      },
      "execution_count": null,
      "outputs": []
    },
    {
      "cell_type": "code",
      "source": [
        "xx = torch.linspace(-3,3,600)\n",
        "yy = model1(xx.unsqueeze(1))\n",
        "plt.plot(xx.detach().numpy(),yy.detach().numpy(), label='approximation');\n",
        "plt.plot(xx.detach().numpy(),np.exp(-xx.detach().numpy()), label='analytical');\n",
        "plt.title(\"Comparison with analytical solution\");\n",
        "plt.legend();\n",
        "plt.savefig(path+'test for model1'+stamp+'.png');"
      ],
      "metadata": {
        "id": "-Ny17ZLuVeoX"
      },
      "execution_count": null,
      "outputs": []
    },
    {
      "cell_type": "code",
      "source": [
        "def deriv(model,x):\n",
        "  x_ = x.clone().detach()\n",
        "  x_.requires_grad_(True)\n",
        "  u=model(x_)\n",
        "  return torch.autograd.grad(outputs=u, inputs=x_,grad_outputs=torch.ones_like(u),\n",
        "                           allow_unused=True,retain_graph=True,create_graph=True)[0]"
      ],
      "metadata": {
        "id": "f-aR_atMc4Wh"
      },
      "execution_count": null,
      "outputs": []
    },
    {
      "cell_type": "code",
      "source": [
        "xx = torch.linspace(-3,3,600)\n",
        "yy = deriv(model1,xx.unsqueeze(1))\n",
        "plt.plot(xx.detach().numpy(),yy.detach().numpy(), label='approximation');\n",
        "plt.plot(xx.detach().numpy(),-np.exp(-xx.detach().numpy()), label='analytical');\n",
        "plt.title(\"Comparison with analytical solution\");\n",
        "plt.legend();\n",
        "plt.savefig(path+'test for derivative  of model1'+stamp+'.png');"
      ],
      "metadata": {
        "id": "6JDRyWL4Y8fj"
      },
      "execution_count": null,
      "outputs": []
    },
    {
      "cell_type": "code",
      "source": [
        "# increase neurons\n",
        "model2= torch.nn.Sequential(\n",
        "    torch.nn.Linear(1, 16),\n",
        "    torch.nn.ReLU(),\n",
        "    # torch.nn.Linear(8, 8),\n",
        "    # torch.nn.ReLU(),\n",
        "    torch.nn.Linear(16,1)\n",
        ")"
      ],
      "metadata": {
        "id": "ckp-RKO29VnQ"
      },
      "execution_count": null,
      "outputs": []
    },
    {
      "cell_type": "code",
      "source": [
        "# create time stamp to save the result\n",
        "stamp = strftime('%Y-%m-%d %H:%M:%S', localtime())\n",
        "print(str(stamp))"
      ],
      "metadata": {
        "id": "HwczH1P79VnS"
      },
      "execution_count": null,
      "outputs": []
    },
    {
      "cell_type": "code",
      "source": [
        "#hyperparameters for learning\n",
        "optimizer = optim.Adam(model2.parameters(), lr)\n",
        "# scheduler = lr_scheduler.LinearLR(optimizer, start_factor=1e-1, end_factor=1e-5, total_iters=100)"
      ],
      "metadata": {
        "id": "viscjvNz9VnS"
      },
      "execution_count": null,
      "outputs": []
    },
    {
      "cell_type": "code",
      "source": [
        "for epoch in range(num_epochs):\n",
        "  optimizer.zero_grad()\n",
        "  loss=loss_fun(Y,X,model2)\n",
        "  loss.backward()\n",
        "  optimizer.step()\n",
        "  loss_epoch[epoch] = loss\n",
        "  # scheduler.step()\n",
        "  if (epoch % 1000==-1):\n",
        "    print(\"At epoch {} the mean error is {}.\".format(epoch,loss.detach()))\n"
      ],
      "metadata": {
        "id": "QqNzuZ1L9VnS"
      },
      "execution_count": null,
      "outputs": []
    },
    {
      "cell_type": "code",
      "source": [
        "#saving the model\n",
        "torch.save(model2, path+\"model2_\"+str(stamp)+\".pt\")"
      ],
      "metadata": {
        "id": "mGW5EHoZ9VnS"
      },
      "execution_count": null,
      "outputs": []
    },
    {
      "cell_type": "code",
      "source": [
        "# write loss into a daraframe\n",
        "df_loss = pd.DataFrame([range(num_epochs), loss_epoch.detach().numpy()]).T\n",
        "df_loss.columns = ['Epoch','Loss']\n",
        "df_loss['Epoch'] = df_loss['Epoch'].astype('int64')\n",
        "df_loss.to_csv(path+\"run_model2_\"+str(stamp)+\".csv\",sep=\",\")"
      ],
      "metadata": {
        "id": "VQLZeJjR9VnS"
      },
      "execution_count": null,
      "outputs": []
    },
    {
      "cell_type": "code",
      "source": [
        "Z = torch.normal(0., 1., size=(M,1))\n",
        "W = torch.exp(-Z)+torch.exp(Z)*torch.normal(0., 1., size=(M,1))\n",
        "torch.set_printoptions(precision=10)\n",
        "print(\"Test on new data: MSE = {}\".format(loss_fun(W,Z,model1)))"
      ],
      "metadata": {
        "id": "EAEUUahn9VnT"
      },
      "execution_count": null,
      "outputs": []
    },
    {
      "cell_type": "code",
      "source": [
        "import numpy as np\n",
        "import matplotlib.pyplot as plt\n",
        "n = np.linspace(0,num_epochs,num_epochs)\n",
        "m = loss_epoch.detach().numpy()\n",
        "plt.plot(n,m);\n",
        "plt.title(\"Loss vs number of epochs in model2\");\n",
        "plt.savefig(path+'loss_vs_epoch_model2'+stamp+'.png');"
      ],
      "metadata": {
        "id": "LyCJVN2Y9VnT"
      },
      "execution_count": null,
      "outputs": []
    },
    {
      "cell_type": "code",
      "source": [
        "xx = torch.linspace(-2,2,600)\n",
        "yy = model2(xx.unsqueeze(1))\n",
        "plt.plot(xx.detach().numpy(),yy.detach().numpy(), label='approximation');\n",
        "plt.plot(xx.detach().numpy(),np.exp(-xx.detach().numpy()), label='analytical');\n",
        "plt.title(\"Comparison with analytical solution\");\n",
        "plt.legend();\n",
        "plt.savefig(path+'test for model2'+stamp+'.png');"
      ],
      "metadata": {
        "id": "PW6OLwmt9VnT"
      },
      "execution_count": null,
      "outputs": []
    },
    {
      "cell_type": "code",
      "source": [
        "xx = torch.linspace(-3,3,600)\n",
        "yy = deriv(model2,xx.unsqueeze(1))\n",
        "plt.plot(xx.detach().numpy(),yy.detach().numpy(), label='approximation');\n",
        "plt.plot(xx.detach().numpy(),-np.exp(-xx.detach().numpy()), label='analytical');\n",
        "plt.title(\"Comparison with analytical solution\");\n",
        "plt.legend();\n",
        "plt.savefig(path+'test for derivative  of model2'+stamp+'.png');"
      ],
      "metadata": {
        "id": "3mxJvleweFr-"
      },
      "execution_count": null,
      "outputs": []
    },
    {
      "cell_type": "markdown",
      "source": [
        "## 1.2 Projectin method\n",
        "\n",
        "\n",
        "One trick to approximate $\\mathbb{E}[Y|X]=f(X)$ is to take the minimum over a smaller class of fuctions, e.g., $f(x)=\\sum_{k=1}^Ka_k\\phi_k(x)$, for a suitable set of functions $\\phi_k$. To evluate approximate $f$, we use a joint (unconditional) sample of $(X,Y)$, $\\{(x_j,y_j):j=i,...,J\\}$ to write\n",
        "\n",
        "$\\inf_{a_1,...,a_K}\\sum_{j=1}^J \\big(y_j-\\sum_{k=1}^Ka_k\\phi_k(x_j)\\big)^2$\n",
        "\n",
        "This is a quadratic minimization problem which has a unique solution. To find the minimizer, we take take derivative wrt $a_{k'}$ and set it to zero to obtain a linear system.\n",
        "\n",
        "$\\sum_{j=1}^J \\phi_{k'}(x_j)\\big(y_j-\\sum_{k=1}^Ka_k\\phi_k(x_j)\\big)=0$\n",
        "\n",
        "$\\sum_{k=1}^Ka_k\\sum_{j=1}^J\\phi_k(x_j)\\phi_{k'}(x_j) = \\sum_{j=1}^J \\phi_{k'}(x_j)y_j$\n",
        "\n",
        "or $Ma=b$ with\n",
        "\n",
        "$a=(a_1,...,a_K)^\\top$, $M=[m_{k'k}]$ with $m_{k'k}=\\sum_{j=1}^J\\phi_{k'}(x_j)\\phi_{k}(x_j)$, and $b=(b_1,...,b_K)^\\top$ with $b_k=\\sum_{j=1}^J\\phi_k(x_j)y_j$."
      ],
      "metadata": {
        "id": "053tEF-z6dyD"
      }
    },
    {
      "cell_type": "markdown",
      "source": [
        "## 1.3. Choosing basis $\\phi_k$\n",
        "\n",
        "It is useful to choose the basis $\\phi_k$ such that $m_{k'k}=0$ when $k'\\neq k$. Then, the linear system above takes no time to solve: $a_k=b_k/m_{kk}$. Sometimes this is done by using orthogonal polynomials. However, we propose a simpler solution: choose the basis such that $\\phi_k(x)$ and $\\phi_{k'}(x)$ have disjoint support. For instance, they are indicator functions of hypercubes.\n",
        " More detains of this method can be found in the paper [Monte-Carlo valuation of American options: facts and new algorithms to improve existing methods](https://www.ceremade.dauphine.fr/~bouchard/pdf/BW10.pdf)."
      ],
      "metadata": {
        "id": "GvmlYke0-cG-"
      }
    },
    {
      "cell_type": "markdown",
      "source": [
        "## 1.3. Simulationg samples of $(X_t,\\xi)$\n",
        "Let $\\xi$ be Gaussian, e.g., increment of Brownian motion, we can choose any distribution for $X_t$ independent of $\\xi$."
      ],
      "metadata": {
        "id": "k2kPNML4_kY2"
      }
    },
    {
      "cell_type": "markdown",
      "source": [
        "# Step 2 DPP\n",
        "Start the backward scheme by feeding $C(t,x,u)$ and $g(x)$ into the optimization module and obtain $V(T-1,x)$ over the range of simulated values for $X_{T-1}$.\n",
        "\n",
        "Repeat the process by feeding $C(t,x,u)$ and $V(t+1,x)$ into the optimization module to obtain $V(t,x)$.\n",
        "\n",
        "It is important to make sure the simulated samples of $X^u_{t+1}$ are well inside the range in which estimation of $V(t+1,x)$ is rather accurate/"
      ],
      "metadata": {
        "id": "HlNWVIImAJGE"
      }
    }
  ]
}