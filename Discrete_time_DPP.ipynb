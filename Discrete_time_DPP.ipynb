{
  "nbformat": 4,
  "nbformat_minor": 0,
  "metadata": {
    "colab": {
      "provenance": [],
      "toc_visible": true,
      "authorship_tag": "ABX9TyPq845nQoxEbssM3yIshV0e",
      "include_colab_link": true
    },
    "kernelspec": {
      "name": "python3",
      "display_name": "Python 3"
    },
    "language_info": {
      "name": "python"
    }
  },
  "cells": [
    {
      "cell_type": "markdown",
      "metadata": {
        "id": "view-in-github",
        "colab_type": "text"
      },
      "source": [
        "<a href=\"https://colab.research.google.com/github/arashfahim/Stochastic_Control_FSU/blob/main/Discrete_time_DPP.ipynb\" target=\"_parent\"><img src=\"https://colab.research.google.com/assets/colab-badge.svg\" alt=\"Open In Colab\"/></a>"
      ]
    },
    {
      "cell_type": "code",
      "source": [
        "!git clone https://github.com/arashfahim/Stochastic_Control_FSU"
      ],
      "metadata": {
        "colab": {
          "base_uri": "https://localhost:8080/"
        },
        "id": "uYpsD_vHtIpa",
        "outputId": "aaad3781-7acd-494e-e5cc-e069e1a225dd"
      },
      "execution_count": 55,
      "outputs": [
        {
          "output_type": "stream",
          "name": "stdout",
          "text": [
            "fatal: destination path 'Stochastic_Control_FSU' already exists and is not an empty directory.\n"
          ]
        }
      ]
    },
    {
      "cell_type": "code",
      "source": [
        "! ls -l"
      ],
      "metadata": {
        "colab": {
          "base_uri": "https://localhost:8080/"
        },
        "id": "VcK8F3qLthk9",
        "outputId": "47460692-d5f8-4e06-f27c-1f214d35e573"
      },
      "execution_count": 56,
      "outputs": [
        {
          "output_type": "stream",
          "name": "stdout",
          "text": [
            "total 12\n",
            "drwx------ 6 root root 4096 Nov  7 15:48 drive\n",
            "drwxr-xr-x 1 root root 4096 Nov  3 18:00 sample_data\n",
            "drwxr-xr-x 4 root root 4096 Nov  7 15:47 Stochastic_Control_FSU\n"
          ]
        }
      ]
    },
    {
      "cell_type": "code",
      "source": [
        "path = r'/content/Stochastic_Control_FSU/arashfahim/Stochastic_Control_FSU/'"
      ],
      "metadata": {
        "id": "gDKJJU8n5db3"
      },
      "execution_count": 57,
      "outputs": []
    },
    {
      "cell_type": "code",
      "source": [
        "# mount google drive\n",
        "from google.colab import drive\n",
        "drive.mount('/content/drive')"
      ],
      "metadata": {
        "colab": {
          "base_uri": "https://localhost:8080/"
        },
        "id": "ix4wczxVvVD8",
        "outputId": "d1246ffc-7e76-4179-bea9-3023a9963c34"
      },
      "execution_count": 58,
      "outputs": [
        {
          "output_type": "stream",
          "name": "stdout",
          "text": [
            "Drive already mounted at /content/drive; to attempt to forcibly remount, call drive.mount(\"/content/drive\", force_remount=True).\n"
          ]
        }
      ]
    },
    {
      "cell_type": "markdown",
      "source": [
        "The goal of this notebook is to implement a one-step dynamic programming principle, DPP, for a stochastic control problem.\n",
        "\n",
        "The stochastic control problem is given by\n",
        "\n",
        "$\\inf_{u_0,...u_{T-1}}\\mathbb{E}\\bigg[\\sum_{t=0}^{T-1}C(t,X^u_t,u_t)+g(X^u_T)\\bigg]$\n",
        "\n",
        "\n"
      ],
      "metadata": {
        "id": "Hq2eZ_d-UDNp"
      }
    },
    {
      "cell_type": "markdown",
      "source": [
        "The DPP is given by\n",
        "\n",
        "$\\begin{cases}\n",
        "V(t,x)=\\inf_{u\\in\\mathbb{R}^d}\\mathbb{E}[C(t,x,u)+V(t+1,X^u_{t+1})]\\\\\n",
        "V(T,x)=g(x)\n",
        "\\end{cases}$\n",
        "\n",
        "with $X^u_{t+1}=x+\\mu(t,x,u)+\\sigma(t,x,u)\\xi_{t+1}$"
      ],
      "metadata": {
        "id": "JP7f4T78Uqvg"
      }
    },
    {
      "cell_type": "code",
      "source": [
        "import torch\n",
        "import torch.nn as nn\n",
        "import pandas as pd\n",
        "import numpy as np\n",
        "import matplotlib.pyplot as plt\n",
        "import time\n",
        "from time import strftime, localtime\n",
        "import torch.optim as optim #import optimizer\n",
        "# import torch.optim.lr_scheduler as lr_scheduler\n",
        "\n",
        "M =10000# number of samples\n",
        "X = torch.normal(0., 1., size=(M,1))# samples for X~N(0,1)\n",
        "Y = torch.exp(-X)+torch.exp(X)*torch.normal(0., 1., size=(M,1))# samples for Y=e^{-x}+e^{x}N(0,1)\n",
        "# X.shape\n",
        "T=1# terminal horizon\n",
        "N = 10 # of time steps\n",
        "Dt= torch.Tensor([T/N])# time step size"
      ],
      "metadata": {
        "id": "-Obh3NNKOTMI"
      },
      "execution_count": 59,
      "outputs": []
    },
    {
      "cell_type": "code",
      "source": [
        "# create time stamp to save the result\n",
        "stamp = strftime('%Y-%m-%d %H:%M:%S', localtime())\n",
        "print(str(stamp))"
      ],
      "metadata": {
        "id": "5hwEP5QcSA4n",
        "colab": {
          "base_uri": "https://localhost:8080/"
        },
        "outputId": "893cd81b-9cdd-4e24-b32e-6152b4a24669"
      },
      "execution_count": 60,
      "outputs": [
        {
          "output_type": "stream",
          "name": "stdout",
          "text": [
            "2023-11-07 16:23:34\n"
          ]
        }
      ]
    },
    {
      "cell_type": "code",
      "source": [
        "# for p in model3.parameters():\n",
        "#   print(p)"
      ],
      "metadata": {
        "id": "CFJabAfVgYaB"
      },
      "execution_count": 61,
      "outputs": []
    },
    {
      "cell_type": "markdown",
      "source": [
        "## Write one-step DPP as\n",
        "\n",
        "$V(t,x)=\\inf_{u(x)}C(t,x,u(x))+\\mathbb{E}^{B}[V(t+1,X^u_{t+1})]$\n",
        "\n",
        "Formulate the loss function as\n",
        "\n",
        "$\\inf_{\\theta}\\mathbb{E}^{X_t,B}\\bigg[C(t,X_t,u(X_t;\\theta))+V\\Big(t+1,X_{t}+\\mu\\big(t,X_{t},u(X_t;\\theta)\\big)\\Delta t+\\sigma\\big(t,X_{t},u(X_t;\\theta)\\big)\\Delta B_{t+1})\\Big)\\bigg]$\n",
        "\n",
        "The empirical loss is given base on a sample of $X_t$, $\\{x^j\\}$ and $N(0,1)$, $\\{\\xi^j\\}$, independently.\n",
        "\n",
        "$\\inf_{\\theta}\\sum_{j}\\bigg[C(t,x^j,u(x^j;\\theta))+V\\Big(t+1,x^j+\\mu\\big(t,x^j,u(x^j;\\theta)\\big)\\Delta t+\\sigma\\big(t,x^j,u(x^j;\\theta)\\big)\\sqrt{\\Delta t} \\xi^j)\\Big)\\bigg]$\n"
      ],
      "metadata": {
        "id": "-1DH7J8nXyM0"
      }
    },
    {
      "cell_type": "markdown",
      "source": [],
      "metadata": {
        "id": "eOKSe69Nlot4"
      }
    },
    {
      "cell_type": "markdown",
      "source": [
        "## Creation of optimization module\n",
        "\n",
        "We need to solve the above one-step optimization problem.\n",
        "\n",
        "Input: $\\phi(x,u,\\xi)$ and $c(x,u)$\n",
        "\n",
        "Optimize: $\\inf_u\\mathbb{E}[c(x,u)+\\phi(x,u,\\xi)]$\n",
        "\n",
        "Output: $u^*(x)\\in\\textrm{argmin}\\mathbb{E}[c(x,u)+\\phi(x,u,\\xi)]$\n",
        "\n",
        "\n",
        "\n",
        "---\n",
        "\n",
        "It is important to make sure the input and output are functions and not just data points."
      ],
      "metadata": {
        "id": "nH3hSPxVVKX-"
      }
    },
    {
      "cell_type": "markdown",
      "source": [
        "# Multistep DPP"
      ],
      "metadata": {
        "id": "VHQ24nbeAHCT"
      }
    },
    {
      "cell_type": "markdown",
      "source": [
        "## At $t=T-\\Delta t$"
      ],
      "metadata": {
        "id": "JOE-raThcMBx"
      }
    },
    {
      "cell_type": "code",
      "source": [
        "# increase neurons\n",
        "modelu= torch.nn.Sequential(\n",
        "    torch.nn.Linear(1, 16),\n",
        "    torch.nn.Tanh(),\n",
        "    # torch.nn.Linear(8, 8),\n",
        "    # torch.nn.ReLU(),\n",
        "    torch.nn.Linear(16,1)\n",
        ")"
      ],
      "metadata": {
        "id": "YP5VUo5dCTj4"
      },
      "execution_count": 62,
      "outputs": []
    },
    {
      "cell_type": "code",
      "source": [
        "class cost:\n",
        "  def __init__(self,flag):\n",
        "    self.flag = flag\n",
        "  def cost(self,x,*args):\n",
        "    if self.flag == 'T':\n",
        "      return torch.Tensor([0.5])*torch.pow(x,2)-x\n",
        "    else:\n",
        "      u=args[0]\n",
        "      return torch.Tensor([0.5])*torch.pow(x,2) + torch.Tensor([0.5])*torch.pow(u,2)\n",
        "# goal: to add the term E[V(t+1, X^u_{t+1})|X_t=x] inside the cost function for t<T."
      ],
      "metadata": {
        "id": "0hYvYODPFJVX"
      },
      "execution_count": 63,
      "outputs": []
    },
    {
      "cell_type": "code",
      "source": [
        "g_term = cost('T')\n",
        "c = cost('')"
      ],
      "metadata": {
        "id": "sfHup0mjGR00"
      },
      "execution_count": 64,
      "outputs": []
    },
    {
      "cell_type": "code",
      "source": [
        "x = torch.Tensor([1.0])\n",
        "c.cost(x,modelu(x)),g_term.cost(x)"
      ],
      "metadata": {
        "colab": {
          "base_uri": "https://localhost:8080/"
        },
        "id": "Yvr9uc0-GU5p",
        "outputId": "15467d50-07ac-4016-87f6-680569da49fc"
      },
      "execution_count": 65,
      "outputs": [
        {
          "output_type": "execute_result",
          "data": {
            "text/plain": [
              "(tensor([0.5291], grad_fn=<AddBackward0>), tensor([-0.5000]))"
            ]
          },
          "metadata": {},
          "execution_count": 65
        }
      ]
    },
    {
      "cell_type": "markdown",
      "source": [
        "### Last step with $g(X^u_{T})$"
      ],
      "metadata": {
        "id": "TX5YRzbmTsL5"
      }
    },
    {
      "cell_type": "code",
      "source": [
        "X = torch.normal(0., 1., size=(M,1))# samples for X~N(0,1)"
      ],
      "metadata": {
        "id": "FMR6HO4YTrq1"
      },
      "execution_count": 66,
      "outputs": []
    },
    {
      "cell_type": "code",
      "source": [
        "# # increase neurons\n",
        "# modelexcost= torch.nn.Sequential(\n",
        "#     torch.nn.Linear(1, 16),\n",
        "#     torch.nn.Tanh(),\n",
        "#     # torch.nn.Linear(8, 8),\n",
        "#     # torch.nn.ReLU(),\n",
        "#     torch.nn.Linear(16,1)\n",
        "# )"
      ],
      "metadata": {
        "id": "gE3MJNw3WQNM"
      },
      "execution_count": 67,
      "outputs": []
    },
    {
      "cell_type": "code",
      "source": [
        "# for p in modelu.parameters():\n",
        "#   p.requires_grad = False\n",
        "# Y = g.cost(update(X,modelu(X)))\n",
        "# data = torch.cat((X,Y),dim=1)\n",
        "# cond_expect(data,modelexcost)\n"
      ],
      "metadata": {
        "id": "VR3UUsvQVsAR"
      },
      "execution_count": 68,
      "outputs": []
    },
    {
      "cell_type": "code",
      "source": [
        "xi = torch.normal(0., 1., size=(M,1))#must be defined outside update because it is going to be used in the learning and we want to avoid generating samples at each epoch\n",
        "def update(x,u):\n",
        "  return x + (-x+u)*Dt + torch.sqrt(Dt)*xi"
      ],
      "metadata": {
        "id": "rPVaRQBdUVOc"
      },
      "execution_count": 69,
      "outputs": []
    },
    {
      "cell_type": "code",
      "source": [
        "c.cost(X,modelu(X))+ g_term.cost(update(X,modelu(X)))"
      ],
      "metadata": {
        "colab": {
          "base_uri": "https://localhost:8080/"
        },
        "id": "1b3-8T-ZiQCX",
        "outputId": "1b0d5394-ce36-439f-e949-b40b80f7077f"
      },
      "execution_count": 70,
      "outputs": [
        {
          "output_type": "execute_result",
          "data": {
            "text/plain": [
              "tensor([[-0.1183],\n",
              "        [ 0.6024],\n",
              "        [ 0.9855],\n",
              "        ...,\n",
              "        [ 0.1912],\n",
              "        [ 1.2226],\n",
              "        [-0.1155]], grad_fn=<AddBackward0>)"
            ]
          },
          "metadata": {},
          "execution_count": 70
        }
      ]
    },
    {
      "cell_type": "code",
      "source": [
        "lr = 1e-3\n",
        "num_epochs = 100\n",
        "optimizer1 = optim.Adam(modelu.parameters(), lr)\n",
        "L_ = torch.Tensor([-2.0])\n",
        "loss = torch.Tensor([2.0])\n",
        "loss_epoch = []\n",
        "epoch=0\n",
        "while (torch.abs(L_-loss)>1e-6) & (epoch <= num_epochs):# epoch in range(num_epochs):\n",
        "  optimizer1.zero_grad()\n",
        "  loss=torch.mean(c.cost(X,modelu(X))+ g_term.cost(update(X,modelu(X))))#\n",
        "  loss.backward()\n",
        "  optimizer1.step()\n",
        "  loss_epoch.append(loss)\n",
        "  if epoch>0:\n",
        "    L_ = loss_epoch[epoch-1]\n",
        "  if (epoch % 10==0):\n",
        "    print(\"At epoch {} the mean error is {}.\".format(epoch,loss.detach()))\n",
        "  epoch += 1"
      ],
      "metadata": {
        "colab": {
          "base_uri": "https://localhost:8080/"
        },
        "id": "mW-VGLvHXPH-",
        "outputId": "7f718ba6-06c0-4798-bce2-12925267a304"
      },
      "execution_count": 71,
      "outputs": [
        {
          "output_type": "stream",
          "name": "stdout",
          "text": [
            "At epoch 0 the mean error is 1.0927422046661377.\n",
            "At epoch 10 the mean error is 1.0454453229904175.\n",
            "At epoch 20 the mean error is 1.0091218948364258.\n",
            "At epoch 30 the mean error is 0.9836243987083435.\n",
            "At epoch 40 the mean error is 0.9674432873725891.\n",
            "At epoch 50 the mean error is 0.9582542777061462.\n",
            "At epoch 60 the mean error is 0.9536305665969849.\n",
            "At epoch 70 the mean error is 0.9515872001647949.\n",
            "At epoch 80 the mean error is 0.9508005976676941.\n",
            "At epoch 90 the mean error is 0.9505387544631958.\n",
            "At epoch 100 the mean error is 0.9504632949829102.\n"
          ]
        }
      ]
    },
    {
      "cell_type": "code",
      "source": [
        "# Z = torch.normal(0., 1., size=(M,1))\n",
        "# torch.set_printoptions(precision=10)\n",
        "# print(\"Test on new data: MSE = {}\".format(torch.mean(c.cost(Z,modelu(Z))+ g.cost(update(Z,modelu(Z))))))"
      ],
      "metadata": {
        "id": "4CdZEZCVrWSm"
      },
      "execution_count": 72,
      "outputs": []
    },
    {
      "cell_type": "code",
      "source": [
        "def test_update(x,u):\n",
        "  #Antithetic variables\n",
        "  N = torch.normal(0., 1., size=[x.shape[0],100000])\n",
        "  # M = torch.Tensor([0.1])*torch.normal(0., 1., size=[x.shape[0],100000]) - torch.Tensor([0.9])*N\n",
        "  return x + (-x+modelu(x))*Dt + torch.sqrt(Dt)*N#*torch.Tensor([0.5])*(M+N)\n",
        "def V(x, u):\n",
        "  return c.cost(x,u)*Dt+torch.mean(g_term.cost(test_update(x,u)),axis=1).unsqueeze(1)#c.cost(x,u)+torch.mean(g.cost(test_update(x,u))),"
      ],
      "metadata": {
        "id": "TdWBPRM6XxP8"
      },
      "execution_count": 73,
      "outputs": []
    },
    {
      "cell_type": "code",
      "source": [
        "x = torch.Tensor([0.0]).unsqueeze(1)\n",
        "u=torch.Tensor([[0.0]])\n",
        "test_update(x,u),c.cost(x,u)*Dt,torch.mean(g_term.cost(test_update(x,u)),axis=1).unsqueeze(1),torch.std(g_term.cost(test_update(x,u)),axis=1).unsqueeze(1),V(x,u)"
      ],
      "metadata": {
        "id": "gQVu00sgsq0i",
        "outputId": "f937959a-8bcb-473b-d64f-781506fa785f",
        "colab": {
          "base_uri": "https://localhost:8080/"
        }
      },
      "execution_count": 74,
      "outputs": [
        {
          "output_type": "execute_result",
          "data": {
            "text/plain": [
              "(tensor([[ 0.0338,  0.2067, -0.5066,  ...,  0.6955,  0.2512,  0.3198]],\n",
              "        grad_fn=<AddBackward0>),\n",
              " tensor([[0.]]),\n",
              " tensor([[0.0393]], grad_fn=<UnsqueezeBackward0>),\n",
              " tensor([[0.3214]], grad_fn=<UnsqueezeBackward0>),\n",
              " tensor([[0.0392]], grad_fn=<AddBackward0>))"
            ]
          },
          "metadata": {},
          "execution_count": 74
        }
      ]
    },
    {
      "cell_type": "code",
      "source": [
        "# xx = torch.linspace(-3.0,3.0,50).unsqueeze(1)\n",
        "# V(xx,modelu(xx)).shape"
      ],
      "metadata": {
        "id": "n-y--way_B01"
      },
      "execution_count": 75,
      "outputs": []
    },
    {
      "cell_type": "code",
      "source": [
        "xx = torch.linspace(-3.0,3.0,50).unsqueeze(1)\n",
        "yy = V(xx,modelu(xx))\n",
        "zz = g_term.cost(xx)\n",
        "plt.plot(xx.squeeze(1).detach().numpy(),yy.squeeze(1).detach().numpy(),label='V(T-1,x)');\n",
        "plt.plot(xx.squeeze(1).detach().numpy(),zz.squeeze(1).detach().numpy(),label='g(x)');\n",
        "plt.title(\"'Value function at T-Delta t'\");\n",
        "plt.legend();\n",
        "plt.savefig(path+'test for value'+stamp+'.png');"
      ],
      "metadata": {
        "id": "HxEnAPb3lg9r",
        "outputId": "74e1b217-0b99-4d87-c453-49b3452e13a4",
        "colab": {
          "base_uri": "https://localhost:8080/",
          "height": 452
        }
      },
      "execution_count": 76,
      "outputs": [
        {
          "output_type": "display_data",
          "data": {
            "text/plain": [
              "<Figure size 640x480 with 1 Axes>"
            ],
            "image/png": "[encoded data removed]"
          },
          "metadata": {}
        }
      ]
    },
    {
      "cell_type": "markdown",
      "source": [
        "# Object-oriented approach\n",
        "\n",
        "A neural net in torch is an object of type _*torch.nn.Module*_. We create a child of this object which includes the needed functions used in the training."
      ],
      "metadata": {
        "id": "r-m9HGAwlgSg"
      }
    },
    {
      "cell_type": "markdown",
      "source": [
        "## One-step"
      ],
      "metadata": {
        "id": "tRKKfEXlh9N_"
      }
    },
    {
      "cell_type": "code",
      "source": [
        "class one_step(nn.Module):\n",
        "    def __init__(self,terminal,flag):\n",
        "        super(one_step, self).__init__()\n",
        "        self.layer = torch.nn.Sequential()\n",
        "        self.layer.add_module(\"L1\",torch.nn.Linear(1, 16))\n",
        "        self.layer.add_module(\"Tanh\", torch.nn.Tanh())\n",
        "        self.layer.add_module(\"L2\",torch.nn.Linear(16,1))\n",
        "        self.flag = flag\n",
        "        self.M = 1000\n",
        "        self.N = torch.normal(0., 1., size=[self.M,1])\n",
        "        self.terminal = terminal\n",
        "        self.X = torch.normal(0., 1., size=(self.M,1))#traning set\n",
        "        self.Y = None\n",
        "    def forward(self, x):\n",
        "        val = self.layer(x)\n",
        "        return val\n",
        "    def loss(self):\n",
        "        #Antithetic variables\n",
        "        # M = torch.Tensor([0.1])*torch.normal(0., 1., size=[self.M,1]) - torch.Tensor([0.9])*N\n",
        "        update = self.X + (-self.X+self.forward(self.X))*Dt + torch.sqrt(Dt)*self.N#*torch.Tensor([0.5])*(M+N)\n",
        "        # print(\"update shape in loss\",update.shape)\n",
        "        return torch.mean(self.cost(self.X)+self.terminal(update))\n",
        "    def cost(self,x):#take a [N,1] tensor\n",
        "        return torch.Tensor([0.5])*torch.pow(x,2) + torch.Tensor([0.5])*torch.pow(self.forward(x),2)\n",
        "    def value(self):\n",
        "        update = (self.X + Dt*(-self.X+self.forward(self.X))).repeat([1,self.M]).unsqueeze(2) + torch.sqrt(Dt)*torch.normal(0., 1., size=[self.X.shape[0],self.M,1])\n",
        "        # print(\"update shape in loss\",update.shape)\n",
        "        self.Y = self.cost(self.X)*Dt+torch.mean(self.terminal(update),axis=1)"
      ],
      "metadata": {
        "id": "k0II3m4dCqyD"
      },
      "execution_count": 121,
      "outputs": []
    },
    {
      "cell_type": "code",
      "source": [
        "class terminal(nn.Module):\n",
        "    def __init__(self,flag,*args):\n",
        "        super(terminal, self).__init__()\n",
        "        self.layer = torch.nn.Sequential()\n",
        "        self.layer.add_module(\"L1\",torch.nn.Linear(1, 16))\n",
        "        self.layer.add_module(\"Tanh\", torch.nn.Tanh())\n",
        "        self.layer.add_module(\"L2\",torch.nn.Linear(16,1))\n",
        "        self.flag = flag\n",
        "    def forward(self, x):\n",
        "        if self.flag == 'T':\n",
        "            return torch.Tensor([0.5])*torch.pow(x,2)-x\n",
        "        else:\n",
        "            val = self.layer(x)\n",
        "            return val\n",
        "        return x"
      ],
      "metadata": {
        "id": "FYLj1w8DcJ_J"
      },
      "execution_count": 122,
      "outputs": []
    },
    {
      "cell_type": "code",
      "source": [
        "g = terminal('T')\n",
        "v = one_step(g,'')"
      ],
      "metadata": {
        "id": "OUI2R-NteZx7"
      },
      "execution_count": 123,
      "outputs": []
    },
    {
      "cell_type": "code",
      "source": [
        "v.value()"
      ],
      "metadata": {
        "id": "VZmy-1aZNUZe"
      },
      "execution_count": 124,
      "outputs": []
    },
    {
      "cell_type": "code",
      "source": [
        "# update1 = (v.X + Dt*(-v.X+v.forward(v.X))).repeat([1,v.M]).unsqueeze(2) + torch.sqrt(Dt)*torch.normal(0., 1., size=[v.X.shape[0],v.M,1])\n",
        "# # print(\"update shape in loss\",update.shape)\n",
        "# Y1 = v.cost(v.X)*Dt+torch.mean(v.terminal(update1),axis=1)"
      ],
      "metadata": {
        "id": "xLesEKY8dWBI"
      },
      "execution_count": 125,
      "outputs": []
    },
    {
      "cell_type": "code",
      "source": [
        "# update2 = (v.X + Dt*(-v.X+v.forward(v.X))).repeat([1,v.M]).unsqueeze(2) + torch.sqrt(Dt)*torch.normal(0., 1., size=[v.X.shape[0],v.M,1])\n",
        "# Y2 = v.cost(v.X)*Dt+torch.mean(v.terminal(update2),axis=1)\n",
        "# # update.shape, Y.shape"
      ],
      "metadata": {
        "id": "x29TtvYGam6Z"
      },
      "execution_count": 126,
      "outputs": []
    },
    {
      "cell_type": "code",
      "source": [
        "# dY = Y1-Y2\n",
        "# dU =torch.mean(v.terminal(update1),axis=1)- torch.mean(v.terminal(update2),axis=1)"
      ],
      "metadata": {
        "id": "ADPN2tXtQ1PA"
      },
      "execution_count": 127,
      "outputs": []
    },
    {
      "cell_type": "code",
      "source": [
        "loss_epoch = []\n",
        "num_epochs = 500\n",
        "lr = 1e-2\n",
        "optimizer1 = optim.Adam(v.parameters(), lr)\n",
        "L_ = torch.Tensor([-2.0])\n",
        "loss = torch.Tensor([2.0])\n",
        "epoch=0\n",
        "while (torch.abs(L_-loss)>1e-6) & (epoch <= num_epochs):# epoch in range(num_epochs):\n",
        "  optimizer1.zero_grad()\n",
        "  loss= v.loss()#self.cost(self.X,self.modelu(X))+ torch.mean(self.terminal(update(self.X,self.modelu(X))))#\n",
        "  loss.backward()\n",
        "  optimizer1.step()\n",
        "  loss_epoch.append(loss)\n",
        "  if epoch>0:\n",
        "    L_ = loss_epoch[epoch-1]\n",
        "  if (epoch % 10==0):\n",
        "    print(\"At epoch {} the mean error is {}.\".format(epoch,loss.detach()))\n",
        "  epoch += 1"
      ],
      "metadata": {
        "colab": {
          "base_uri": "https://localhost:8080/"
        },
        "id": "KdFN4B96PGAy",
        "outputId": "41bff055-56be-4cc2-d846-2eddf2abc074"
      },
      "execution_count": 128,
      "outputs": [
        {
          "output_type": "stream",
          "name": "stdout",
          "text": [
            "At epoch 0 the mean error is 1.0082746744155884.\n",
            "At epoch 10 the mean error is 0.8908730149269104.\n",
            "At epoch 20 the mean error is 0.8802144527435303.\n",
            "At epoch 30 the mean error is 0.880183756351471.\n",
            "At epoch 40 the mean error is 0.8780893683433533.\n",
            "At epoch 50 the mean error is 0.8781099915504456.\n",
            "At epoch 60 the mean error is 0.8780867457389832.\n",
            "At epoch 70 the mean error is 0.8779911398887634.\n",
            "At epoch 80 the mean error is 0.8779705762863159.\n"
          ]
        }
      ]
    },
    {
      "cell_type": "code",
      "source": [
        "plt.scatter(v.X.detach().numpy(),v.Y.detach().numpy(),label='Value from the code');\n",
        "# plt.scatter(v.X.detach().numpy(),v(v.X).detach().numpy(),label='control');\n",
        "# plt.scatter(v.X.detach().numpy(),v.terminal(v.X).detach().numpy(),label='value2');\n",
        "plt.scatter(v.X.detach().numpy(),g(v.X).detach().numpy(),label='terminal',marker='.');\n",
        "# plt.scatter(v.X.detach().numpy(),Y1.detach().numpy(),label='Value evaluated manually',marker='.');\n",
        "# plt.scatter(v.X.detach().numpy(),Y2.detach().numpy(),label='Value2',marker='.',s=0.2, color='k');\n",
        "# plt.scatter(v.X.detach().numpy(),dY.detach().numpy(),label='DY');\n",
        "# plt.scatter(v.X.detach().numpy(),dU.detach().numpy(),label='DU',marker='.');\n",
        "# plt.scatter(v.X.detach().numpy(),torch.mean(v.terminal(update1),axis=1).detach().numpy(),label='U1');\n",
        "# plt.scatter(v.X.detach().numpy(),torch.mean(v.terminal(update2),axis=1).detach().numpy(),label='U2');\n",
        "plt.legend();"
      ],
      "metadata": {
        "id": "5e4QEmzb1ZlI",
        "outputId": "8b20e460-4f1a-400c-b5b0-6bed502a898e",
        "colab": {
          "base_uri": "https://localhost:8080/",
          "height": 430
        }
      },
      "execution_count": 129,
      "outputs": [
        {
          "output_type": "display_data",
          "data": {
            "text/plain": [
              "<Figure size 640x480 with 1 Axes>"
            ],
            "image/png": "[encoded data removed]"
          },
          "metadata": {}
        }
      ]
    },
    {
      "cell_type": "code",
      "source": [
        "vval = terminal('')"
      ],
      "metadata": {
        "id": "Jzjisnmlg6R8"
      },
      "execution_count": 130,
      "outputs": []
    },
    {
      "cell_type": "code",
      "source": [
        "x = torch.linspace(-1,1,4).unsqueeze(1)\n",
        "vval(x)"
      ],
      "metadata": {
        "id": "dkDaWLRAWSij",
        "outputId": "a4a77962-6ea7-4d85-c9ce-66a16367aac4",
        "colab": {
          "base_uri": "https://localhost:8080/"
        }
      },
      "execution_count": 131,
      "outputs": [
        {
          "output_type": "execute_result",
          "data": {
            "text/plain": [
              "tensor([[ 0.5061],\n",
              "        [ 0.3512],\n",
              "        [ 0.1660],\n",
              "        [-0.0083]], grad_fn=<AddmmBackward0>)"
            ]
          },
          "metadata": {},
          "execution_count": 131
        }
      ]
    },
    {
      "cell_type": "code",
      "source": [
        "# for p in v.parameters():\n",
        "#     p.requires_grad = False"
      ],
      "metadata": {
        "id": "OjkgFN6bh41h"
      },
      "execution_count": 132,
      "outputs": []
    },
    {
      "cell_type": "code",
      "source": [
        "loss_epochv = []\n",
        "num_epochs = 1000\n",
        "lrv = 1e-2\n",
        "optimizerv = optim.Adam(vval.parameters(), lrv)\n",
        "L_ = torch.Tensor([-2.0])\n",
        "loss = torch.Tensor([2.0])\n",
        "epoch=0\n",
        "while (torch.abs(L_-loss)>1e-6) & (epoch <= num_epochs):# epoch in range(num_epochs):\n",
        "  optimizerv.zero_grad()\n",
        "  loss= torch.mean(torch.pow(vval(v.X.clone().detach())-v.Y.clone().detach(),2))#\n",
        "  loss.backward()\n",
        "  optimizerv.step()\n",
        "  loss_epochv.append(loss)\n",
        "  if epoch>0:\n",
        "    L_ = loss_epochv[epoch-1]\n",
        "  if (epoch % 10==0):\n",
        "    print(\"At epoch {} the mean error is {}.\".format(epoch,loss.detach()))\n",
        "  epoch += 1"
      ],
      "metadata": {
        "id": "mNCFd_5ThCD8",
        "outputId": "d0db4f55-9ece-4407-d080-a2713c7c0028",
        "colab": {
          "base_uri": "https://localhost:8080/"
        }
      },
      "execution_count": 133,
      "outputs": [
        {
          "output_type": "stream",
          "name": "stdout",
          "text": [
            "At epoch 0 the mean error is 0.9252443313598633.\n",
            "At epoch 10 the mean error is 0.5160282850265503.\n",
            "At epoch 20 the mean error is 0.46005192399024963.\n",
            "At epoch 30 the mean error is 0.3698795735836029.\n",
            "At epoch 40 the mean error is 0.30051329731941223.\n",
            "At epoch 50 the mean error is 0.23536895215511322.\n",
            "At epoch 60 the mean error is 0.17954044044017792.\n",
            "At epoch 70 the mean error is 0.1378997564315796.\n",
            "At epoch 80 the mean error is 0.11014258861541748.\n",
            "At epoch 90 the mean error is 0.09240507334470749.\n",
            "At epoch 100 the mean error is 0.07991109043359756.\n",
            "At epoch 110 the mean error is 0.07033183425664902.\n",
            "At epoch 120 the mean error is 0.0626906156539917.\n",
            "At epoch 130 the mean error is 0.05640959367156029.\n",
            "At epoch 140 the mean error is 0.05117195099592209.\n",
            "At epoch 150 the mean error is 0.04674265906214714.\n",
            "At epoch 160 the mean error is 0.04293078929185867.\n",
            "At epoch 170 the mean error is 0.03960350528359413.\n",
            "At epoch 180 the mean error is 0.03666394576430321.\n",
            "At epoch 190 the mean error is 0.034040313214063644.\n",
            "At epoch 200 the mean error is 0.03167925775051117.\n",
            "At epoch 210 the mean error is 0.029541151598095894.\n",
            "At epoch 220 the mean error is 0.027596304193139076.\n",
            "At epoch 230 the mean error is 0.025821853429079056.\n",
            "At epoch 240 the mean error is 0.024199562147259712.\n",
            "At epoch 250 the mean error is 0.022714275866746902.\n",
            "At epoch 260 the mean error is 0.021352890878915787.\n",
            "At epoch 270 the mean error is 0.020103847607970238.\n",
            "At epoch 280 the mean error is 0.018956666812300682.\n",
            "At epoch 290 the mean error is 0.017901789397001266.\n",
            "At epoch 300 the mean error is 0.01693045347929001.\n",
            "At epoch 310 the mean error is 0.016034608706831932.\n",
            "At epoch 320 the mean error is 0.015206896699965.\n",
            "At epoch 330 the mean error is 0.01444063801318407.\n",
            "At epoch 340 the mean error is 0.0137297622859478.\n",
            "At epoch 350 the mean error is 0.013068805448710918.\n",
            "At epoch 360 the mean error is 0.01245285477489233.\n",
            "At epoch 370 the mean error is 0.011877486482262611.\n",
            "At epoch 380 the mean error is 0.011338734067976475.\n",
            "At epoch 390 the mean error is 0.010833043605089188.\n",
            "At epoch 400 the mean error is 0.010357237420976162.\n",
            "At epoch 410 the mean error is 0.009908463805913925.\n",
            "At epoch 420 the mean error is 0.009484197944402695.\n",
            "At epoch 430 the mean error is 0.009082194417715073.\n",
            "At epoch 440 the mean error is 0.008700479753315449.\n",
            "At epoch 450 the mean error is 0.008337302133440971.\n",
            "At epoch 460 the mean error is 0.007991130463778973.\n",
            "At epoch 470 the mean error is 0.007660604547709227.\n",
            "At epoch 480 the mean error is 0.007344532757997513.\n",
            "At epoch 490 the mean error is 0.00704185338690877.\n",
            "At epoch 500 the mean error is 0.0067516197450459.\n",
            "At epoch 510 the mean error is 0.006472996901720762.\n",
            "At epoch 520 the mean error is 0.006205232813954353.\n",
            "At epoch 530 the mean error is 0.005947658326476812.\n",
            "At epoch 540 the mean error is 0.0056996773928403854.\n",
            "At epoch 550 the mean error is 0.005460779648274183.\n",
            "At epoch 560 the mean error is 0.005230509210377932.\n",
            "At epoch 570 the mean error is 0.0050084772519767284.\n",
            "At epoch 580 the mean error is 0.004794364329427481.\n",
            "At epoch 590 the mean error is 0.004587907809764147.\n",
            "At epoch 600 the mean error is 0.004388892091810703.\n",
            "At epoch 610 the mean error is 0.004197153262794018.\n",
            "At epoch 620 the mean error is 0.004012570716440678.\n",
            "At epoch 630 the mean error is 0.003835054347291589.\n",
            "At epoch 640 the mean error is 0.003664536401629448.\n",
            "At epoch 650 the mean error is 0.003500956343486905.\n",
            "At epoch 660 the mean error is 0.003344263881444931.\n",
            "At epoch 670 the mean error is 0.0031944008078426123.\n",
            "At epoch 680 the mean error is 0.003051290288567543.\n",
            "At epoch 690 the mean error is 0.0029148433823138475.\n",
            "At epoch 700 the mean error is 0.0027849397156387568.\n",
            "At epoch 710 the mean error is 0.002661441219970584.\n",
            "At epoch 720 the mean error is 0.0025441735051572323.\n",
            "At epoch 730 the mean error is 0.0024329531006515026.\n",
            "At epoch 740 the mean error is 0.002327569527551532.\n",
            "At epoch 750 the mean error is 0.0022277897223830223.\n",
            "At epoch 760 the mean error is 0.0021333794575184584.\n",
            "At epoch 770 the mean error is 0.0020440875086933374.\n",
            "At epoch 780 the mean error is 0.0019596645142883062.\n",
            "At epoch 790 the mean error is 0.0018798582023009658.\n",
            "At epoch 800 the mean error is 0.0018044218886643648.\n",
            "At epoch 810 the mean error is 0.0017331111012026668.\n",
            "At epoch 820 the mean error is 0.0016656923107802868.\n",
            "At epoch 830 the mean error is 0.0016019390895962715.\n",
            "At epoch 840 the mean error is 0.0015416383976116776.\n",
            "At epoch 850 the mean error is 0.0014845805708318949.\n",
            "At epoch 860 the mean error is 0.0014305722434073687.\n",
            "At epoch 870 the mean error is 0.0013794334372505546.\n",
            "At epoch 880 the mean error is 0.001330987666733563.\n",
            "At epoch 890 the mean error is 0.0012850739294663072.\n",
            "At epoch 900 the mean error is 0.0012415361125022173.\n",
            "At epoch 910 the mean error is 0.001200231839902699.\n",
            "At epoch 920 the mean error is 0.0011610263027250767.\n",
            "At epoch 930 the mean error is 0.0011237880680710077.\n",
            "At epoch 940 the mean error is 0.00108840293250978.\n",
            "At epoch 950 the mean error is 0.001054756692610681.\n",
            "At epoch 960 the mean error is 0.0010227450402453542.\n",
            "At epoch 970 the mean error is 0.0009922689059749246.\n",
            "At epoch 980 the mean error is 0.0009632374858483672.\n",
            "At epoch 990 the mean error is 0.0009355611400678754.\n",
            "At epoch 1000 the mean error is 0.000909163209144026.\n"
          ]
        }
      ]
    },
    {
      "cell_type": "code",
      "source": [
        "xx = torch.linspace(-1.0,3.0,100).unsqueeze(1)\n",
        "update = (xx + Dt*(-xx+v.forward(xx))).repeat([1,1000]).unsqueeze(2) + torch.sqrt(Dt)*torch.normal(0., 1., size=[xx.shape[0],v.M,1])\n",
        "yy = v.cost(xx)*Dt+torch.mean(v.terminal(update),axis=1)\n",
        "zz = vval(xx)\n",
        "plt.plot(xx.squeeze(1).detach().numpy(),yy.squeeze(1).detach().numpy(),label='V(T-1,x) not object',marker='.');\n",
        "plt.plot(xx.squeeze(1).detach().numpy(),zz.squeeze(1).detach().numpy(),label='V(T-1,x) object');\n",
        "plt.title(\"Value function at T-\\Delta t\");\n",
        "plt.legend();\n",
        "plt.savefig(path+'test for value'+stamp+'.png');"
      ],
      "metadata": {
        "id": "T43rK1JieUWp",
        "outputId": "7e6ee37a-b319-42d1-ee82-bd39664e3ca6",
        "colab": {
          "base_uri": "https://localhost:8080/",
          "height": 452
        }
      },
      "execution_count": 134,
      "outputs": [
        {
          "output_type": "display_data",
          "data": {
            "text/plain": [
              "<Figure size 640x480 with 1 Axes>"
            ],
            "image/png": "[encoded data removed]"
          },
          "metadata": {}
        }
      ]
    },
    {
      "cell_type": "markdown",
      "source": [
        "## Two-step"
      ],
      "metadata": {
        "id": "HQI-rsqSiGQ-"
      }
    },
    {
      "cell_type": "code",
      "source": [
        "class two_step(nn.Module):\n",
        "    def __init__(self,terminal,flag):\n",
        "        super(two_step, self).__init__()\n",
        "        self.layer = torch.nn.Sequential()\n",
        "        self.layer.add_module(\"L1\",torch.nn.Linear(1, 16))\n",
        "        self.layer.add_module(\"Tanh\", torch.nn.Tanh())\n",
        "        self.layer.add_module(\"L2\",torch.nn.Linear(16,1))\n",
        "        self.flag = flag\n",
        "        self.M = 100\n",
        "        self.num_steps = 2\n",
        "        self.N = torch.normal(0., 1., size=[self.M,self.num_steps])\n",
        "        self.terminal = terminal\n",
        "        self.X = torch.normal(0., 1., size=(self.M,1))#traning set\n",
        "        self.Y = None\n",
        "    def forward(self, x):\n",
        "        val = self.layer(x)\n",
        "        return val\n",
        "    def loss(self):\n",
        "        #Antithetic variables\n",
        "        # M = torch.Tensor([0.1])*torch.normal(0., 1., size=[self.M,1]) - torch.Tensor([0.9])*N\n",
        "        update = self.X\n",
        "        cost = 0\n",
        "        for i in range(0,self.num_steps):\n",
        "            cost +=  self.cost(update)\n",
        "            # print(update.shape,self.N[:,i].shape)\n",
        "            update += (-update+self.forward(update))*Dt + torch.sqrt(Dt)*self.N[:,i].unsqueeze(1)\n",
        "        # print(\"update shape in loss\",update.shape)\n",
        "        return torch.mean(cost*Dt+self.terminal(update))\n",
        "    def cost(self,x):#take a [N,1] tensor\n",
        "        return torch.Tensor([0.5])*torch.pow(x,2) + torch.Tensor([0.5])*torch.pow(self.forward(x),2)\n",
        "    def value(self):# to evaluate value function through conditional expectation\n",
        "        update = self.X.repeat([1,self.M]).unsqueeze(2)\n",
        "        cost = 0\n",
        "        for i in range(0,self.num_steps):\n",
        "            cost +=  self.cost(update)\n",
        "            update += (Dt*(-update+self.forward(update))) + torch.sqrt(Dt)*torch.normal(0., 1., size=[self.X.shape[0],self.M,1])\n",
        "        # print(\"update shape in loss\",update.shape)\n",
        "        self.Y = torch.mean(cost*Dt+self.terminal(update),axis=1)"
      ],
      "metadata": {
        "id": "bnapNc3rf26o"
      },
      "execution_count": 140,
      "outputs": []
    },
    {
      "cell_type": "code",
      "source": [
        "v2 = two_step(g,'')\n",
        "v2.value()"
      ],
      "metadata": {
        "id": "arVD0owsiSYM"
      },
      "execution_count": 141,
      "outputs": []
    },
    {
      "cell_type": "code",
      "source": [
        "torch.autograd.set_detect_anomaly(True)"
      ],
      "metadata": {
        "colab": {
          "base_uri": "https://localhost:8080/"
        },
        "id": "i_O95kDKki9s",
        "outputId": "06d5ad8e-7ebd-4ace-aaea-52b269e89fb4"
      },
      "execution_count": 144,
      "outputs": [
        {
          "output_type": "execute_result",
          "data": {
            "text/plain": [
              "<torch.autograd.anomaly_mode.set_detect_anomaly at 0x7a7aefb81180>"
            ]
          },
          "metadata": {},
          "execution_count": 144
        }
      ]
    },
    {
      "cell_type": "code",
      "source": [
        "loss_epoch = []\n",
        "num_epochs = 100\n",
        "lr = 1e-2\n",
        "optimizer2 = optim.Adam(v2.parameters(), lr)\n",
        "L_ = torch.Tensor([-2.0])\n",
        "loss = torch.Tensor([2.0])\n",
        "epoch=0\n",
        "while (torch.abs(L_-loss)>1e-6) & (epoch <= num_epochs):# epoch in range(num_epochs):\n",
        "  optimizer2.zero_grad()\n",
        "  loss= v2.loss()#self.cost(self.X,self.modelu(X))+ torch.mean(self.terminal(update(self.X,self.modelu(X))))#\n",
        "  loss.backward()\n",
        "  optimizer2.step()\n",
        "  loss_epoch.append(loss)\n",
        "  if epoch>0:\n",
        "    L_ = loss_epoch[epoch-1]\n",
        "  if (epoch % 10==0):\n",
        "    print(\"At epoch {} the mean error is {}.\".format(epoch,loss.detach()))\n",
        "  epoch += 1"
      ],
      "metadata": {
        "colab": {
          "base_uri": "https://localhost:8080/",
          "height": 512
        },
        "id": "r_6Swd47iUjw",
        "outputId": "f6c12df4-ea26-4cb7-e37c-1b2bb3ab1b18"
      },
      "execution_count": 143,
      "outputs": [
        {
          "output_type": "error",
          "ename": "RuntimeError",
          "evalue": "ignored",
          "traceback": [
            "\u001b[0;31m---------------------------------------------------------------------------\u001b[0m",
            "\u001b[0;31mRuntimeError\u001b[0m                              Traceback (most recent call last)",
            "\u001b[0;32m<ipython-input-143-6654a2eaa320>\u001b[0m in \u001b[0;36m<cell line: 8>\u001b[0;34m()\u001b[0m\n\u001b[1;32m      9\u001b[0m   \u001b[0moptimizer2\u001b[0m\u001b[0;34m.\u001b[0m\u001b[0mzero_grad\u001b[0m\u001b[0;34m(\u001b[0m\u001b[0;34m)\u001b[0m\u001b[0;34m\u001b[0m\u001b[0;34m\u001b[0m\u001b[0m\n\u001b[1;32m     10\u001b[0m   \u001b[0mloss\u001b[0m\u001b[0;34m=\u001b[0m \u001b[0mv2\u001b[0m\u001b[0;34m.\u001b[0m\u001b[0mloss\u001b[0m\u001b[0;34m(\u001b[0m\u001b[0;34m)\u001b[0m\u001b[0;31m#self.cost(self.X,self.modelu(X))+ torch.mean(self.terminal(update(self.X,self.modelu(X))))#\u001b[0m\u001b[0;34m\u001b[0m\u001b[0;34m\u001b[0m\u001b[0m\n\u001b[0;32m---> 11\u001b[0;31m   \u001b[0mloss\u001b[0m\u001b[0;34m.\u001b[0m\u001b[0mbackward\u001b[0m\u001b[0;34m(\u001b[0m\u001b[0;34m)\u001b[0m\u001b[0;34m\u001b[0m\u001b[0;34m\u001b[0m\u001b[0m\n\u001b[0m\u001b[1;32m     12\u001b[0m   \u001b[0moptimizer2\u001b[0m\u001b[0;34m.\u001b[0m\u001b[0mstep\u001b[0m\u001b[0;34m(\u001b[0m\u001b[0;34m)\u001b[0m\u001b[0;34m\u001b[0m\u001b[0;34m\u001b[0m\u001b[0m\n\u001b[1;32m     13\u001b[0m   \u001b[0mloss_epoch\u001b[0m\u001b[0;34m.\u001b[0m\u001b[0mappend\u001b[0m\u001b[0;34m(\u001b[0m\u001b[0mloss\u001b[0m\u001b[0;34m)\u001b[0m\u001b[0;34m\u001b[0m\u001b[0;34m\u001b[0m\u001b[0m\n",
            "\u001b[0;32m/usr/local/lib/python3.10/dist-packages/torch/_tensor.py\u001b[0m in \u001b[0;36mbackward\u001b[0;34m(self, gradient, retain_graph, create_graph, inputs)\u001b[0m\n\u001b[1;32m    490\u001b[0m                 \u001b[0minputs\u001b[0m\u001b[0;34m=\u001b[0m\u001b[0minputs\u001b[0m\u001b[0;34m,\u001b[0m\u001b[0;34m\u001b[0m\u001b[0;34m\u001b[0m\u001b[0m\n\u001b[1;32m    491\u001b[0m             )\n\u001b[0;32m--> 492\u001b[0;31m         torch.autograd.backward(\n\u001b[0m\u001b[1;32m    493\u001b[0m             \u001b[0mself\u001b[0m\u001b[0;34m,\u001b[0m \u001b[0mgradient\u001b[0m\u001b[0;34m,\u001b[0m \u001b[0mretain_graph\u001b[0m\u001b[0;34m,\u001b[0m \u001b[0mcreate_graph\u001b[0m\u001b[0;34m,\u001b[0m \u001b[0minputs\u001b[0m\u001b[0;34m=\u001b[0m\u001b[0minputs\u001b[0m\u001b[0;34m\u001b[0m\u001b[0;34m\u001b[0m\u001b[0m\n\u001b[1;32m    494\u001b[0m         )\n",
            "\u001b[0;32m/usr/local/lib/python3.10/dist-packages/torch/autograd/__init__.py\u001b[0m in \u001b[0;36mbackward\u001b[0;34m(tensors, grad_tensors, retain_graph, create_graph, grad_variables, inputs)\u001b[0m\n\u001b[1;32m    249\u001b[0m     \u001b[0;31m# some Python versions print out the first line of a multi-line function\u001b[0m\u001b[0;34m\u001b[0m\u001b[0;34m\u001b[0m\u001b[0m\n\u001b[1;32m    250\u001b[0m     \u001b[0;31m# calls in the traceback and some print out the last line\u001b[0m\u001b[0;34m\u001b[0m\u001b[0;34m\u001b[0m\u001b[0m\n\u001b[0;32m--> 251\u001b[0;31m     Variable._execution_engine.run_backward(  # Calls into the C++ engine to run the backward pass\n\u001b[0m\u001b[1;32m    252\u001b[0m         \u001b[0mtensors\u001b[0m\u001b[0;34m,\u001b[0m\u001b[0;34m\u001b[0m\u001b[0;34m\u001b[0m\u001b[0m\n\u001b[1;32m    253\u001b[0m         \u001b[0mgrad_tensors_\u001b[0m\u001b[0;34m,\u001b[0m\u001b[0;34m\u001b[0m\u001b[0;34m\u001b[0m\u001b[0m\n",
            "\u001b[0;31mRuntimeError\u001b[0m: one of the variables needed for gradient computation has been modified by an inplace operation: [torch.FloatTensor [100, 1]], which is output 0 of AddBackward0, is at version 2; expected version 1 instead. Hint: enable anomaly detection to find the operation that failed to compute its gradient, with torch.autograd.set_detect_anomaly(True)."
          ]
        }
      ]
    },
    {
      "cell_type": "code",
      "source": [
        "v2.value()\n",
        "plt.scatter(v.X.detach().numpy(),v2.Y.detach().numpy(),label='Value from the code');\n",
        "plt.scatter(v.X.detach().numpy(),g(v.X).detach().numpy(),label='terminal',marker='.');\n",
        "plt.legend();"
      ],
      "metadata": {
        "colab": {
          "base_uri": "https://localhost:8080/",
          "height": 430
        },
        "id": "OKqzmWfxituc",
        "outputId": "fd49d05a-bde0-4952-d522-a2f65e5e3066"
      },
      "execution_count": 97,
      "outputs": [
        {
          "output_type": "display_data",
          "data": {
            "text/plain": [
              "<Figure size 640x480 with 1 Axes>"
            ],
            "image/png": "[encoded data removed]"
          },
          "metadata": {}
        }
      ]
    },
    {
      "cell_type": "markdown",
      "source": [
        "# Conditional expectation"
      ],
      "metadata": {
        "id": "lpZBXu0JjVsM"
      }
    },
    {
      "cell_type": "markdown",
      "source": [
        "To evaluate $\\mathbb{E}[c(t,x,u)+\\phi(x,\\xi)]$ in Step 1, we need to create a module that evaluate expected value using a set of samples of $\\xi$.\n",
        "Such module must evaluate the expected value a a function of $x$. To do this, we use the following two wellknown theorems about conditional expectation\n",
        "\n",
        "\n",
        "  1) If $X$ and $\\xi$ are independent, then $\\mathbb{E}[\\phi(X,\\xi)|X]= \\Phi(X)$, where $\\Phi(x)=\\mathbb{E}[\\phi(x,\\xi)]$.\n",
        "\n",
        "  2) $\\mathbb{E}[Y|X]=f(X)$, where $f(x)$ is the minimizer of $\\mathbb{E}[(Y-f(X))^2]$.\n",
        "\n"
      ],
      "metadata": {
        "id": "SFst5aYlrH6e"
      }
    },
    {
      "cell_type": "markdown",
      "source": [
        "## Neural network approximation of conditional expectation\n",
        "\n",
        "$\\inf_{\\theta}\\mathbb{E}[(Y-\\phi(X;\\theta))^2]$\n",
        "\n",
        "and $\\phi(x;\\theta)$ is a neural network with parameter $\\theta$."
      ],
      "metadata": {
        "id": "Qws0AvGLMa9s"
      }
    },
    {
      "cell_type": "markdown",
      "source": [
        "## Test examples using neural networks\n",
        "\n",
        "Let's write a module that takes samples of $(X,Y)$ and returns $\\mathbb{E}[Y|X=x]$\n",
        "\n",
        "Example: $X$ standard normal and $Y=e^{-X}+e^X\\xi$ where $\\xi$ is standard normal independent of $X$. We know $\\mathbb{E}[Y|X]=e^{-X}$."
      ],
      "metadata": {
        "id": "QYB5z0mjOTxj"
      }
    },
    {
      "cell_type": "code",
      "source": [
        "#hyperparameters for learning\n",
        "lr = 1e-3\n",
        "num_epochs = 10000\n",
        "torch.set_printoptions(precision=10)\n",
        "loss_epoch = torch.zeros(num_epochs)"
      ],
      "metadata": {
        "id": "wzxOkxtppJyK"
      },
      "execution_count": 40,
      "outputs": []
    },
    {
      "cell_type": "code",
      "source": [
        "def loss_fun(y,x,model):# y :samples for $Y$, x: samples for x, model: nn\n",
        "  return torch.mean(torch.pow(model(x)-y,2))\n"
      ],
      "metadata": {
        "id": "GT4QGv1xRECt"
      },
      "execution_count": 41,
      "outputs": []
    },
    {
      "cell_type": "code",
      "source": [
        "'''conditional expectation of X[1,:] given X[0,:] in for of trained model'''\n",
        "def cond_expect(data, model):\n",
        "  optimizer = optim.Adam(model.parameters(), lr)\n",
        "  L_ = torch.Tensor([-2.0])\n",
        "  loss = torch.Tensor([2.0])\n",
        "  epoch=0\n",
        "  while (torch.abs(L_-loss)>1e-6) & (epoch <= num_epochs):# epoch in range(num_epochs):\n",
        "    optimizer.zero_grad()\n",
        "    loss=loss_fun(data[:,1].unsqueeze(1),data[:,0].unsqueeze(1),model)# Y=data[:,1], X=data[:,0]\n",
        "    loss.backward()\n",
        "    optimizer.step()\n",
        "    loss_epoch[epoch] = loss\n",
        "    if epoch>0:\n",
        "      L_ = loss_epoch[epoch-1]\n",
        "    if (epoch % 100==0):\n",
        "      print(\"At epoch {} the mean error is {}.\".format(epoch,loss.detach()))\n",
        "    epoch += 1\n"
      ],
      "metadata": {
        "id": "dokXzWTCjXh1"
      },
      "execution_count": 51,
      "outputs": []
    },
    {
      "cell_type": "code",
      "source": [
        "# increase neurons\n",
        "model3= torch.nn.Sequential(\n",
        "    torch.nn.Linear(1, 16),\n",
        "    torch.nn.Tanh(),\n",
        "    # torch.nn.Sigmoid(),\n",
        "    # torch.nn.ReLU(),\n",
        "    torch.nn.Linear(16,1)\n",
        ")"
      ],
      "metadata": {
        "id": "fX4l4l3_pD45"
      },
      "execution_count": 43,
      "outputs": []
    },
    {
      "cell_type": "code",
      "source": [
        "data = torch.cat((X,Y),dim=1)\n",
        "cond_expect(data,model3)\n"
      ],
      "metadata": {
        "id": "XCrDFmdDrNFA",
        "colab": {
          "base_uri": "https://localhost:8080/"
        },
        "outputId": "d8b1987a-0170-4643-cf73-f1dc72f9f73a"
      },
      "execution_count": 44,
      "outputs": [
        {
          "output_type": "stream",
          "name": "stdout",
          "text": [
            "At epoch 0 the mean error is 14.38145637512207.\n",
            "At epoch 100 the mean error is 13.252371788024902.\n",
            "At epoch 200 the mean error is 13.09913158416748.\n",
            "At epoch 300 the mean error is 13.083439826965332.\n"
          ]
        }
      ]
    },
    {
      "cell_type": "code",
      "source": [
        "Z = torch.normal(0., 1., size=(M,1))\n",
        "W = torch.exp(-Z)+torch.exp(Z)*torch.normal(0., 1., size=(M,1))\n",
        "torch.set_printoptions(precision=10)\n",
        "print(\"Test on new data: MSE = {}\".format(loss_fun(W,Z,model3)))"
      ],
      "metadata": {
        "colab": {
          "base_uri": "https://localhost:8080/"
        },
        "outputId": "4fb29d7b-98c6-49af-9397-2099e43fe6fc",
        "id": "8ZJDvbgZsUyl"
      },
      "execution_count": 45,
      "outputs": [
        {
          "output_type": "stream",
          "name": "stdout",
          "text": [
            "Test on new data: MSE = 12.280806541442871\n"
          ]
        }
      ]
    },
    {
      "cell_type": "code",
      "source": [
        "xx = torch.linspace(-2,2,600)\n",
        "yy = model3(xx.unsqueeze(1))\n",
        "plt.plot(xx.detach().numpy(),yy.detach().numpy(), label='approximation');\n",
        "plt.plot(xx.detach().numpy(),np.exp(-xx.detach().numpy()), label='analytical');\n",
        "plt.title(\"Comparison with analytical solution\");\n",
        "plt.legend();\n",
        "plt.savefig(path+'test for model3'+stamp+'.png');"
      ],
      "metadata": {
        "outputId": "299b4810-551a-43c9-f645-b1819f47ee94",
        "colab": {
          "base_uri": "https://localhost:8080/",
          "height": 452
        },
        "id": "jckqYPR3sUyt"
      },
      "execution_count": 46,
      "outputs": [
        {
          "output_type": "display_data",
          "data": {
            "text/plain": [
              "<Figure size 640x480 with 1 Axes>"
            ],
            "image/png": "[encoded data removed]"
          },
          "metadata": {}
        }
      ]
    },
    {
      "cell_type": "markdown",
      "source": [
        "### **Evaluation of conditional expectation using deep learning is cool and all, but it is slow and causes some issue while training the neural net for the control. Therefore, we have to change our approach.**"
      ],
      "metadata": {
        "id": "134ven_1W9DT"
      }
    },
    {
      "cell_type": "markdown",
      "source": [
        "# Scratch coding"
      ],
      "metadata": {
        "id": "Xy1Vh3uFWk_I"
      }
    },
    {
      "cell_type": "markdown",
      "source": [
        "##########################################"
      ],
      "metadata": {
        "id": "wjwFszuSWlOd"
      }
    },
    {
      "cell_type": "code",
      "source": [
        "#hyperparameters for learning\n",
        "lr = 1e-3\n",
        "num_epochs = 1000\n",
        "torch.set_printoptions(precision=10)\n",
        "loss_epoch = torch.zeros(num_epochs)\n",
        "optimizer = optim.Adam(modelu.parameters(), lr)\n",
        "# scheduler = lr_scheduler.LinearLR(optimizer, start_factor=1e-1, end_factor=1e-5, total_iters=100)"
      ],
      "metadata": {
        "id": "hWKPMOQX09v3"
      },
      "execution_count": 47,
      "outputs": []
    },
    {
      "cell_type": "code",
      "source": [
        "'''conditional expectation of X[1,:] given X[0,:] in for of trained model'''\n",
        "def oneStep(data, model):\n",
        "  optimizer = optim.Adam(model.parameters(), lr)\n",
        "  L_ = torch.Tensor([-2.0])\n",
        "  loss = torch.Tensor([2.0])\n",
        "  epoch=0\n",
        "  while (torch.abs(L_-loss)>1e-4) & (epoch <= num_epochs):# epoch in range(num_epochs):\n",
        "    optimizer.zero_grad()\n",
        "    loss=loss_fun(data[:,1].unsqueeze(1),data[:,0].unsqueeze(1),model)# Y=data[:,1], X=data[:,0]\n",
        "    loss.backward()\n",
        "    optimizer.step()\n",
        "    loss_epoch[epoch] = loss\n",
        "    if epoch>0:\n",
        "      L_ = loss_epoch[epoch-1]\n",
        "    if (epoch % 100==0):\n",
        "      print(\"At epoch {} the mean error is {}.\".format(epoch,loss.detach()))\n",
        "    epoch += 1\n"
      ],
      "metadata": {
        "id": "82-zpr63R7D-"
      },
      "execution_count": 48,
      "outputs": []
    },
    {
      "cell_type": "code",
      "source": [
        "#saving the model\n",
        "torch.save(model1, path+\"model1_\"+str(stamp)+\".pt\")"
      ],
      "metadata": {
        "id": "ZPyyBKSL4ucg",
        "colab": {
          "base_uri": "https://localhost:8080/",
          "height": 193
        },
        "outputId": "a649ccba-95a7-4acf-c7fa-7d516c612700"
      },
      "execution_count": 49,
      "outputs": [
        {
          "output_type": "error",
          "ename": "NameError",
          "evalue": "ignored",
          "traceback": [
            "\u001b[0;31m---------------------------------------------------------------------------\u001b[0m",
            "\u001b[0;31mNameError\u001b[0m                                 Traceback (most recent call last)",
            "\u001b[0;32m<ipython-input-49-f53c7d22b8ee>\u001b[0m in \u001b[0;36m<cell line: 2>\u001b[0;34m()\u001b[0m\n\u001b[1;32m      1\u001b[0m \u001b[0;31m#saving the model\u001b[0m\u001b[0;34m\u001b[0m\u001b[0;34m\u001b[0m\u001b[0m\n\u001b[0;32m----> 2\u001b[0;31m \u001b[0mtorch\u001b[0m\u001b[0;34m.\u001b[0m\u001b[0msave\u001b[0m\u001b[0;34m(\u001b[0m\u001b[0mmodel1\u001b[0m\u001b[0;34m,\u001b[0m \u001b[0mpath\u001b[0m\u001b[0;34m+\u001b[0m\u001b[0;34m\"model1_\"\u001b[0m\u001b[0;34m+\u001b[0m\u001b[0mstr\u001b[0m\u001b[0;34m(\u001b[0m\u001b[0mstamp\u001b[0m\u001b[0;34m)\u001b[0m\u001b[0;34m+\u001b[0m\u001b[0;34m\".pt\"\u001b[0m\u001b[0;34m)\u001b[0m\u001b[0;34m\u001b[0m\u001b[0;34m\u001b[0m\u001b[0m\n\u001b[0m",
            "\u001b[0;31mNameError\u001b[0m: name 'model1' is not defined"
          ]
        }
      ]
    },
    {
      "cell_type": "code",
      "source": [
        "# write loss into a daraframe\n",
        "df_loss = pd.DataFrame([range(num_epochs), loss_epoch.detach().numpy()]).T\n",
        "df_loss.columns = ['Epoch','Loss']\n",
        "df_loss['Epoch'] = df_loss['Epoch'].astype('int64')\n",
        "df_loss.to_csv(path+\"run_model1_\"+str(stamp)+\".csv\",sep=\",\")"
      ],
      "metadata": {
        "id": "mwGcoKU9xYFS"
      },
      "execution_count": null,
      "outputs": []
    },
    {
      "cell_type": "code",
      "source": [
        "# testing\n",
        "Z = torch.normal(0., 1., size=(M,1))\n",
        "W = torch.exp(-Z)+torch.exp(Z)*torch.normal(0., 1., size=(M,1))\n",
        "torch.set_printoptions(precision=10)\n",
        "print(\"Test on new data: MSE = {}\".format(loss_fun(W,Z,model1)))"
      ],
      "metadata": {
        "id": "5uaufRfESx4c"
      },
      "execution_count": null,
      "outputs": []
    },
    {
      "cell_type": "code",
      "source": [
        "n = np.linspace(0,num_epochs,num_epochs)\n",
        "m = loss_epoch.detach().numpy()\n",
        "plt.plot(n,m);\n",
        "plt.title(\"Loss vs number of pochs in model1\");\n",
        "plt.savefig(path+'loss_vs_epoch_model1'+stamp+'.png');"
      ],
      "metadata": {
        "id": "DwpbR1fLSrf_"
      },
      "execution_count": null,
      "outputs": []
    },
    {
      "cell_type": "code",
      "source": [
        "xx = torch.linspace(-3,3,600)\n",
        "yy = model1(xx.unsqueeze(1))\n",
        "plt.plot(xx.detach().numpy(),yy.detach().numpy(), label='approximation');\n",
        "plt.plot(xx.detach().numpy(),np.exp(-xx.detach().numpy()), label='analytical');\n",
        "plt.title(\"Comparison with analytical solution\");\n",
        "plt.legend();\n",
        "plt.savefig(path+'test for model1'+stamp+'.png');"
      ],
      "metadata": {
        "id": "-Ny17ZLuVeoX"
      },
      "execution_count": null,
      "outputs": []
    },
    {
      "cell_type": "code",
      "source": [
        "def deriv(model,x):\n",
        "  x_ = x.clone().detach()\n",
        "  x_.requires_grad_(True)\n",
        "  u=model(x_)\n",
        "  return torch.autograd.grad(outputs=u, inputs=x_,grad_outputs=torch.ones_like(u),\n",
        "                           allow_unused=True,retain_graph=True,create_graph=True)[0]"
      ],
      "metadata": {
        "id": "f-aR_atMc4Wh"
      },
      "execution_count": null,
      "outputs": []
    },
    {
      "cell_type": "code",
      "source": [
        "xx = torch.linspace(-3,3,600)\n",
        "yy = deriv(model1,xx.unsqueeze(1))\n",
        "plt.plot(xx.detach().numpy(),yy.detach().numpy(), label='approximation');\n",
        "plt.plot(xx.detach().numpy(),-np.exp(-xx.detach().numpy()), label='analytical');\n",
        "plt.title(\"Comparison with analytical solution\");\n",
        "plt.legend();\n",
        "plt.savefig(path+'test for derivative  of model1'+stamp+'.png');"
      ],
      "metadata": {
        "id": "6JDRyWL4Y8fj"
      },
      "execution_count": null,
      "outputs": []
    },
    {
      "cell_type": "code",
      "source": [
        "# increase neurons\n",
        "model2= torch.nn.Sequential(\n",
        "    torch.nn.Linear(1, 16),\n",
        "    torch.nn.ReLU(),\n",
        "    # torch.nn.Linear(8, 8),\n",
        "    # torch.nn.ReLU(),\n",
        "    torch.nn.Linear(16,1)\n",
        ")"
      ],
      "metadata": {
        "id": "ckp-RKO29VnQ"
      },
      "execution_count": null,
      "outputs": []
    },
    {
      "cell_type": "code",
      "source": [
        "# create time stamp to save the result\n",
        "stamp = strftime('%Y-%m-%d %H:%M:%S', localtime())\n",
        "print(str(stamp))"
      ],
      "metadata": {
        "id": "HwczH1P79VnS"
      },
      "execution_count": null,
      "outputs": []
    },
    {
      "cell_type": "code",
      "source": [
        "#hyperparameters for learning\n",
        "optimizer = optim.Adam(model2.parameters(), lr)\n",
        "# scheduler = lr_scheduler.LinearLR(optimizer, start_factor=1e-1, end_factor=1e-5, total_iters=100)"
      ],
      "metadata": {
        "id": "viscjvNz9VnS"
      },
      "execution_count": null,
      "outputs": []
    },
    {
      "cell_type": "code",
      "source": [
        "for epoch in range(num_epochs):\n",
        "  optimizer.zero_grad()\n",
        "  loss=loss_fun(Y,X,model2)\n",
        "  loss.backward()\n",
        "  optimizer.step()\n",
        "  loss_epoch[epoch] = loss\n",
        "  # scheduler.step()\n",
        "  if (epoch % 1000==-1):\n",
        "    print(\"At epoch {} the mean error is {}.\".format(epoch,loss.detach()))\n"
      ],
      "metadata": {
        "id": "QqNzuZ1L9VnS"
      },
      "execution_count": null,
      "outputs": []
    },
    {
      "cell_type": "code",
      "source": [
        "#saving the model\n",
        "torch.save(model2, path+\"model2_\"+str(stamp)+\".pt\")"
      ],
      "metadata": {
        "id": "mGW5EHoZ9VnS"
      },
      "execution_count": null,
      "outputs": []
    },
    {
      "cell_type": "code",
      "source": [
        "# write loss into a daraframe\n",
        "df_loss = pd.DataFrame([range(num_epochs), loss_epoch.detach().numpy()]).T\n",
        "df_loss.columns = ['Epoch','Loss']\n",
        "df_loss['Epoch'] = df_loss['Epoch'].astype('int64')\n",
        "df_loss.to_csv(path+\"run_model2_\"+str(stamp)+\".csv\",sep=\",\")"
      ],
      "metadata": {
        "id": "VQLZeJjR9VnS"
      },
      "execution_count": null,
      "outputs": []
    },
    {
      "cell_type": "code",
      "source": [
        "Z = torch.normal(0., 1., size=(M,1))\n",
        "W = torch.exp(-Z)+torch.exp(Z)*torch.normal(0., 1., size=(M,1))\n",
        "torch.set_printoptions(precision=10)\n",
        "print(\"Test on new data: MSE = {}\".format(loss_fun(W,Z,model1)))"
      ],
      "metadata": {
        "id": "EAEUUahn9VnT"
      },
      "execution_count": null,
      "outputs": []
    },
    {
      "cell_type": "code",
      "source": [
        "import numpy as np\n",
        "import matplotlib.pyplot as plt\n",
        "n = np.linspace(0,num_epochs,num_epochs)\n",
        "m = loss_epoch.detach().numpy()\n",
        "plt.plot(n,m);\n",
        "plt.title(\"Loss vs number of epochs in model2\");\n",
        "plt.savefig(path+'loss_vs_epoch_model2'+stamp+'.png');"
      ],
      "metadata": {
        "id": "LyCJVN2Y9VnT"
      },
      "execution_count": null,
      "outputs": []
    },
    {
      "cell_type": "code",
      "source": [
        "xx = torch.linspace(-2,2,600)\n",
        "yy = model2(xx.unsqueeze(1))\n",
        "plt.plot(xx.detach().numpy(),yy.detach().numpy(), label='approximation');\n",
        "plt.plot(xx.detach().numpy(),np.exp(-xx.detach().numpy()), label='analytical');\n",
        "plt.title(\"Comparison with analytical solution\");\n",
        "plt.legend();\n",
        "plt.savefig(path+'test for model2'+stamp+'.png');"
      ],
      "metadata": {
        "id": "PW6OLwmt9VnT"
      },
      "execution_count": null,
      "outputs": []
    },
    {
      "cell_type": "code",
      "source": [
        "xx = torch.linspace(-3,3,600)\n",
        "yy = deriv(model2,xx.unsqueeze(1))\n",
        "plt.plot(xx.detach().numpy(),yy.detach().numpy(), label='approximation');\n",
        "plt.plot(xx.detach().numpy(),-np.exp(-xx.detach().numpy()), label='analytical');\n",
        "plt.title(\"Comparison with analytical solution\");\n",
        "plt.legend();\n",
        "plt.savefig(path+'test for derivative  of model2'+stamp+'.png');"
      ],
      "metadata": {
        "id": "3mxJvleweFr-"
      },
      "execution_count": null,
      "outputs": []
    },
    {
      "cell_type": "markdown",
      "source": [
        "## 1.2 Projectin method\n",
        "\n",
        "\n",
        "One trick to approximate $\\mathbb{E}[Y|X]=f(X)$ is to take the minimum over a smaller class of fuctions, e.g., $f(x)=\\sum_{k=1}^Ka_k\\phi_k(x)$, for a suitable set of functions $\\phi_k$. To evluate approximate $f$, we use a joint (unconditional) sample of $(X,Y)$, $\\{(x_j,y_j):j=i,...,J\\}$ to write\n",
        "\n",
        "$\\inf_{a_1,...,a_K}\\sum_{j=1}^J \\big(y_j-\\sum_{k=1}^Ka_k\\phi_k(x_j)\\big)^2$\n",
        "\n",
        "This is a quadratic minimization problem which has a unique solution. To find the minimizer, we take take derivative wrt $a_{k'}$ and set it to zero to obtain a linear system.\n",
        "\n",
        "$\\sum_{j=1}^J \\phi_{k'}(x_j)\\big(y_j-\\sum_{k=1}^Ka_k\\phi_k(x_j)\\big)=0$\n",
        "\n",
        "$\\sum_{k=1}^Ka_k\\sum_{j=1}^J\\phi_k(x_j)\\phi_{k'}(x_j) = \\sum_{j=1}^J \\phi_{k'}(x_j)y_j$\n",
        "\n",
        "or $Ma=b$ with\n",
        "\n",
        "$a=(a_1,...,a_K)^\\top$, $M=[m_{k'k}]$ with $m_{k'k}=\\sum_{j=1}^J\\phi_{k'}(x_j)\\phi_{k}(x_j)$, and $b=(b_1,...,b_K)^\\top$ with $b_k=\\sum_{j=1}^J\\phi_k(x_j)y_j$."
      ],
      "metadata": {
        "id": "053tEF-z6dyD"
      }
    },
    {
      "cell_type": "markdown",
      "source": [
        "## 1.3. Choosing basis $\\phi_k$\n",
        "\n",
        "It is useful to choose the basis $\\phi_k$ such that $m_{k'k}=0$ when $k'\\neq k$. Then, the linear system above takes no time to solve: $a_k=b_k/m_{kk}$. Sometimes this is done by using orthogonal polynomials. However, we propose a simpler solution: choose the basis such that $\\phi_k(x)$ and $\\phi_{k'}(x)$ have disjoint support. For instance, they are indicator functions of hypercubes.\n",
        " More detains of this method can be found in the paper [Monte-Carlo valuation of American options: facts and new algorithms to improve existing methods](https://www.ceremade.dauphine.fr/~bouchard/pdf/BW10.pdf)."
      ],
      "metadata": {
        "id": "GvmlYke0-cG-"
      }
    },
    {
      "cell_type": "markdown",
      "source": [
        "## 1.3. Simulationg samples of $(X_t,\\xi)$\n",
        "Let $\\xi$ be Gaussian, e.g., increment of Brownian motion, we can choose any distribution for $X_t$ independent of $\\xi$."
      ],
      "metadata": {
        "id": "k2kPNML4_kY2"
      }
    },
    {
      "cell_type": "markdown",
      "source": [
        "# Step 2 DPP\n",
        "Start the backward scheme by feeding $C(t,x,u)$ and $g(x)$ into the optimization module and obtain $V(T-1,x)$ over the range of simulated values for $X_{T-1}$.\n",
        "\n",
        "Repeat the process by feeding $C(t,x,u)$ and $V(t+1,x)$ into the optimization module to obtain $V(t,x)$.\n",
        "\n",
        "It is important to make sure the simulated samples of $X^u_{t+1}$ are well inside the range in which estimation of $V(t+1,x)$ is rather accurate/"
      ],
      "metadata": {
        "id": "HlNWVIImAJGE"
      }
    }
  ]
}